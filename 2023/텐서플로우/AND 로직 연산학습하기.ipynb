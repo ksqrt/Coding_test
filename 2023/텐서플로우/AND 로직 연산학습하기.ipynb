{
 "cells": [
  {
   "cell_type": "code",
   "execution_count": 14,
   "metadata": {},
   "outputs": [],
   "source": [
    "import tensorflow as tf\n",
    "from tensorflow import keras\n",
    "import numpy as np\n",
    "\n",
    "tf.random.set_seed(0)"
   ]
  },
  {
   "cell_type": "code",
   "execution_count": 15,
   "metadata": {},
   "outputs": [],
   "source": [
    "# AND 게이트의 input\n",
    "x_train = [[0, 0], [0, 1], [1, 0], [1, 1]]\n",
    "# AND 게이트으 output\n",
    "y_train = [[0], [0], [0], [1]]"
   ]
  },
  {
   "cell_type": "code",
   "execution_count": 16,
   "metadata": {},
   "outputs": [],
   "source": [
    "# 2. 모델 구성하기\n",
    "model = keras.Sequential([\n",
    "    # 1레이어 의 활성화 함수로 relu 사용 \n",
    "    keras.layers.Dense(units=3, input_shape=[2], activation='relu'),\n",
    "    # 2층\n",
    "    keras.layers.Dense(units=1)\n",
    "    ])\n"
   ]
  },
  {
   "cell_type": "code",
   "execution_count": 17,
   "metadata": {},
   "outputs": [],
   "source": [
    "# 모델의 손실함수, 옵티마이저 설정 옵티마이저는\n",
    "# 활성함수로 비선형적으로 만들어줌ㄴ\n",
    "\n",
    "model.compile(loss='mse', optimizer='Adam')"
   ]
  },
  {
   "cell_type": "code",
   "execution_count": 18,
   "metadata": {},
   "outputs": [
    {
     "name": "stdout",
     "output_type": "stream",
     "text": [
      "1/1 [==============================] - 0s 39ms/step\n",
      "Before Training: \n",
      " [[0.        ]\n",
      " [0.6210649 ]\n",
      " [0.06930891]\n",
      " [0.6721569 ]]\n",
      "1/1 [==============================] - 0s 19ms/step\n",
      "After Training: \n",
      " [[-0.00612798]\n",
      " [ 0.00896955]\n",
      " [ 0.00497075]\n",
      " [ 0.99055475]]\n"
     ]
    }
   ],
   "source": [
    "pred_before_training = model.predict(x_train)\n",
    "print('Before Training: \\n', pred_before_training)\n",
    "\n",
    "# 교육시키고 히스토리 저장\n",
    "history = model.fit(x_train, y_train, epochs=1000, verbose=0)\n",
    "\n",
    "pred_after_training = model.predict(x_train)\n",
    "print('After Training: \\n', pred_after_training)"
   ]
  },
  {
   "cell_type": "code",
   "execution_count": 20,
   "metadata": {},
   "outputs": [
    {
     "data": {
      "image/png": "[encoded data removed]",
      "text/plain": [
       "<Figure size 432x288 with 1 Axes>"
      ]
     },
     "metadata": {
      "needs_background": "light"
     },
     "output_type": "display_data"
    }
   ],
   "source": [
    "import matplotlib.pyplot as plt\n",
    "\n",
    "# 히스토리의 로스데이터 꺼내기\n",
    "loss = history.history['loss']\n",
    "plt.plot(loss)\n",
    "plt.xlabel('Epoch', labelpad=15)\n",
    "plt.ylabel('Loss', labelpad=15)\n",
    "\n",
    "plt.show()"
   ]
  }
 ],
 "metadata": {
  "kernelspec": {
   "display_name": "Python 3.9.6 64-bit",
   "language": "python",
   "name": "python3"
  },
  "language_info": {
   "codemirror_mode": {
    "name": "ipython",
    "version": 3
   },
   "file_extension": ".py",
   "mimetype": "text/x-python",
   "name": "python",
   "nbconvert_exporter": "python",
   "pygments_lexer": "ipython3",
   "version": "3.9.6"
  },
  "orig_nbformat": 4,
  "vscode": {
   "interpreter": {
    "hash": "d950e4c32f890777a2194dc028b8528d8e3afcac7bd351498ca8ab6e2e4e0199"
   }
  }
 },
 "nbformat": 4,
 "nbformat_minor": 2
}
