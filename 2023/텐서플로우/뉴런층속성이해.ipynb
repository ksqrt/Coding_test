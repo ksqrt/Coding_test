{
 "cells": [
  {
   "cell_type": "code",
   "execution_count": 23,
   "metadata": {},
   "outputs": [],
   "source": [
    "import tensorflow as tf\n",
    "\n",
    "tf.random.set_seed(0)\n"
   ]
  },
  {
   "cell_type": "code",
   "execution_count": 24,
   "metadata": {},
   "outputs": [],
   "source": [
    "# 인풋, 히든 ,아웃풋\n",
    "# 1. 뉴런층 만들기\n",
    "input_layer = tf.keras.layers.InputLayer(input_shape=(3,))\n",
    "# 노드의수와 활성함수 지정\n",
    "hidden_layer = tf.keras.layers.Dense(units=4, activation=\"relu\")\n",
    "output_layer = tf.keras.layers.Dense(units=2, activation=\"softmax\")"
   ]
  },
  {
   "cell_type": "code",
   "execution_count": 25,
   "metadata": {},
   "outputs": [],
   "source": [
    "# 뉴럴네트워크 모델 구성\n",
    "model = tf.keras.Sequential([input_layer,hidden_layer,output_layer])"
   ]
  },
  {
   "cell_type": "code",
   "execution_count": 26,
   "metadata": {},
   "outputs": [],
   "source": [
    "# 뉴럴 네트워크 모델 컴파일 및 손실함수 옵티마이저 추가\n",
    "model.compile(loss=\"mse\",optimizer=\"Adam\")"
   ]
  },
  {
   "cell_type": "code",
   "execution_count": 27,
   "metadata": {},
   "outputs": [
    {
     "name": "stdout",
     "output_type": "stream",
     "text": [
      "input_7 float32\n",
      "dense_8 float32\n",
      "dense_9 float32\n"
     ]
    }
   ],
   "source": [
    "print(input_layer.name, input_layer.dtype)\n",
    "print(hidden_layer.name, hidden_layer.dtype)\n",
    "print(output_layer.name, output_layer.dtype)"
   ]
  },
  {
   "cell_type": "code",
   "execution_count": 35,
   "metadata": {},
   "outputs": [
    {
     "name": "stdout",
     "output_type": "stream",
     "text": [
      "dense_8\n",
      "dense_9\n"
     ]
    }
   ],
   "source": [
    "# 입력층은 출력이 안되고 순서는 히든레이어부터 시작임\n",
    "print(model.layers[0].name)\n",
    "print(model.layers[1].name)\n",
    "# print(model.layers[2].name)"
   ]
  },
  {
   "cell_type": "code",
   "execution_count": 38,
   "metadata": {},
   "outputs": [
    {
     "name": "stdout",
     "output_type": "stream",
     "text": [
      "KerasTensor(type_spec=TensorSpec(shape=(None, 3), dtype=tf.float32, name='input_7'), name='input_7', description=\"created by layer 'input_7'\")\n",
      "KerasTensor(type_spec=TensorSpec(shape=(None, 3), dtype=tf.float32, name='input_7'), name='input_7', description=\"created by layer 'input_7'\")\n",
      "KerasTensor(type_spec=TensorSpec(shape=(None, 3), dtype=tf.float32, name='input_7'), name='input_7', description=\"created by layer 'input_7'\")\n",
      "KerasTensor(type_spec=TensorSpec(shape=(None, 4), dtype=tf.float32, name=None), name='dense_8/Relu:0', description=\"created by layer 'dense_8'\")\n",
      "KerasTensor(type_spec=TensorSpec(shape=(None, 4), dtype=tf.float32, name=None), name='dense_8/Relu:0', description=\"created by layer 'dense_8'\")\n",
      "KerasTensor(type_spec=TensorSpec(shape=(None, 2), dtype=tf.float32, name=None), name='dense_9/Softmax:0', description=\"created by layer 'dense_9'\")\n"
     ]
    }
   ],
   "source": [
    "# 각 레이어의 입출력을 확인해보기\n",
    "print(input_layer.input)\n",
    "print(input_layer.output)\n",
    "print(hidden_layer.input)\n",
    "print(hidden_layer.output)\n",
    "print(output_layer.input)\n",
    "print(output_layer.output)\n"
   ]
  },
  {
   "cell_type": "code",
   "execution_count": 40,
   "metadata": {},
   "outputs": [
    {
     "name": "stdout",
     "output_type": "stream",
     "text": [
      "<function relu at 0x00000176D4702A60>\n",
      "relu\n",
      "<function softmax at 0x00000176D4702040>\n",
      "softmax\n"
     ]
    }
   ],
   "source": [
    "print(hidden_layer.activation)\n",
    "print(hidden_layer.activation.__name__)\n",
    "print(output_layer.activation)\n",
    "print(output_layer.activation.__name__)"
   ]
  },
  {
   "cell_type": "code",
   "execution_count": 42,
   "metadata": {},
   "outputs": [
    {
     "name": "stdout",
     "output_type": "stream",
     "text": [
      "[<tf.Variable 'dense_8/kernel:0' shape=(3, 4) dtype=float32, numpy=\n",
      "array([[-0.3851872 , -0.54333335,  0.0655309 ,  0.1134268 ],\n",
      "       [-0.15428883,  0.5699866 , -0.01254469,  0.9223561 ],\n",
      "       [ 0.36428273, -0.6936733 ,  0.38850498,  0.30073535]],\n",
      "      dtype=float32)>, <tf.Variable 'dense_8/bias:0' shape=(4,) dtype=float32, numpy=array([0., 0., 0., 0.], dtype=float32)>]\n",
      "[<tf.Variable 'dense_9/kernel:0' shape=(4, 2) dtype=float32, numpy=\n",
      "array([[ 0.11082816, -0.55741405],\n",
      "       [ 0.7298498 ,  0.5545671 ],\n",
      "       [ 0.29023337,  0.0607245 ],\n",
      "       [-0.971118  ,  0.74701834]], dtype=float32)>, <tf.Variable 'dense_9/bias:0' shape=(2,) dtype=float32, numpy=array([0., 0.], dtype=float32)>]\n"
     ]
    }
   ],
   "source": [
    "print(hidden_layer.weights)\n",
    "print(output_layer.weights)"
   ]
  },
  {
   "cell_type": "code",
   "execution_count": 43,
   "metadata": {},
   "outputs": [
    {
     "name": "stdout",
     "output_type": "stream",
     "text": [
      "[array([[-0.3851872 , -0.54333335,  0.0655309 ,  0.1134268 ],\n",
      "       [-0.15428883,  0.5699866 , -0.01254469,  0.9223561 ],\n",
      "       [ 0.36428273, -0.6936733 ,  0.38850498,  0.30073535]],\n",
      "      dtype=float32), array([0., 0., 0., 0.], dtype=float32)]\n",
      "[array([[ 0.11082816, -0.55741405],\n",
      "       [ 0.7298498 ,  0.5545671 ],\n",
      "       [ 0.29023337,  0.0607245 ],\n",
      "       [-0.971118  ,  0.74701834]], dtype=float32), array([0., 0.], dtype=float32)]\n"
     ]
    }
   ],
   "source": [
    "print(hidden_layer.get_weights())\n",
    "print(output_layer.get_weights())\n",
    "# get 을쓰면 넘파이 어레이 형태로 얻기가능\n"
   ]
  }
 ],
 "metadata": {
  "kernelspec": {
   "display_name": "Python 3.9.6 64-bit",
   "language": "python",
   "name": "python3"
  },
  "language_info": {
   "codemirror_mode": {
    "name": "ipython",
    "version": 3
   },
   "file_extension": ".py",
   "mimetype": "text/x-python",
   "name": "python",
   "nbconvert_exporter": "python",
   "pygments_lexer": "ipython3",
   "version": "3.9.6"
  },
  "orig_nbformat": 4,
  "vscode": {
   "interpreter": {
    "hash": "d950e4c32f890777a2194dc028b8528d8e3afcac7bd351498ca8ab6e2e4e0199"
   }
  }
 },
 "nbformat": 4,
 "nbformat_minor": 2
}
