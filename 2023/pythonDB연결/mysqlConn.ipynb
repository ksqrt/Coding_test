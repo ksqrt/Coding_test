{
 "cells": [
  {
   "cell_type": "code",
   "execution_count": 19,
   "id": "initial_id",
   "metadata": {
    "collapsed": true,
    "ExecuteTime": {
     "end_time": "2024-02-19T04:28:36.036711Z",
     "start_time": "2024-02-19T04:27:25.706015Z"
    }
   },
   "outputs": [
    {
     "name": "stdout",
     "output_type": "stream",
     "text": [
      "MySQL connection is closed\n"
     ]
    }
   ],
   "source": [
    "import random\n",
    "import string\n",
    "import mysql.connector\n",
    "from mysql.connector import Error\n",
    "\n",
    "def generate_unique_uid(existing_uids):\n",
    "\n",
    "    \"\"\" 고유한 UID 생성 \"\"\"\n",
    "    characters = string.ascii_letters + string.digits  # A-Z, a-z, 0-9\n",
    "    while True:\n",
    "        uid = ''.join(random.choice(characters) for _ in range(10))  # 10자리 UID 생성\n",
    "        if uid not in existing_uids:\n",
    "            return uid\n",
    "\n",
    "\n",
    "def update_uids(host, user, password, database):\n",
    "    \"\"\" MySQL 데이터베이스의 UID 업데이트 \"\"\"\n",
    "    try:\n",
    "        # 데이터베이스 연결\n",
    "        conn = mysql.connector.connect(host=host, user=user, password=password, database=database)\n",
    "        cursor = conn.cursor()\n",
    "\n",
    "        # 기존 UID 가져오기\n",
    "        cursor.execute(\"SELECT uid FROM contents\")\n",
    "        existing_uids = {row[0] for row in cursor.fetchall() if row[0]}\n",
    "\n",
    "        # NULL인 UID 업데이트\n",
    "        cursor.execute(\"SELECT no FROM contents WHERE uid IS NULL OR uid = ''\")\n",
    "        rows_to_update = cursor.fetchall()\n",
    "\n",
    "        for row in rows_to_update:\n",
    "            new_uid = generate_unique_uid(existing_uids)\n",
    "            existing_uids.add(new_uid)\n",
    "            cursor.execute(\"UPDATE contents SET uid = %s WHERE no = %s\", (new_uid, row[0]))\n",
    "\n",
    "        conn.commit()\n",
    "\n",
    "    except Error as e:\n",
    "        print(\"Error while connecting to MySQL\", e)\n",
    "    finally:\n",
    "        if conn.is_connected():\n",
    "            cursor.close()\n",
    "            conn.close()\n",
    "            print(\"MySQL connection is closed\")\n",
    "\n",
    "\n",
    "# 데이터베이스 연결 정보 (실제 환경에 맞게 조정 필요)\n",
    "host = \"localhost\n",
    "user = \"root\n",
    "password = \"password\"\n",
    "database = \"mydatabase\"\n",
    "\n",
    "update_uids(host, user, password, database)\n"
   ]
  },
  {
   "cell_type": "code",
   "outputs": [
    {
     "ename": "InterfaceError",
     "evalue": "2003: Can't connect to MySQL server on ':3306' (61 Connection refused)",
     "output_type": "error",
     "traceback": [
      "\u001B[0;31m---------------------------------------------------------------------------\u001B[0m",
      "\u001B[0;31mConnectionRefusedError\u001B[0m                    Traceback (most recent call last)",
      "File \u001B[0;32m~/Library/Python/3.9/lib/python/site-packages/mysql/connector/network.py:574\u001B[0m, in \u001B[0;36mMySQLTCPSocket.open_connection\u001B[0;34m(self)\u001B[0m\n\u001B[1;32m    573\u001B[0m     \u001B[38;5;28mself\u001B[39m\u001B[38;5;241m.\u001B[39msock\u001B[38;5;241m.\u001B[39msettimeout(\u001B[38;5;28mself\u001B[39m\u001B[38;5;241m.\u001B[39m_connection_timeout)\n\u001B[0;32m--> 574\u001B[0m     \u001B[38;5;28;43mself\u001B[39;49m\u001B[38;5;241;43m.\u001B[39;49m\u001B[43msock\u001B[49m\u001B[38;5;241;43m.\u001B[39;49m\u001B[43mconnect\u001B[49m\u001B[43m(\u001B[49m\u001B[43msockaddr\u001B[49m\u001B[43m)\u001B[49m\n\u001B[1;32m    575\u001B[0m \u001B[38;5;28;01mexcept\u001B[39;00m \u001B[38;5;167;01mIOError\u001B[39;00m \u001B[38;5;28;01mas\u001B[39;00m err:\n",
      "\u001B[0;31mConnectionRefusedError\u001B[0m: [Errno 61] Connection refused",
      "\nDuring handling of the above exception, another exception occurred:\n",
      "\u001B[0;31mInterfaceError\u001B[0m                            Traceback (most recent call last)",
      "Cell \u001B[0;32mIn[20], line 6\u001B[0m\n\u001B[1;32m      3\u001B[0m \u001B[38;5;28;01mimport\u001B[39;00m \u001B[38;5;21;01mmysql\u001B[39;00m\u001B[38;5;21;01m.\u001B[39;00m\u001B[38;5;21;01mconnector\u001B[39;00m\n\u001B[1;32m      4\u001B[0m \u001B[38;5;28;01mfrom\u001B[39;00m \u001B[38;5;21;01mmysql\u001B[39;00m\u001B[38;5;21;01m.\u001B[39;00m\u001B[38;5;21;01mconnector\u001B[39;00m \u001B[38;5;28;01mimport\u001B[39;00m Error\n\u001B[0;32m----> 6\u001B[0m conn \u001B[38;5;241m=\u001B[39m \u001B[43mmysql\u001B[49m\u001B[38;5;241;43m.\u001B[39;49m\u001B[43mconnector\u001B[49m\u001B[38;5;241;43m.\u001B[39;49m\u001B[43mconnect\u001B[49m\u001B[43m(\u001B[49m\u001B[43mhost\u001B[49m\u001B[38;5;241;43m=\u001B[39;49m\u001B[38;5;124;43m\"\u001B[39;49m\u001B[38;5;124;43m\"\u001B[39;49m\u001B[43m,\u001B[49m\u001B[43muser\u001B[49m\u001B[38;5;241;43m=\u001B[39;49m\u001B[38;5;124;43m\"\u001B[39;49m\u001B[38;5;124;43m\"\u001B[39;49m\u001B[43m,\u001B[49m\u001B[43m \u001B[49m\u001B[43mpassword\u001B[49m\u001B[38;5;241;43m=\u001B[39;49m\u001B[38;5;124;43m\"\u001B[39;49m\u001B[38;5;124;43m\"\u001B[39;49m\u001B[43m,\u001B[49m\u001B[43mdatabase\u001B[49m\u001B[38;5;241;43m=\u001B[39;49m\u001B[38;5;124;43m\"\u001B[39;49m\u001B[38;5;124;43m\"\u001B[39;49m\u001B[43m)\u001B[49m\n\u001B[1;32m      8\u001B[0m cursor \u001B[38;5;241m=\u001B[39m conn\u001B[38;5;241m.\u001B[39mcursor()\n\u001B[1;32m     10\u001B[0m \u001B[38;5;66;03m# 기존 UID 가져오기\u001B[39;00m\n",
      "File \u001B[0;32m~/Library/Python/3.9/lib/python/site-packages/mysql/connector/__init__.py:273\u001B[0m, in \u001B[0;36mconnect\u001B[0;34m(*args, **kwargs)\u001B[0m\n\u001B[1;32m    271\u001B[0m \u001B[38;5;28;01mif\u001B[39;00m HAVE_CEXT \u001B[38;5;129;01mand\u001B[39;00m \u001B[38;5;129;01mnot\u001B[39;00m use_pure:\n\u001B[1;32m    272\u001B[0m     \u001B[38;5;28;01mreturn\u001B[39;00m CMySQLConnection(\u001B[38;5;241m*\u001B[39margs, \u001B[38;5;241m*\u001B[39m\u001B[38;5;241m*\u001B[39mkwargs)\n\u001B[0;32m--> 273\u001B[0m \u001B[38;5;28;01mreturn\u001B[39;00m \u001B[43mMySQLConnection\u001B[49m\u001B[43m(\u001B[49m\u001B[38;5;241;43m*\u001B[39;49m\u001B[43margs\u001B[49m\u001B[43m,\u001B[49m\u001B[43m \u001B[49m\u001B[38;5;241;43m*\u001B[39;49m\u001B[38;5;241;43m*\u001B[39;49m\u001B[43mkwargs\u001B[49m\u001B[43m)\u001B[49m\n",
      "File \u001B[0;32m~/Library/Python/3.9/lib/python/site-packages/mysql/connector/connection.py:115\u001B[0m, in \u001B[0;36mMySQLConnection.__init__\u001B[0;34m(self, *args, **kwargs)\u001B[0m\n\u001B[1;32m    113\u001B[0m \u001B[38;5;28;01mif\u001B[39;00m kwargs:\n\u001B[1;32m    114\u001B[0m     \u001B[38;5;28;01mtry\u001B[39;00m:\n\u001B[0;32m--> 115\u001B[0m         \u001B[38;5;28;43mself\u001B[39;49m\u001B[38;5;241;43m.\u001B[39;49m\u001B[43mconnect\u001B[49m\u001B[43m(\u001B[49m\u001B[38;5;241;43m*\u001B[39;49m\u001B[38;5;241;43m*\u001B[39;49m\u001B[43mkwargs\u001B[49m\u001B[43m)\u001B[49m\n\u001B[1;32m    116\u001B[0m     \u001B[38;5;28;01mexcept\u001B[39;00m:\n\u001B[1;32m    117\u001B[0m         \u001B[38;5;66;03m# Tidy-up underlying socket on failure\u001B[39;00m\n\u001B[1;32m    118\u001B[0m         \u001B[38;5;28mself\u001B[39m\u001B[38;5;241m.\u001B[39mclose()\n",
      "File \u001B[0;32m~/Library/Python/3.9/lib/python/site-packages/mysql/connector/abstracts.py:1028\u001B[0m, in \u001B[0;36mMySQLConnectionAbstract.connect\u001B[0;34m(self, **kwargs)\u001B[0m\n\u001B[1;32m   1025\u001B[0m     \u001B[38;5;28mself\u001B[39m\u001B[38;5;241m.\u001B[39mconfig(\u001B[38;5;241m*\u001B[39m\u001B[38;5;241m*\u001B[39mkwargs)\n\u001B[1;32m   1027\u001B[0m \u001B[38;5;28mself\u001B[39m\u001B[38;5;241m.\u001B[39mdisconnect()\n\u001B[0;32m-> 1028\u001B[0m \u001B[38;5;28;43mself\u001B[39;49m\u001B[38;5;241;43m.\u001B[39;49m\u001B[43m_open_connection\u001B[49m\u001B[43m(\u001B[49m\u001B[43m)\u001B[49m\n\u001B[1;32m   1029\u001B[0m \u001B[38;5;66;03m# Server does not allow to run any other statement different from ALTER\u001B[39;00m\n\u001B[1;32m   1030\u001B[0m \u001B[38;5;66;03m# when user's password has been expired.\u001B[39;00m\n\u001B[1;32m   1031\u001B[0m \u001B[38;5;28;01mif\u001B[39;00m \u001B[38;5;129;01mnot\u001B[39;00m \u001B[38;5;28mself\u001B[39m\u001B[38;5;241m.\u001B[39m_client_flags \u001B[38;5;241m&\u001B[39m ClientFlag\u001B[38;5;241m.\u001B[39mCAN_HANDLE_EXPIRED_PASSWORDS:\n",
      "File \u001B[0;32m~/Library/Python/3.9/lib/python/site-packages/mysql/connector/connection.py:492\u001B[0m, in \u001B[0;36mMySQLConnection._open_connection\u001B[0;34m(self)\u001B[0m\n\u001B[1;32m    490\u001B[0m \u001B[38;5;28mself\u001B[39m\u001B[38;5;241m.\u001B[39m_socket \u001B[38;5;241m=\u001B[39m \u001B[38;5;28mself\u001B[39m\u001B[38;5;241m.\u001B[39m_get_connection()\n\u001B[1;32m    491\u001B[0m \u001B[38;5;28;01mtry\u001B[39;00m:\n\u001B[0;32m--> 492\u001B[0m     \u001B[38;5;28;43mself\u001B[39;49m\u001B[38;5;241;43m.\u001B[39;49m\u001B[43m_socket\u001B[49m\u001B[38;5;241;43m.\u001B[39;49m\u001B[43mopen_connection\u001B[49m\u001B[43m(\u001B[49m\u001B[43m)\u001B[49m\n\u001B[1;32m    493\u001B[0m     \u001B[38;5;28mself\u001B[39m\u001B[38;5;241m.\u001B[39m_do_handshake()\n\u001B[1;32m    494\u001B[0m     \u001B[38;5;28mself\u001B[39m\u001B[38;5;241m.\u001B[39m_do_auth(\u001B[38;5;28mself\u001B[39m\u001B[38;5;241m.\u001B[39m_user, \u001B[38;5;28mself\u001B[39m\u001B[38;5;241m.\u001B[39m_password,\n\u001B[1;32m    495\u001B[0m                   \u001B[38;5;28mself\u001B[39m\u001B[38;5;241m.\u001B[39m_database, \u001B[38;5;28mself\u001B[39m\u001B[38;5;241m.\u001B[39m_client_flags, \u001B[38;5;28mself\u001B[39m\u001B[38;5;241m.\u001B[39m_charset_id,\n\u001B[1;32m    496\u001B[0m                   \u001B[38;5;28mself\u001B[39m\u001B[38;5;241m.\u001B[39m_ssl, \u001B[38;5;28mself\u001B[39m\u001B[38;5;241m.\u001B[39m_conn_attrs)\n",
      "File \u001B[0;32m~/Library/Python/3.9/lib/python/site-packages/mysql/connector/network.py:576\u001B[0m, in \u001B[0;36mMySQLTCPSocket.open_connection\u001B[0;34m(self)\u001B[0m\n\u001B[1;32m    574\u001B[0m     \u001B[38;5;28mself\u001B[39m\u001B[38;5;241m.\u001B[39msock\u001B[38;5;241m.\u001B[39mconnect(sockaddr)\n\u001B[1;32m    575\u001B[0m \u001B[38;5;28;01mexcept\u001B[39;00m \u001B[38;5;167;01mIOError\u001B[39;00m \u001B[38;5;28;01mas\u001B[39;00m err:\n\u001B[0;32m--> 576\u001B[0m     \u001B[38;5;28;01mraise\u001B[39;00m errors\u001B[38;5;241m.\u001B[39mInterfaceError(\n\u001B[1;32m    577\u001B[0m         errno\u001B[38;5;241m=\u001B[39m\u001B[38;5;241m2003\u001B[39m, values\u001B[38;5;241m=\u001B[39m(\n\u001B[1;32m    578\u001B[0m             \u001B[38;5;28mself\u001B[39m\u001B[38;5;241m.\u001B[39mserver_host,\n\u001B[1;32m    579\u001B[0m             \u001B[38;5;28mself\u001B[39m\u001B[38;5;241m.\u001B[39mserver_port,\n\u001B[1;32m    580\u001B[0m             _strioerror(err),\n\u001B[1;32m    581\u001B[0m         )\n\u001B[1;32m    582\u001B[0m     )\n\u001B[1;32m    583\u001B[0m \u001B[38;5;28;01mexcept\u001B[39;00m \u001B[38;5;167;01mException\u001B[39;00m \u001B[38;5;28;01mas\u001B[39;00m err:\n\u001B[1;32m    584\u001B[0m     \u001B[38;5;28;01mraise\u001B[39;00m errors\u001B[38;5;241m.\u001B[39mOperationalError(\u001B[38;5;28mstr\u001B[39m(err))\n",
      "\u001B[0;31mInterfaceError\u001B[0m: 2003: Can't connect to MySQL server on ':3306' (61 Connection refused)"
     ]
    }
   ],
   "source": [
    "import random\n",
    "import string\n",
    "import mysql.connector\n",
    "from mysql.connector import Error\n",
    "\n",
    "conn = mysql.connector.connect(host=\"\",user=\"\", password=\"\",database=\"\")\n",
    "\n",
    "cursor = conn.cursor()\n",
    "\n",
    "# 기존 UID 가져오기\n",
    "cursor.execute(\"SELECT uid FROM contents\")\n",
    "existing_uids = {row[0] for row in cursor.fetchall() if row[0]}\n",
    "\n",
    "\n",
    "print(existing_uids)\n",
    "\n",
    "cursor.execute(\"SELECT id FROM contents WHERE uid IS NULL OR uid = ''\")\n",
    "rows_to_update = cursor.fetchall()\n",
    "\n",
    "\n",
    "\n"
   ],
   "metadata": {
    "collapsed": false,
    "ExecuteTime": {
     "end_time": "2024-02-19T04:31:10.263190Z",
     "start_time": "2024-02-19T04:31:10.097708Z"
    }
   },
   "id": "e116f0019ba36f1f",
   "execution_count": 20
  },
  {
   "cell_type": "code",
   "outputs": [
    {
     "data": {
      "text/plain": "[(10143,)]"
     },
     "execution_count": 22,
     "metadata": {},
     "output_type": "execute_result"
    }
   ],
   "source": [
    "cursor.execute(\"SELECT no FROM contents WHERE uid IS NULL OR uid = ''\")\n",
    "rows_to_update = cursor.fetchall()\n",
    "\n",
    "rows_to_update"
   ],
   "metadata": {
    "collapsed": false,
    "ExecuteTime": {
     "end_time": "2024-02-19T04:31:30.991094Z",
     "start_time": "2024-02-19T04:31:30.913335Z"
    }
   },
   "id": "a4765709c55b9426",
   "execution_count": 22
  }
 ],
 "metadata": {
  "kernelspec": {
   "display_name": "Python 3",
   "language": "python",
   "name": "python3"
  },
  "language_info": {
   "codemirror_mode": {
    "name": "ipython",
    "version": 2
   },
   "file_extension": ".py",
   "mimetype": "text/x-python",
   "name": "python",
   "nbconvert_exporter": "python",
   "pygments_lexer": "ipython2",
   "version": "2.7.6"
  }
 },
 "nbformat": 4,
 "nbformat_minor": 5
}
