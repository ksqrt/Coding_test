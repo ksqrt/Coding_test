{
 "cells": [
  {
   "cell_type": "code",
   "outputs": [
    {
     "data": {
      "text/plain": "['2월-01 16:38:37\\tSQL / User\\tUPDATE public.ma_usage\\n',\n '\\tSET \"usage\"=49703\\n',\n '\\tWHERE \"no\"=33820\\t12\\t1\\tSuccess\\tvpe 운영\\tSQLEditor <Script-18.sql>\\n',\n '2월-01 16:38:37\\tSQL / User\\tUPDATE public.ma_usage\\n',\n '\\tSET \"usage\"=1645\\n']"
     },
     "execution_count": 7,
     "metadata": {},
     "output_type": "execute_result"
    }
   ],
   "source": [
    "# 파일을 불러오고 내용을 읽어보겠습니다.\n",
    "log_file_path = 'log.txt'\n",
    "\n",
    "with open(log_file_path, 'r', encoding='utf-8') as file:\n",
    "    log_content = file.readlines()\n",
    "\n",
    "log_content[:5]  # 처음 몇 줄을 출력하여 내용을 확인합니다."
   ],
   "metadata": {
    "collapsed": false,
    "ExecuteTime": {
     "end_time": "2024-02-02T05:43:34.589940Z",
     "start_time": "2024-02-02T05:43:34.584211Z"
    }
   },
   "execution_count": 7
  },
  {
   "cell_type": "code",
   "outputs": [
    {
     "data": {
      "text/plain": "[(datetime.datetime(2024, 2, 1, 11, 42, 47),\n  'select * from ma_usage where mbr_no = 2701556\\t226\\t4\\tSuccess\\tvpe 운영\\tSQLEditor <Script-18.sql>'),\n (datetime.datetime(2024, 2, 1, 11, 44),\n  'select * from ma_row_datas where mbr_no = 2701556 order by log_date desc\\t308\\t200\\tSuccess\\tvpe 운영\\tSQLEditor <Script-18.sql>'),\n (datetime.datetime(2024, 2, 1, 11, 44, 9),\n  'select * from ma_row_datas where mbr_no = 2701556 order by log_date desc\\t164\\t400\\tSuccess\\tvpe 운영\\tSQLEditor <Script-18.sql>'),\n (datetime.datetime(2024, 2, 1, 11, 44, 12),\n  'select * from ma_row_datas where mbr_no = 2701556 order by log_date desc\\t147\\t600\\tSuccess\\tvpe 운영\\tSQLEditor <Script-18.sql>'),\n (datetime.datetime(2024, 2, 1, 11, 44, 49),\n  \"select * from ma_row_datas where mbr_no = 2701556 and log_date = '2024-01-31' order by log_date desc\\t72\\t\\tSuccess\\tvpe 운영\\tSQLEditor <Script-18.sql>\"),\n (datetime.datetime(2024, 2, 1, 11, 45, 15),\n  \"select * from ma_row_datas where mbr_no = 2701556 and log_date between '2024-01-31 00:00:00' and '2024-01-31 23:59:59.999' order by log_date desc\\t183\\t200\\tSuccess\\tvpe 운영\\tSQLEditor <Script-18.sql>\"),\n (datetime.datetime(2024, 2, 1, 11, 45, 48),\n  \"select * from ma_row_datas where mbr_no = 2701556 and log_date between '2024-01-31 00:00:00' and '2024-02-01 00:00:01' order by log_date desc\\t183\\t200\\tSuccess\\tvpe 운영\\tSQLEditor <Script-18.sql>\"),\n (datetime.datetime(2024, 2, 1, 11, 46, 24),\n  \"select * from ma_row_datas where mbr_no = 2701556 and log_date between '2024-01-31 00:00:00' and '2024-02-01 00:01' order by log_date desc\\t607\\t200\\tSuccess\\tvpe 운영\\tSQLEditor <Script-18.sql>\"),\n (datetime.datetime(2024, 2, 1, 11, 47, 9),\n  'select count(*) from ma_row_datas where mbr_no = 2701556 and log_date between \\'2024-01-31 00:00:00\\' and \\'2023-01-31 23:59:59.999\\' order by log_date desc\\t12\\t\\tERROR: column \"ma_row_datas.log_date\" must appear in the GROUP BY clause or be used in an aggregate function'),\n (datetime.datetime(2024, 2, 1, 11, 47, 14),\n  \"select count(*) from ma_row_datas where mbr_no = 2701556 and log_date between '2024-01-31 00:00:00' and '2023-01-31 23:59:59.999'\\t97\\t1\\tSuccess\\tvpe 운영\\tSQLEditor <Script-18.sql>\"),\n (datetime.datetime(2024, 2, 1, 11, 47, 22),\n  \"select count(*) from ma_row_datas where mbr_no = 2701556 and log_date between '2024-01-31 00:00:00' and '2024-01-31 23:59:59.999'\\t82\\t1\\tSuccess\\tvpe 운영\\tSQLEditor <Script-18.sql>\"),\n (datetime.datetime(2024, 2, 1, 11, 47, 24),\n  'select * from ma_usage where mbr_no = 2701556\\t72\\t4\\tSuccess\\tvpe 운영\\tSQLEditor <Script-18.sql>'),\n (datetime.datetime(2024, 2, 1, 11, 47, 55),\n  \"select * from ma_row_datas where mbr_no = 2701556 and log_date between '2024-01-31 00:00:00' and '2023-01-31 23:59:59.999' order by log_date desc\\t77\\t\\tSuccess\\tvpe 운영\\tSQLEditor <Script-18.sql>\"),\n (datetime.datetime(2024, 2, 1, 11, 47, 58),\n  \"select * from ma_row_datas where mbr_no = 2701556 and log_date between '2024-01-31 00:00:00' and '2024-01-31 23:59:59.999' order by log_date desc\\t179\\t200\\tSuccess\\tvpe 운영\\tSQLEditor <Script-18.sql>\"),\n (datetime.datetime(2024, 2, 1, 11, 48),\n  \"select * from ma_row_datas where mbr_no = 2701556 and log_date between '2024-01-31 00:00:00' and '2024-01-31 23:59:59.999' order by log_date desc\\t97\\t400\\tSuccess\\tvpe 운영\\tSQLEditor <Script-18.sql>\"),\n (datetime.datetime(2024, 2, 1, 11, 48, 18),\n  'select * from ma_usage where mbr_no = 2701556\\t68\\t4\\tSuccess\\tvpe 운영\\tSQLEditor <Script-18.sql>'),\n (datetime.datetime(2024, 2, 1, 11, 48, 32),\n  \"select count(*) from ma_row_datas where mbr_no = 2701556 and log_date between '2024-01-31 00:00:00' and '2024-01-31 23:59:59.999' and player_name = 'signalclass2'\\t124\\t1\\tSuccess\\tvpe 운영\\tSQLEditor <Script-18.sql>\"),\n (datetime.datetime(2024, 2, 1, 11, 48, 34),\n  'select * from ma_usage where mbr_no = 2701556\\t69\\t4\\tSuccess\\tvpe 운영\\tSQLEditor <Script-18.sql>'),\n (datetime.datetime(2024, 2, 1, 13, 3, 15),\n  \"SELECT * FROM ma_data_1d where mbr_no = 2701556 and log_date_1d = '2024-01-31'\\t293\\t200\\tSuccess\\tvpe 운영\\tSQLEditor <Script-18.sql>\"),\n (datetime.datetime(2024, 2, 1, 13, 3, 43),\n  \"select count(*) from ma_row_datas where mbr_no = 2701556 and log_date between '2024-01-31 00:00:00' and '2024-01-31 23:59:59.99' and player_name = 'signalclass2'\\t155\\t1\\tSuccess\\tvpe 운영\\tSQLEditor <Script-18.sql>\"),\n (datetime.datetime(2024, 2, 1, 13, 3, 47),\n  'select * from ma_usage where mbr_no = 2701556\\t162\\t4\\tSuccess\\tvpe 운영\\tSQLEditor <Script-18.sql>'),\n (datetime.datetime(2024, 2, 1, 13, 6, 14),\n  'SELECT x.* FROM public.ma_sync_check x\\t175\\t200\\tSuccess\\tvpe 운영\\tMain <vpe_player>'),\n (datetime.datetime(2024, 2, 1, 13, 7, 4),\n  'SELECT x.* FROM public.ma_contents x\\t196\\t200\\tSuccess\\tvpe 운영\\tMain <vpe_player>'),\n (datetime.datetime(2024, 2, 1, 13, 10, 29),\n  'SELECT x.* FROM public.ma_row_datas x\\t19\\t\\tERROR: permission denied for view ma_row_datas\\tvpe 운영 로그\\tMain <vpe_player_log>'),\n (datetime.datetime(2024, 2, 1, 13, 11, 44),\n  'SELECT x.* FROM public.ma_row_datas x\\t171\\t200\\tSuccess\\tvpe 운영 로그\\tMain <vpe_player_log>'),\n (datetime.datetime(2024, 2, 1, 13, 11, 59),\n  'SELECT x.* FROM public.player_log_tbl x\\t349\\t200\\tSuccess\\tvpe 운영 로그\\tMain <vpe_player_log>'),\n (datetime.datetime(2024, 2, 1, 13, 12, 13),\n  'SELECT x.* FROM public.player_log_tbl x\\t145\\t400\\tSuccess\\tvpe 운영 로그\\tMain <vpe_player_log>'),\n (datetime.datetime(2024, 2, 1, 13, 13, 29),\n  'SELECT x.* FROM public.player_log_tbl x\\t390\\t1400\\tSuccess\\tvpe 운영 로그\\tMain <vpe_player_log>'),\n (datetime.datetime(2024, 2, 1, 13, 13, 44),\n  'SELECT x.* FROM public.ma_row_datas x\\t244\\t1200\\tSuccess\\tvpe 운영 로그\\tMain <vpe_player_log>'),\n (datetime.datetime(2024, 2, 1, 13, 18, 35),\n  'select count(*) from ma_row_datas where player_no = 5601 and log_date_1d = \\'2024-01-31\\'\\t11\\t\\tERROR: column \"log_date_1d\" does not exist'),\n (datetime.datetime(2024, 2, 1, 13, 19, 36),\n  \"select count(*) from ma_row_datas where player_no = 5601 and log_date between '2024-01-31 00:00:00.000' and '2024-01-31 23:59:59.999'\\t5,114\\t1\\tSuccess\\tvpe 운영 로그\\tSQLEditor <Script-12.sql>\"),\n (datetime.datetime(2024, 2, 1, 13, 20, 20),\n  \"select count(*) from ma_row_datas where player_no = 5601 and log_date between '2024-01-31 00:00:00.000' and '2024-01-31 23:59:59.999'\\t91\\t1\\tSuccess\\tvpe 운영\\tSQLEditor <Script-18.sql>\"),\n (datetime.datetime(2024, 2, 1, 13, 22, 22),\n  'select * from ma_usage where mbr_no = 2701556\\t68\\t4\\tSuccess\\tvpe 운영\\tSQLEditor <Script-18.sql>'),\n (datetime.datetime(2024, 2, 1, 13, 23, 33),\n  \"select * from ma_row_datas where player_no = 5601 and log_date between '2024-01-31 00:00:00.000' and '2024-01-31 23:59:59.999' and collection = 'R'\\t2,793\\t1000\\tSuccess\\tvpe 운영 로그\\tSQLEditor <Script-12.sql>\"),\n (datetime.datetime(2024, 2, 1, 13, 23, 41),\n  \"select * from ma_row_datas where player_no = 5601 and log_date between '2024-01-31 00:00:00.000' and '2024-01-31 23:59:59.999' and collection = 'R'\\t2,497\\t1065\\tSuccess\\tvpe 운영 로그\\tSQLEditor <Script-12.sql>\"),\n (datetime.datetime(2024, 2, 1, 13, 29, 15),\n  \"select COUNT(*) from ma_row_datas where player_no = 5601 and log_date between '2024-01-31 00:00:00.000' and '2024-01-31 23:59:59.999' and collection != 'R'\\t2,953\\t1\\tSuccess\\tvpe 운영 로그\\tSQLEditor <Script-12.sql>\"),\n (datetime.datetime(2024, 2, 1, 13, 29, 25),\n  \"select count(*) from ma_row_datas where player_no = 5601 and log_date between '2024-01-31 00:00:00.000' and '2024-01-31 23:59:59.999'\\t88\\t1\\tSuccess\\tvpe 운영\\tSQLEditor <Script-18.sql>\"),\n (datetime.datetime(2024, 2, 1, 13, 30, 33),\n  \"select COUNT(*) from ma_row_datas where player_no = 5601 and log_date between '2024-01-31 00:00:00.000' and '2024-01-31 23:59:59.999'\\t2,913\\t1\\tSuccess\\tvpe 운영 로그\\tSQLEditor <Script-12.sql>\"),\n (datetime.datetime(2024, 2, 1, 13, 33, 4),\n  'SELECT x.* FROM public.ma_row_datas x\\t423\\t200\\tSuccess\\tvpe 운영\\tMain <vpe_player>'),\n (datetime.datetime(2024, 2, 1, 13, 34, 54),\n  'SELECT x.* FROM public.ma_row_datas x\\t113\\t400\\tSuccess\\tvpe 운영\\tMain <vpe_player>'),\n (datetime.datetime(2024, 2, 1, 13, 34, 56),\n  'SELECT x.* FROM public.ma_row_datas x\\t186\\t800\\tSuccess\\tvpe 운영\\tMain <vpe_player>'),\n (datetime.datetime(2024, 2, 1, 13, 34, 56),\n  'SELECT x.* FROM public.ma_row_datas x\\t181\\t600\\tSuccess\\tvpe 운영\\tMain <vpe_player>'),\n (datetime.datetime(2024, 2, 1, 13, 35, 48),\n  'select * from ma_usage where mbr_no = 2701556\\t71\\t4\\tSuccess\\tvpe 운영\\tSQLEditor <Script-18.sql>'),\n (datetime.datetime(2024, 2, 1, 13, 35, 57),\n  'select * from ma_usage\\t91\\t191\\tSuccess\\tvpe 운영\\tSQLEditor <Script-18.sql>'),\n (datetime.datetime(2024, 2, 1, 13, 37, 12),\n  'select * from ma_usage where mbr_no = 2701556\\t75\\t4\\tSuccess\\tvpe 운영\\tSQLEditor <Script-18.sql>'),\n (datetime.datetime(2024, 2, 1, 13, 49, 8),\n  'select * from ma_row_datas where player_no = 5601 and log_date order by no desc limit 10000\\t10\\t\\tERROR: argument of AND must be type boolean, not type timestamp with time zone'),\n (datetime.datetime(2024, 2, 1, 13, 49, 15),\n  'select * from ma_row_datas where player_no = 5601 order by no desc limit 10000\\t755\\t200\\tSuccess\\tvpe 운영\\tSQLEditor <Script-18.sql>'),\n (datetime.datetime(2024, 2, 1, 13, 49, 29),\n  'select * from ma_row_datas where player_no = 5601 order by no desc limit 10000\\t404\\t400\\tSuccess\\tvpe 운영\\tSQLEditor <Script-18.sql>'),\n (datetime.datetime(2024, 2, 1, 13, 49, 43),\n  'select * from ma_row_datas where player_no = 5601 order by no desc limit 10000\\t1,783\\t10000\\tSuccess\\tvpe 운영\\tSQLEditor <Script-18.sql>'),\n (datetime.datetime(2024, 2, 1, 13, 50, 15),\n  'select * from ma_row_datas where player_no = 5601 order by no desc\\t1,966\\t10000\\tSuccess\\tvpe 운영\\tSQLEditor <Script-18.sql>'),\n (datetime.datetime(2024, 2, 1, 13, 50, 20),\n  'select * from ma_row_datas where player_no = 5601 order by no desc\\t3,260\\t20000\\tSuccess\\tvpe 운영\\tSQLEditor <Script-18.sql>'),\n (datetime.datetime(2024, 2, 1, 13, 50, 37),\n  'select * from ma_row_datas where player_no = 5601 order by no desc\\t4,779\\t30000\\tSuccess\\tvpe 운영\\tSQLEditor <Script-18.sql>'),\n (datetime.datetime(2024, 2, 1, 13, 51, 13),\n  'select * from ma_row_datas where player_no = 5601 order by no desc\\t6,394\\t40000\\tSuccess\\tvpe 운영\\tSQLEditor <Script-18.sql>'),\n (datetime.datetime(2024, 2, 1, 14, 3, 25),\n  'select * from ma_usage where mbr_no = 2701556\\t68\\t4\\tSuccess\\tvpe 운영\\tSQLEditor <Script-18.sql>'),\n (datetime.datetime(2024, 2, 1, 14, 7, 25),\n  'select * from ma_row_datas where player_no = 5601 order by no desc\\t12\\t\\tERROR: column \"no\" does not exist'),\n (datetime.datetime(2024, 2, 1, 14, 7, 59),\n  'select * from ma_row_datas where player_no = 5601 order by id desc\\t16,235\\t10000\\tSuccess\\tvpe 운영 로그\\tSQLEditor <Script-12.sql>'),\n (datetime.datetime(2024, 2, 1, 14, 8, 43),\n  'select * from ma_row_datas where player_no = 5601 order by id desc\\t17,382\\t20000\\tSuccess\\tvpe 운영 로그\\tSQLEditor <Script-12.sql>'),\n (datetime.datetime(2024, 2, 1, 14, 9, 35),\n  'select * from ma_row_datas where player_no = 5601 order by id desc\\t18,704\\t30000\\tSuccess\\tvpe 운영 로그\\tSQLEditor <Script-12.sql>'),\n (datetime.datetime(2024, 2, 1, 14, 10, 59),\n  'select * from ma_row_datas where player_no = 5601 order by id desc\\t20,467\\t40000\\tSuccess\\tvpe 운영 로그\\tSQLEditor <Script-12.sql>'),\n (datetime.datetime(2024, 2, 1, 14, 24),\n  \"select max(id),min(id) from ma_row_datas where player_no = 5601 and log_date between '2024-02-01 00:00:00.000' and '2024-02-01 23:59:59.999'\\t2,655\\t1\\tSuccess\\tvpe 운영 로그\\tSQLEditor <Script-12.sql>\"),\n (datetime.datetime(2024, 2, 1, 14, 24, 50),\n  \"select * from ma_row_datas where id between 2269851 and 2311435 and log_date >'2024-02-01 00:00:00.000'\\t1,901\\t10000\\tSuccess\\tvpe 운영 로그\\tSQLEditor <Script-12.sql>\"),\n (datetime.datetime(2024, 2, 1, 14, 25, 3),\n  \"select max(id),min(id) from ma_row_datas where player_no = 5601 and log_date between '2024-02-01 00:00:00.000' and '2024-02-01 23:59:59.999'\\t3,105\\t1\\tSuccess\\tvpe 운영 로그\\tSQLEditor <Script-12.sql>\"),\n (datetime.datetime(2024, 2, 1, 14, 25, 5),\n  \"select * from ma_row_datas where id between 2269851 and 2311435 and log_date < '2024-02-01 00:00:00.000'\\t390\\t6\\tSuccess\\tvpe 운영 로그\\tSQLEditor <Script-12.sql>\"),\n (datetime.datetime(2024, 2, 1, 14, 25, 49),\n  \"select min(id),max(id) from ma_row_datas where player_no = 5601 and log_date between '2024-01-31 00:00:00.000' and '2024-01-31 23:59:59.999'\\t2,914\\t1\\tSuccess\\tvpe 운영 로그\\tSQLEditor <Script-12.sql>\"),\n (datetime.datetime(2024, 2, 1, 14, 26, 2),\n  \"select * from ma_row_datas where id between 2217593 and 2217593 and log_date < '2024-01-31 00:00:00.000'\\t73\\t\\tSuccess\\tvpe 운영 로그\\tSQLEditor <Script-12.sql>\"),\n (datetime.datetime(2024, 2, 1, 14, 26, 17),\n  \"select min(id),max(id) from ma_row_datas where player_no = 5601 and log_date between '2024-01-31 00:00:00.000' and '2024-01-31 23:59:59.999'\\t2,986\\t1\\tSuccess\\tvpe 운영 로그\\tSQLEditor <Script-12.sql>\"),\n (datetime.datetime(2024, 2, 1, 14, 26, 22),\n  \"select * from ma_row_datas where id between 2217593 and 2286588 and log_date < '2024-01-31 00:00:00.000'\\t428\\t4\\tSuccess\\tvpe 운영 로그\\tSQLEditor <Script-12.sql>\"),\n (datetime.datetime(2024, 2, 1, 14, 29, 46),\n  'select * from ma_row_datas where id between 2251200 and 2251400\\t167\\t190\\tSuccess\\tvpe 운영 로그\\tSQLEditor <Script-12.sql>'),\n (datetime.datetime(2024, 2, 1, 14, 31, 11),\n  'select * from ma_row_datas where id between 2269800 and 2311500\\t1,873\\t10000\\tSuccess\\tvpe 운영 로그\\tSQLEditor <Script-12.sql>'),\n (datetime.datetime(2024, 2, 1, 14, 31, 40),\n  'select * from ma_row_datas where id between 2269800 and 2311500\\t3,457\\t20000\\tSuccess\\tvpe 운영 로그\\tSQLEditor <Script-12.sql>'),\n (datetime.datetime(2024, 2, 1, 14, 31, 56),\n  \"select * from ma_row_datas where id between 2269851 and 2311435 and log_date < '2024-02-01 00:00:00.000'\\t312\\t6\\tSuccess\\tvpe 운영 로그\\tSQLEditor <Script-12.sql>\"),\n (datetime.datetime(2024, 2, 1, 14, 32, 16),\n  'select * from ma_row_datas where id between 2286500 and 2286600\\t142\\t96\\tSuccess\\tvpe 운영 로그\\tSQLEditor <Script-12.sql>'),\n (datetime.datetime(2024, 2, 1, 14, 34, 23),\n  \"select * from ma_row_datas where id between 2217593 and 2286588 and log_date < '2024-01-31 00:00:00.000'\\t409\\t4\\tSuccess\\tvpe 운영 로그\\tSQLEditor <Script-12.sql>\"),\n (datetime.datetime(2024, 2, 1, 14, 34, 34),\n  'select * from ma_row_datas where id between 2286500 and 2286600\\t143\\t96\\tSuccess\\tvpe 운영 로그\\tSQLEditor <Script-12.sql>'),\n (datetime.datetime(2024, 2, 1, 14, 34, 38),\n  \"select * from ma_row_datas where id between 2269851 and 2311435 and log_date < '2024-02-01 00:00:00.000'\\t308\\t6\\tSuccess\\tvpe 운영 로그\\tSQLEditor <Script-12.sql>\"),\n (datetime.datetime(2024, 2, 1, 14, 40, 1),\n  \"select * from ma_row_datas where id between 2269851 and 2311435 and log_date < '2024-02-01 00:00:00.000'\\t343\\t6\\tSuccess\\tvpe 운영 로그\\tSQLEditor <Script-12.sql>\"),\n (datetime.datetime(2024, 2, 1, 14, 40, 6),\n  'select * from ma_row_datas where id between 2269800 and 2311500\\t1,817\\t10000\\tSuccess\\tvpe 운영 로그\\tSQLEditor <Script-12.sql>'),\n (datetime.datetime(2024, 2, 1, 14, 52, 36),\n  \"select * from ma_row_datas where id between 2217593 and 2286588 and log_date < '2024-01-31 00:00:00.000'\\t407\\t4\\tSuccess\\tvpe 운영 로그\\tSQLEditor <Script-12.sql>\"),\n (datetime.datetime(2024, 2, 1, 15, 39, 53),\n  'SELECT x.* FROM public.ma_total_data_1d x\\t191\\t137\\tSuccess\\tvpe 운영\\tMain <vpe_player>'),\n (datetime.datetime(2024, 2, 1, 16, 37, 46),\n  'select * from ma_usage where player_no = 5601\\t8\\t\\tERROR: relation \"ma_usage\" does not exist'),\n (datetime.datetime(2024, 2, 1, 16, 37, 56),\n  'select * from ma_usage where player_no = 5601\\t104\\t4\\tSuccess\\tvpe 운영\\tSQLEditor <Script-18.sql>'),\n (datetime.datetime(2024, 2, 1, 16, 38, 37), 'UPDATE public.ma_usage'),\n (datetime.datetime(2024, 2, 1, 16, 38, 37), 'UPDATE public.ma_usage')]"
     },
     "execution_count": 9,
     "metadata": {},
     "output_type": "execute_result"
    }
   ],
   "source": [
    "import re\n",
    "from datetime import datetime\n",
    "\n",
    "# 로그 데이터를 파싱하고 시간과 쿼리문을 추출하는 함수\n",
    "def parse_log(log_lines):\n",
    "    parsed_logs = []\n",
    "    for line in log_lines:\n",
    "        # 각 줄에서 시간과 쿼리문을 추출\n",
    "        match = re.search(r'(\\d+월-\\d+ \\d+:\\d+:\\d+).*\\t(SQL / User\\t)(.*)', line)\n",
    "        if match:\n",
    "            # 시간 형식을 datetime 객체로 변환\n",
    "            log_time = datetime.strptime(match.group(1) + \" 2024\", \"%m월-%d %H:%M:%S %Y\")\n",
    "            query = match.group(3)\n",
    "            parsed_logs.append((log_time, query))\n",
    "\n",
    "    return parsed_logs\n",
    "\n",
    "# 로그 데이터 파싱\n",
    "parsed_logs = parse_log(log_content)\n",
    "\n",
    "# 시간 순으로 정렬\n",
    "sorted_logs = sorted(parsed_logs, key=lambda x: x[0])\n",
    "\n",
    "sorted_logs # 정렬된 로그의 처음 몇 개를 출력하여 확인합니다.\n"
   ],
   "metadata": {
    "collapsed": false,
    "ExecuteTime": {
     "end_time": "2024-02-02T05:43:52.847057Z",
     "start_time": "2024-02-02T05:43:52.833557Z"
    }
   },
   "execution_count": 9
  }
 ],
 "metadata": {
  "kernelspec": {
   "display_name": "Python 3.8.10 64-bit",
   "language": "python",
   "name": "python3"
  },
  "language_info": {
   "codemirror_mode": {
    "name": "ipython",
    "version": 3
   },
   "file_extension": ".py",
   "mimetype": "text/x-python",
   "name": "python",
   "nbconvert_exporter": "python",
   "pygments_lexer": "ipython3",
   "version": "3.8.10"
  },
  "orig_nbformat": 4,
  "vscode": {
   "interpreter": {
    "hash": "916dbcbb3f70747c44a77c7bcd40155683ae19c65e1c03b4aa3499c5328201f1"
   }
  }
 },
 "nbformat": 4,
 "nbformat_minor": 2
}
