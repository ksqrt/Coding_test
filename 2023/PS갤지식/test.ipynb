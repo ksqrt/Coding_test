{
 "cells": [
  {
   "cell_type": "code",
   "execution_count": 1,
   "metadata": {},
   "outputs": [
    {
     "name": "stdout",
     "output_type": "stream",
     "text": [
      "False\n",
      "world\n"
     ]
    }
   ],
   "source": [
    "# 일반적인 파이썬 class 정의\n",
    "# https://gall.dcinside.com/mgallery/board/view/?id=ps&no=19561&search_head=40&page=1\n",
    "from typing import Dict\n",
    "\n",
    "class Tire:\n",
    "    def __init__(self):\n",
    "        self.data : Dict[str,Tire] = {}\n",
    "        self.is_end : bool = False\n",
    "\n",
    "tire = Tire()\n",
    "print(tire.is_end)\n",
    "# 파이썬은 새로운 attribute 추가가능\n",
    "tire.hello = \"world\"\n",
    "print(tire.hello)"
   ]
  },
  {
   "cell_type": "code",
   "execution_count": 30,
   "metadata": {},
   "outputs": [
    {
     "name": "stdout",
     "output_type": "stream",
     "text": [
      "새 클래스\n",
      "False\n"
     ]
    }
   ],
   "source": [
    "\n",
    "#  __slots__ 는 이런 맴버들 사용할거다 미리 알려줌\n",
    "# 퍼포먼스의 향상\n",
    "from typing import Dict\n",
    "\n",
    "class Tire:\n",
    "    __slots__ = [\"data\",\"is_end\"]\n",
    "    \n",
    "    def __init__(self):\n",
    "        # print(\"클래스 생성자 실행\")\n",
    "        self.data : Dict[str,Tire] = {}\n",
    "        self.is_end : bool = False\n",
    "        \n",
    "\n",
    "tire = Tire()\n",
    "print(tire.is_end)"
   ]
  },
  {
   "cell_type": "code",
   "execution_count": 19,
   "metadata": {},
   "outputs": [
    {
     "name": "stdout",
     "output_type": "stream",
     "text": [
      "[1, 2, 3]\n"
     ]
    }
   ],
   "source": [
    "# typing 모듈로 타입표시하기\n",
    "# 타입 어노테이션을 사용 \n",
    "from typing import List\n",
    "\n",
    "nums : List[int] = [1, 2, 3]\n",
    "\n",
    "print(nums)"
   ]
  }
 ],
 "metadata": {
  "interpreter": {
   "hash": "d6ff435b63292575e421c30462bbe59b3fd5b3cb29e7f36cd4578b986181b4bd"
  },
  "kernelspec": {
   "display_name": "Python 3.8.8 ('base')",
   "language": "python",
   "name": "python3"
  },
  "language_info": {
   "codemirror_mode": {
    "name": "ipython",
    "version": 3
   },
   "file_extension": ".py",
   "mimetype": "text/x-python",
   "name": "python",
   "nbconvert_exporter": "python",
   "pygments_lexer": "ipython3",
   "version": "3.9.12"
  },
  "orig_nbformat": 4
 },
 "nbformat": 4,
 "nbformat_minor": 2
}
