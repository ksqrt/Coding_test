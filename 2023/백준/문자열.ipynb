{
 "cells": [
  {
   "cell_type": "code",
   "execution_count": 2,
   "metadata": {},
   "outputs": [
    {
     "name": "stdout",
     "output_type": "stream",
     "text": [
      "0\n"
     ]
    }
   ],
   "source": [
    "n= input()\n",
    "n= n.upper()\n",
    "\n",
    "n = list(n)\n",
    "aplha_list = [-1 for i in range(0,26)]\n",
    "\n",
    "for i in n :\n",
    "    for j in range(0,26):\n",
    "        if i == chr(j+65):\n",
    "            aplha_list[j] = 0\n",
    "\n",
    "count = 0\n",
    "for i in aplha_list:\n",
    "    if i == 0:\n",
    "        count +=1\n",
    "\n",
    "print(count)"
   ]
  },
  {
   "cell_type": "code",
   "execution_count": 3,
   "metadata": {},
   "outputs": [
    {
     "name": "stdout",
     "output_type": "stream",
     "text": [
      "0\n"
     ]
    }
   ],
   "source": [
    "n= input().upper()\n",
    "n= list(n)\n",
    "\n",
    "cnt = 0\n",
    "\n",
    "for i in range(len(n)):\n",
    "    if n[i] == \"A\"or\"B\"or\"C\":\n",
    "        cnt += 3\n",
    "    elif n[i] == \"D\"or\"E\"or\"F\":\n",
    "        cnt += 4\n",
    "    elif n[i] == \"G\"or\"H\"or\"I\":\n",
    "        cnt += 5\n",
    "    elif n[i] == \"J\"or\"K\"or\"L\":\n",
    "        cnt += 6\n",
    "    elif n[i] == \"M\"or\"N\"or\"O\":\n",
    "        cnt += 7\n",
    "    elif n[i] ==\"P\"or\"Q\"or\"R\"or\"S\":\n",
    "        cnt += 8\n",
    "    elif n[i] ==\"T\"or\"U\"or\"V\":\n",
    "        cnt += 9\n",
    "    elif n[i] ==\"W\"or\"X\"or\"Y\"or\"Z\":\n",
    "        cnt += 10\n",
    "\n",
    "print(cnt)"
   ]
  },
  {
   "cell_type": "code",
   "execution_count": 11,
   "metadata": {},
   "outputs": [
    {
     "name": "stdout",
     "output_type": "stream",
     "text": [
      "36\n"
     ]
    }
   ],
   "source": [
    "dial = [\"ABC\",\"DEF\",\"GHI\",\"JKL\",\"MNO\",\"PQRS\",\"TUV\",\"WXYZ\"]\n",
    "n = input()\n",
    "cnt = 0\n",
    "\n",
    "for i in range(len(n)):\n",
    "    for j in dial:\n",
    "        if n[i] in j:\n",
    "            cnt += dial.index(j)+3\n",
    "\n",
    "print(cnt)"
   ]
  },
  {
   "cell_type": "code",
   "execution_count": 51,
   "metadata": {},
   "outputs": [
    {
     "name": "stdout",
     "output_type": "stream",
     "text": [
      "0\n"
     ]
    }
   ],
   "source": [
    "cro = [\"c=\",\"c-\",\"dz=\",\"d-\",\"lj\",\"nj\",\"s=\",\"z=\"]\n",
    "n= input()\n",
    "cnt= 0\n",
    "\n",
    "for i in cro :   \n",
    "    for j in range(n.count(i)):\n",
    "       cnt += 1\n",
    "       n = n.replace(i,\" \",i)\n",
    "\n",
    "n= n.replace(\" \",\"\")\n",
    "\n",
    "print(cnt+len(n))\n"
   ]
  },
  {
   "cell_type": "code",
   "execution_count": 56,
   "metadata": {},
   "outputs": [
    {
     "ename": "SyntaxError",
     "evalue": "invalid syntax (<ipython-input-56-f33c6ab8bd54>, line 3)",
     "output_type": "error",
     "traceback": [
      "\u001b[1;36m  File \u001b[1;32m\"<ipython-input-56-f33c6ab8bd54>\"\u001b[1;36m, line \u001b[1;32m3\u001b[0m\n\u001b[1;33m    a= np.array([1:10])\u001b[0m\n\u001b[1;37m                  ^\u001b[0m\n\u001b[1;31mSyntaxError\u001b[0m\u001b[1;31m:\u001b[0m invalid syntax\n"
     ]
    }
   ],
   "source": [
    "import numpy as np\n",
    "\n",
    "a= np.array([1:10])\n",
    "print(a)"
   ]
  },
  {
   "cell_type": "code",
   "execution_count": 140,
   "metadata": {},
   "outputs": [
    {
     "name": "stdout",
     "output_type": "stream",
     "text": [
      "1\n"
     ]
    }
   ],
   "source": [
    "def group_fun(n):\n",
    "    ban_list =[]\n",
    "    len_n = len(n)\n",
    "    n= list(n)\n",
    "    cnt = 0\n",
    "    cnt2 = 0\n",
    "    for i in range(1,len_n):\n",
    "        if n[i-1] == n[i]:\n",
    "            n[i-1] = \"\"\n",
    "    n=\"\".join(n)\n",
    "\n",
    "    for i in range(len(n)):\n",
    "        for j in ban_list:\n",
    "            if n[i] == j:\n",
    "                cnt= cnt-1\n",
    "        ban_list.append(n[i])\n",
    "\n",
    "        if cnt == -1:\n",
    "            return -1\n",
    "        else :\n",
    "            cnt = 0\n",
    "    return 0\n",
    "\n",
    "num = int(input())\n",
    "\n",
    "for i in range(num):\n",
    "    a = input()\n",
    "    num = num + group_fun(a)\n",
    "\n",
    "print(num)\n",
    "\n"
   ]
  }
 ],
 "metadata": {
  "interpreter": {
   "hash": "a1e652c232e0cefe6f97c6536d169df49659f4bdcda58c7a429b4465b653d154"
  },
  "kernelspec": {
   "display_name": "Python 3.8.8 64-bit ('base': conda)",
   "name": "python3"
  },
  "language_info": {
   "codemirror_mode": {
    "name": "ipython",
    "version": 3
   },
   "file_extension": ".py",
   "mimetype": "text/x-python",
   "name": "python",
   "nbconvert_exporter": "python",
   "pygments_lexer": "ipython3",
   "version": "3.8.8"
  },
  "orig_nbformat": 4
 },
 "nbformat": 4,
 "nbformat_minor": 2
}
