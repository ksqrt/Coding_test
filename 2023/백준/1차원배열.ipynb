{
 "cells": [
  {
   "cell_type": "code",
   "execution_count": 21,
   "metadata": {},
   "outputs": [
    {
     "ename": "ValueError",
     "evalue": "invalid literal for int() with base 10: ''",
     "output_type": "error",
     "traceback": [
      "\u001b[1;31m---------------------------------------------------------------------------\u001b[0m",
      "\u001b[1;31mValueError\u001b[0m                                Traceback (most recent call last)",
      "\u001b[1;32m<ipython-input-21-93b80c3a8bfb>\u001b[0m in \u001b[0;36m<module>\u001b[1;34m\u001b[0m\n\u001b[1;32m----> 1\u001b[1;33m \u001b[0mN\u001b[0m\u001b[1;33m=\u001b[0m \u001b[0mint\u001b[0m\u001b[1;33m(\u001b[0m\u001b[0minput\u001b[0m\u001b[1;33m(\u001b[0m\u001b[1;33m)\u001b[0m\u001b[1;33m)\u001b[0m\u001b[1;33m\u001b[0m\u001b[1;33m\u001b[0m\u001b[0m\n\u001b[0m\u001b[0;32m      2\u001b[0m \u001b[1;33m\u001b[0m\u001b[0m\n\u001b[0;32m      3\u001b[0m \u001b[0mA\u001b[0m \u001b[1;33m=\u001b[0m \u001b[0mlist\u001b[0m\u001b[1;33m(\u001b[0m\u001b[0mmap\u001b[0m\u001b[1;33m(\u001b[0m\u001b[0mint\u001b[0m\u001b[1;33m,\u001b[0m\u001b[0minput\u001b[0m\u001b[1;33m(\u001b[0m\u001b[1;33m)\u001b[0m\u001b[1;33m.\u001b[0m\u001b[0msplit\u001b[0m\u001b[1;33m(\u001b[0m\u001b[1;33m)\u001b[0m\u001b[1;33m)\u001b[0m\u001b[1;33m)\u001b[0m\u001b[1;33m\u001b[0m\u001b[1;33m\u001b[0m\u001b[0m\n\u001b[0;32m      4\u001b[0m \u001b[1;33m\u001b[0m\u001b[0m\n\u001b[0;32m      5\u001b[0m \u001b[0mM\u001b[0m\u001b[1;33m=\u001b[0m\u001b[0mmax\u001b[0m\u001b[1;33m(\u001b[0m\u001b[0mA\u001b[0m\u001b[1;33m)\u001b[0m\u001b[1;33m\u001b[0m\u001b[1;33m\u001b[0m\u001b[0m\n",
      "\u001b[1;31mValueError\u001b[0m: invalid literal for int() with base 10: ''"
     ]
    }
   ],
   "source": [
    "N= int(input())\n",
    "\n",
    "A = list(map(int,input().split()))\n",
    "\n",
    "M=max(A)\n",
    "\n",
    "for i in range(N):\n",
    "    A[i]= (A[i]/M)*100\n",
    "\n",
    "AVG = sum(A)/N\n",
    "print(AVG)"
   ]
  },
  {
   "cell_type": "code",
   "execution_count": 12,
   "metadata": {},
   "outputs": [
    {
     "name": "stdout",
     "output_type": "stream",
     "text": [
      "99\n"
     ]
    }
   ],
   "source": [
    "N= int(input())\n",
    "\n",
    "N_arr = list(str(N))\n",
    "count = 0\n",
    "if(N<100):\n",
    "    count += N\n",
    "    print(count)\n",
    "elif(N>=100):\n",
    "    count = 99\n",
    "    for j in range(N-100):\n",
    "        N_arr = list(str(j))\n",
    "        temp = 0\n",
    "        \n",
    "        for i in range(len(N_arr)-1):\n",
    "            \n",
    "            seq = int(N_arr[1])-int(N_arr[0])\n",
    "\n",
    "            if(int(N_arr[i+1])-int(N_arr[i])==seq):\n",
    "                temp +=1\n",
    "                if(temp==len(N_arr)-1):\n",
    "                    count +=1\n",
    "      \n",
    "    print(count)"
   ]
  },
  {
   "cell_type": "code",
   "execution_count": 10,
   "metadata": {},
   "outputs": [
    {
     "name": "stdout",
     "output_type": "stream",
     "text": [
      "[1, 2, 3, 4, 5]\n"
     ]
    }
   ],
   "source": [
    "# 선택정렬\n",
    "def sel_sort(a):\n",
    "    n= len(a)\n",
    "    for i in range(0,n-1):\n",
    "        min_idx = i\n",
    "        for j in range(i+1,n):\n",
    "            if a[j]<a[min_idx]:\n",
    "                min_idx = j\n",
    "        a[i], a[min_idx] = a[min_idx],a[i]\n",
    "        \n",
    "d = [2, 4, 5, 1, 3]\n",
    "\n",
    "sel_sort(d)\n",
    "\n",
    "print(d)  "
   ]
  },
  {
   "cell_type": "code",
   "execution_count": 8,
   "metadata": {},
   "outputs": [
    {
     "name": "stdout",
     "output_type": "stream",
     "text": [
      "[1, 2, 3, 4, 5]\n"
     ]
    }
   ],
   "source": [
    "\n",
    "def sel_sort2(a):\n",
    "    n= len(a)\n",
    "    for i in range(0,n-1):\n",
    "        min_idx = i\n",
    "        for j in range(i+1,n):\n",
    "            if a[j]<a[min_idx]:\n",
    "                min_idx = j\n",
    "        a[i],a[min_idx]= a[min_idx],a[i]\n",
    "        \n",
    "d = [2, 4, 5, 1, 3]\n",
    "\n",
    "sel_sort2(d)\n",
    "\n",
    "print(d)  \n"
   ]
  },
  {
   "cell_type": "code",
   "execution_count": 1,
   "metadata": {},
   "outputs": [
    {
     "name": "stdout",
     "output_type": "stream",
     "text": [
      "[1, 12, 25, 34, 57, 64, 93, 123]\n"
     ]
    }
   ],
   "source": [
    "# 버블정렬\n",
    "def bubble_sort(a):\n",
    "    n = len(a)\n",
    "    for i in range(n-1):\n",
    "        for j in range(0,n-i-1):\n",
    "            if a[j]>a[j+1]:\n",
    "                a[j],a[j+1]=a[j+1],a[j]\n",
    "\n",
    "\n",
    "arr = [64, 34, 25, 12, 57, 93, 1, 123] \n",
    "\n",
    "bubble_sort(arr)\n",
    "\n",
    "print(arr)\n",
    "\n"
   ]
  },
  {
   "cell_type": "code",
   "execution_count": 9,
   "metadata": {},
   "outputs": [
    {
     "name": "stdout",
     "output_type": "stream",
     "text": [
      "[1, 12, 25, 34, 57, 64, 93, 123]\n"
     ]
    }
   ],
   "source": [
    "# 삽입 정렬\n",
    "def insertion_sort(a):\n",
    "    for end in range(1,len(arr)):\n",
    "        for i in range(end,0,-1):\n",
    "            if a[i-1] > a[i]:\n",
    "                a[i-1],a[i] = a[i],a[i-1]\n",
    "            else :\n",
    "                break\n",
    "\n",
    "arr = [64, 34, 25, 12, 57, 93, 1, 123] \n",
    "\n",
    "insertion_sort(arr)\n",
    "\n",
    "print(arr)"
   ]
  },
  {
   "cell_type": "code",
   "execution_count": 1,
   "metadata": {},
   "outputs": [
    {
     "name": "stdout",
     "output_type": "stream",
     "text": [
      "[1, 12, 25, 34, 57, 64, 93, 123]\n"
     ]
    }
   ],
   "source": [
    "# 퀵소트 1 \n",
    "# 작은값 동일한값 큰값 담을 리스트 만들기\n",
    "def quick_sort(arr):\n",
    "    if len(arr) <= 1:\n",
    "        return arr\n",
    "    pivot = arr[len(arr)//2]\n",
    "    lesser_arr,equal_arr,greater_arr = [],[],[]\n",
    "    for num in arr:\n",
    "        if num < pivot:\n",
    "            lesser_arr.append(num)\n",
    "        elif num > pivot:\n",
    "            greater_arr.append(num)\n",
    "        else:\n",
    "            equal_arr.append(num)\n",
    "    return quick_sort(lesser_arr)+equal_arr+quick_sort(greater_arr)\n",
    "\n",
    "arr = [64, 34, 25, 12, 57, 93, 1, 123] \n",
    "\n",
    "quick_sort(arr)\n",
    "\n",
    "print(quick_sort(arr))"
   ]
  },
  {
   "cell_type": "code",
   "execution_count": 21,
   "metadata": {},
   "outputs": [
    {
     "ename": "SyntaxError",
     "evalue": "invalid syntax (<ipython-input-21-2e2a3a0ad2a0>, line 16)",
     "output_type": "error",
     "traceback": [
      "\u001b[1;36m  File \u001b[1;32m\"<ipython-input-21-2e2a3a0ad2a0>\"\u001b[1;36m, line \u001b[1;32m16\u001b[0m\n\u001b[1;33m    arr[]\u001b[0m\n\u001b[1;37m        ^\u001b[0m\n\u001b[1;31mSyntaxError\u001b[0m\u001b[1;31m:\u001b[0m invalid syntax\n"
     ]
    }
   ],
   "source": [
    "def quick_sort2(arr):\n",
    "    def sort(low, high):\n",
    "        if high <= low:\n",
    "            return\n",
    "\n",
    "        mid = partition(low, high)\n",
    "        sort(low, mid - 1)\n",
    "        sort(mid, high)\n",
    "\n",
    "    def partition(low, high):\n",
    "        pivot = arr[(low + high) // 2]\n",
    "        i =  low -1\n",
    "        while low <= high:\n",
    "            if arr[low] <= pivot:\n",
    "                i +=1\n",
    "                arr[]\n",
    "\n",
    "    return sort(0, len(arr) - 1)\n",
    "\n",
    "arr = [64, 34, 25, 12, 57, 93, 1, 123] \n",
    " \n",
    "print(quick_sort2(arr))"
   ]
  },
  {
   "cell_type": "code",
   "execution_count": 33,
   "metadata": {},
   "outputs": [
    {
     "name": "stdout",
     "output_type": "stream",
     "text": [
      "0\n"
     ]
    }
   ],
   "source": [
    "count = int(input())\n",
    "n=input()\n",
    "\n",
    "\n",
    "sum=0\n",
    "for  i in n:\n",
    "    sum = sum + int(i)\n",
    "print(sum)"
   ]
  },
  {
   "cell_type": "code",
   "execution_count": 50,
   "metadata": {},
   "outputs": [
    {
     "name": "stdout",
     "output_type": "stream",
     "text": [
      "[-1, -1, -1, -1, -1, -1, -1, -1, -1, -1, -1, -1, -1, -1, -1, -1, -1, -1, -1, -1, -1, -1, -1, -1, -1, -1]\n"
     ]
    }
   ],
   "source": [
    "n= input()\n",
    "n= list(n)\n",
    "arr_1 = [-1 for i in range(0,26)]\n",
    "\n",
    "for i in range(97,122+1 ):\n",
    "\n",
    "    for j in range(len(n)):\n",
    "\n",
    "        if n[j] == chr(i):\n",
    "            if(arr_1[i-97] == -1):\n",
    "                arr_1[i-97] = j\n",
    "\n",
    "print(*arr_1)\n"
   ]
  },
  {
   "cell_type": "code",
   "execution_count": 4,
   "metadata": {},
   "outputs": [
    {
     "name": "stdout",
     "output_type": "stream",
     "text": [
      "-1 -1 -1 -1 -1 -1 -1 -1 -1 -1 -1 -1 -1 -1 -1 -1 -1 -1 -1 -1 -1 -1 -1 -1 -1 -1\n"
     ]
    }
   ],
   "source": [
    "print(*map(input().find,map(chr,range(97,123))))"
   ]
  },
  {
   "cell_type": "code",
   "execution_count": 1,
   "metadata": {},
   "outputs": [
    {
     "ename": "ValueError",
     "evalue": "invalid literal for int() with base 10: ''",
     "output_type": "error",
     "traceback": [
      "\u001b[1;31m---------------------------------------------------------------------------\u001b[0m",
      "\u001b[1;31mValueError\u001b[0m                                Traceback (most recent call last)",
      "\u001b[1;32m<ipython-input-1-f4c9d120005e>\u001b[0m in \u001b[0;36m<module>\u001b[1;34m\u001b[0m\n\u001b[1;32m----> 1\u001b[1;33m \u001b[0mt\u001b[0m \u001b[1;33m=\u001b[0m \u001b[0mint\u001b[0m\u001b[1;33m(\u001b[0m\u001b[0minput\u001b[0m\u001b[1;33m(\u001b[0m\u001b[1;33m)\u001b[0m\u001b[1;33m)\u001b[0m\u001b[1;33m\u001b[0m\u001b[1;33m\u001b[0m\u001b[0m\n\u001b[0m\u001b[0;32m      2\u001b[0m \u001b[1;33m\u001b[0m\u001b[0m\n\u001b[0;32m      3\u001b[0m \u001b[1;32mfor\u001b[0m \u001b[0mi\u001b[0m \u001b[1;32min\u001b[0m \u001b[0mrange\u001b[0m\u001b[1;33m(\u001b[0m\u001b[0mt\u001b[0m\u001b[1;33m)\u001b[0m\u001b[1;33m:\u001b[0m\u001b[1;33m\u001b[0m\u001b[1;33m\u001b[0m\u001b[0m\n\u001b[0;32m      4\u001b[0m     \u001b[0mrou\u001b[0m\u001b[1;33m,\u001b[0m\u001b[0mst\u001b[0m \u001b[1;33m=\u001b[0m \u001b[0minput\u001b[0m\u001b[1;33m(\u001b[0m\u001b[1;33m)\u001b[0m\u001b[1;33m.\u001b[0m\u001b[0msplit\u001b[0m\u001b[1;33m(\u001b[0m\u001b[1;33m)\u001b[0m\u001b[1;33m\u001b[0m\u001b[1;33m\u001b[0m\u001b[0m\n\u001b[0;32m      5\u001b[0m \u001b[1;33m\u001b[0m\u001b[0m\n",
      "\u001b[1;31mValueError\u001b[0m: invalid literal for int() with base 10: ''"
     ]
    }
   ],
   "source": [
    "t = int(input())\n",
    "\n",
    "for i in range(t):\n",
    "    rou,st = input().split()\n",
    "\n",
    "    rou = int(rou)\n",
    "    st = list(st)\n",
    "\n",
    "    for i in st:\n",
    "        print(i*rou,end=\"\")\n",
    "    print()\n"
   ]
  },
  {
   "cell_type": "code",
   "execution_count": 73,
   "metadata": {},
   "outputs": [
    {
     "data": {
      "image/png": "[encoded data removed]",
      "text/plain": [
       "<Figure size 432x288 with 1 Axes>"
      ]
     },
     "metadata": {
      "needs_background": "light"
     },
     "output_type": "display_data"
    }
   ],
   "source": [
    "import numpy as np\n",
    "import random\n",
    "import math\n",
    "import matplotlib.pyplot as plt\n",
    "\n",
    "List_A = np.array([random.randint(0, 9) for _ in range(1000)])\n",
    "List_B = np.array([random.gauss(5, 3) for _ in range(1000)])\n",
    "List_C = np.array([math.exp(random.gauss(1, 0.5)) for _ in range(1000)])\n",
    "\n",
    "\n",
    "plt.plot(\"Data 1\",np.max(List_A),\"kv\",label=\"max\")\n",
    "plt.plot(\"Data 1\",np.min(List_A),\"k^\",label=\"min\")\n",
    "plt.plot(\"Data 1\",np.mean(List_A),\"b+\",label=\"mean\")\n",
    "plt.plot(\"Data 1\",np.median(List_A),\"bx\",label=\"median\")\n",
    "plt.plot(\"Data 1\",np.mean(List_A)+np.std(List_A),\"gv\",label=\"mean+std\")\n",
    "plt.plot(\"Data 1\",np.mean(List_A)-np.std(List_A),\"g^\",label=\"mean-std\")\n",
    "plt.plot(\"Data 1\",np.quantile(List_A,0.75),\"rv\",label=\"75 perc\")\n",
    "plt.plot(\"Data 1\",np.quantile(List_A,0.25),\"r^\",label=\"25 perc\")\n",
    "\n",
    "plt.plot(\"Data 2\",np.max(List_B),\"kv\")\n",
    "plt.plot(\"Data 2\",np.min(List_B),\"k^\")\n",
    "plt.plot(\"Data 2\",np.mean(List_B),\"b+\")\n",
    "plt.plot(\"Data 2\",np.median(List_B),\"bx\")\n",
    "plt.plot(\"Data 2\",np.mean(List_B)+np.std(List_B),\"gv\")\n",
    "plt.plot(\"Data 2\",np.mean(List_B)-np.std(List_B),\"g^\")\n",
    "plt.plot(\"Data 2\",np.quantile(List_B,0.75),\"rv\")\n",
    "plt.plot(\"Data 2\",np.quantile(List_B,0.25),\"r^\")\n",
    "\n",
    "plt.plot(\"Data 3\",np.max(List_C),\"kv\")\n",
    "plt.plot(\"Data 3\",np.min(List_C),\"k^\")\n",
    "plt.plot(\"Data 3\",np.mean(List_C),\"b+\")\n",
    "plt.plot(\"Data 3\",np.median(List_C),\"bx\")\n",
    "plt.plot(\"Data 3\",np.mean(List_C)+np.std(List_C),\"gv\")\n",
    "plt.plot(\"Data 3\",np.mean(List_C)-np.std(List_C),\"g^\")\n",
    "plt.plot(\"Data 3\",np.quantile(List_C,0.75),\"rv\")\n",
    "plt.plot(\"Data 3\",np.quantile(List_C,0.25),\"r^\")\n",
    "\n",
    "plt.legend(loc=\"center left\",bbox_to_anchor=(1, 0.5))\n",
    "plt.show()"
   ]
  }
 ],
 "metadata": {
  "interpreter": {
   "hash": "a1e652c232e0cefe6f97c6536d169df49659f4bdcda58c7a429b4465b653d154"
  },
  "kernelspec": {
   "display_name": "Python 3.8.8 64-bit ('base': conda)",
   "name": "python3"
  },
  "language_info": {
   "codemirror_mode": {
    "name": "ipython",
    "version": 3
   },
   "file_extension": ".py",
   "mimetype": "text/x-python",
   "name": "python",
   "nbconvert_exporter": "python",
   "pygments_lexer": "ipython3",
   "version": "3.8.8"
  },
  "orig_nbformat": 4
 },
 "nbformat": 4,
 "nbformat_minor": 2
}
