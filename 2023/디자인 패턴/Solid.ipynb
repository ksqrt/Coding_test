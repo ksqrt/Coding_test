{
 "cells": [
  {
   "cell_type": "code",
   "execution_count": 1,
   "metadata": {},
   "outputs": [
    {
     "name": "stdout",
     "output_type": "stream",
     "text": [
      "hello world\n"
     ]
    }
   ],
   "source": [
    "print(\"hello world\")"
   ]
  },
  {
   "cell_type": "code",
   "execution_count": 5,
   "metadata": {},
   "outputs": [
    {
     "name": "stdout",
     "output_type": "stream",
     "text": [
      "3\n",
      "3\n"
     ]
    }
   ],
   "source": [
    "# 다자인패턴 솔리드 원칙\n",
    "# single Responsibility 단일책임 원칙 디자인패턴\n",
    "# 합칠 필요가 없어 !!!!\n",
    "def add(num1,num2):\n",
    "    return num1+num2\n",
    "\n",
    "def numPrint(num):\n",
    "    print(num)\n",
    "\n",
    "def addPrint(num1,num2):\n",
    "    num = num1 + num2\n",
    "    print(num)\n",
    "    \n",
    "# 둘은 같은기능 \n",
    "numPrint(add(1,2))\n",
    "\n",
    "addPrint(1,2)"
   ]
  },
  {
   "cell_type": "code",
   "execution_count": 10,
   "metadata": {},
   "outputs": [
    {
     "name": "stdout",
     "output_type": "stream",
     "text": [
      "김캬루이(가) eating...\n",
      "김캬루이(가) walking...\n",
      "meow~~\n",
      "age:3 name : 김캬루\n"
     ]
    }
   ],
   "source": [
    "class Cat :\n",
    "    def __init__(self,age,name):\n",
    "        self.age = age\n",
    "        self.name = name\n",
    "    def eat(self):\n",
    "        print(self.name +\"이(가) eating...\")\n",
    "    def walk(self):\n",
    "        print(self.name +\"이(가) walking...\")\n",
    "    def speak(self):\n",
    "        print(\"meow~~\")\n",
    "    # 리프리젠테이션 상태 나타냄\n",
    "    def repr(self):\n",
    "        return f\"age:{self.age} name : {self.name}\"\n",
    "\n",
    "kitty =Cat(3,\"김캬루\")\n",
    "kitty.eat()\n",
    "kitty.walk()\n",
    "kitty.speak()\n",
    "print(kitty.repr())\n",
    "    # def print(self):\n",
    "    #     print(f\"age:{self.age} name:{self.name}\")\n",
    "    \n",
    "    # def log(self,logger):\n",
    "    #     logger.log(f\"age:{self.age} name:{self.name}\")\n",
    "    #     logger.log(datetime.now())   "
   ]
  },
  {
   "cell_type": "code",
   "execution_count": 9,
   "metadata": {},
   "outputs": [
    {
     "name": "stdout",
     "output_type": "stream",
     "text": [
      "bark\n",
      "Draaaa\n"
     ]
    }
   ],
   "source": [
    "# 개방 폐쇄원칙 \n",
    "# 확장은 개방 수정은 패쇄\n",
    "# 이를 위해서는 인터페이스 ,추상클래스\n",
    "from abc import *\n",
    "# 애니멀 인터페이스 \n",
    "class Animal(metaclass=ABCMeta):\n",
    "    def speak(self):\n",
    "        pass  \n",
    "\n",
    "class Cat(Animal):\n",
    "    def speak(self):\n",
    "        print(\"meow\")\n",
    "class Dog(Animal):\n",
    "    def speak(self):\n",
    "        print(\"bark\")\n",
    "class Sheep(Animal):\n",
    "     def speak(self):\n",
    "         print(\"meh\")\n",
    "class Dragon(Animal):\n",
    "    def speak(self):\n",
    "        print(\"Draaaa\")\n",
    "        \n",
    "def hey(animal=Animal):\n",
    "    animal.speak()\n",
    "# 클래스만 수정하면 되서 hey 함수를 수정할 필요가 없음\n",
    "bingo = Dog()\n",
    "kanNa = Dragon()\n",
    "hey(bingo)\n",
    "hey(kanNa)\n"
   ]
  },
  {
   "cell_type": "code",
   "execution_count": 16,
   "metadata": {},
   "outputs": [
    {
     "name": "stdout",
     "output_type": "stream",
     "text": [
      "black meow\n",
      "meow\n"
     ]
    }
   ],
   "source": [
    "# 리스코프 치환법칙\n",
    "# 비유하면 고양이 인터페이스를 생선 인터페이스에 사용 X\n",
    "class Cat : \n",
    "    def speak(self):\n",
    "        print(\"meow\")\n",
    "class BlackCat(Cat): \n",
    "    def speak(self):\n",
    "        print(\"black meow\")\n",
    "        \n",
    "def speak(cat:Cat):\n",
    "    cat.speak()\n",
    "    \n",
    "class Fish(Cat) :\n",
    "    def speak(self):\n",
    "        raise Exception(\"Fish Cannot Speak\")\n",
    "    \n",
    "neko = BlackCat()\n",
    "neko.speak()\n",
    "nero = Cat()\n",
    "speak(nero)\n",
    "고등어 = Fish()\n",
    "# speak(고등어)"
   ]
  },
  {
   "cell_type": "code",
   "execution_count": 17,
   "metadata": {},
   "outputs": [],
   "source": [
    "# 인터페이스 분리원칙\n",
    "# 인터페이스 는 너무 큰거는 넣지말기 ex) 수륙양용 자동차\n",
    " "
   ]
  },
  {
   "cell_type": "code",
   "execution_count": 18,
   "metadata": {},
   "outputs": [],
   "source": [
    "# 의존관계 역전 \n",
    "\n",
    "# row lv module\n",
    "class Cat:\n",
    "    def speak(self):\n",
    "        print(\"meow\")\n",
    "\n",
    "class Dog:\n",
    "    def speak(self):\n",
    "        print(\"Bark\")\n",
    "\n",
    "class Cow:\n",
    "    def speak(self):\n",
    "        print(\"mooo\")\n",
    "# high lv module\n",
    "class Zoo :\n",
    "    def __init__(self):\n",
    "        self.cat = Cat()\n",
    "        self.dog = Dog()\n",
    "        self.cow = Cow()\n"
   ]
  },
  {
   "cell_type": "code",
   "execution_count": 19,
   "metadata": {},
   "outputs": [
    {
     "ename": "IndentationError",
     "evalue": "expected an indented block (Temp/ipykernel_17188/1652101533.py, line 1)",
     "output_type": "error",
     "traceback": [
      "\u001b[1;36m  File \u001b[1;32m\"C:\\Users\\kwing\\AppData\\Local\\Temp/ipykernel_17188/1652101533.py\"\u001b[1;36m, line \u001b[1;32m1\u001b[0m\n\u001b[1;33m    class Animal:\u001b[0m\n\u001b[1;37m                 ^\u001b[0m\n\u001b[1;31mIndentationError\u001b[0m\u001b[1;31m:\u001b[0m expected an indented block\n"
     ]
    }
   ],
   "source": [
    "# 추상클래스\n",
    "class Animal:\n",
    "    def speak(self):\n",
    "        pass\n",
    "class Cat(Animal):\n",
    "    def speak(self):\n",
    "        print(\"meow\")\n",
    "class Dog(Animal):\n",
    "    def speak(self):\n",
    "        print(\"bark\")\n",
    "        \n",
    "class Zoo :\n",
    "    def __init__(self):\n",
    "        self.animals = []\n",
    "    def addAnimal(self,animal):\n",
    "        self.animals.append()"
   ]
  }
 ],
 "metadata": {
  "interpreter": {
   "hash": "d950e4c32f890777a2194dc028b8528d8e3afcac7bd351498ca8ab6e2e4e0199"
  },
  "kernelspec": {
   "display_name": "Python 3.9.6 64-bit",
   "language": "python",
   "name": "python3"
  },
  "language_info": {
   "codemirror_mode": {
    "name": "ipython",
    "version": 3
   },
   "file_extension": ".py",
   "mimetype": "text/x-python",
   "name": "python",
   "nbconvert_exporter": "python",
   "pygments_lexer": "ipython3",
   "version": "3.9.6"
  },
  "orig_nbformat": 4
 },
 "nbformat": 4,
 "nbformat_minor": 2
}
