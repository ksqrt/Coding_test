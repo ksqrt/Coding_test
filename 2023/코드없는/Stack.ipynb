{
 "cells": [
  {
   "cell_type": "code",
   "execution_count": 40,
   "metadata": {},
   "outputs": [
    {
     "name": "stdout",
     "output_type": "stream",
     "text": [
      "True\n"
     ]
    }
   ],
   "source": [
    "# 파이썬에서의 스택=list 를 사용 \n",
    "# 코딩테스트 팁 ! 괄호 열리고 닫히는건 스택으로 풀자!\n",
    "s = input()\n",
    "\n",
    "def isVaild(_list):\n",
    "\n",
    "    stack1 = []\n",
    "\n",
    "    for i in _list:\n",
    "        if i == \"(\":\n",
    "            stack1.append(i)\n",
    "        elif i == \"{\":\n",
    "            stack1.append(i)\n",
    "        elif i == \"[\":\n",
    "            stack1.append(i)\n",
    "        elif i == \")\":\n",
    "            if len(stack1) == 0:\n",
    "                return False\n",
    "            else:\n",
    "                if stack1.pop() != \"(\" :\n",
    "                    return False\n",
    "        elif i == \"}\":\n",
    "            if len(stack1) == 0:\n",
    "                return False\n",
    "            else:\n",
    "                if stack1.pop() != \"{\" :\n",
    "                    return False\n",
    "        elif i == \"]\":\n",
    "            if len(stack1) == 0:\n",
    "                return False\n",
    "            else:\n",
    "                if stack1.pop() != \"[\" :\n",
    "                    return False\n",
    "\n",
    "    if len(stack1) == 0:\n",
    "        return True\n",
    "    else :\n",
    "        return False\n",
    "\n",
    "print(isVaild(s))\n",
    "        "
   ]
  },
  {
   "cell_type": "code",
   "execution_count": 42,
   "metadata": {},
   "outputs": [
    {
     "ename": "IndexError",
     "evalue": "list index out of range",
     "output_type": "error",
     "traceback": [
      "\u001b[1;31m---------------------------------------------------------------------------\u001b[0m",
      "\u001b[1;31mIndexError\u001b[0m                                Traceback (most recent call last)",
      "\u001b[1;32m<ipython-input-42-a34eb22756f3>\u001b[0m in \u001b[0;36m<module>\u001b[1;34m\u001b[0m\n\u001b[0;32m     11\u001b[0m     \u001b[1;32mreturn\u001b[0m \u001b[0mstack\u001b[0m\u001b[1;33m\u001b[0m\u001b[1;33m\u001b[0m\u001b[0m\n\u001b[0;32m     12\u001b[0m \u001b[1;33m\u001b[0m\u001b[0m\n\u001b[1;32m---> 13\u001b[1;33m \u001b[0mremoveAdjacent\u001b[0m\u001b[1;33m(\u001b[0m\u001b[0mn\u001b[0m\u001b[1;33m)\u001b[0m\u001b[1;33m\u001b[0m\u001b[1;33m\u001b[0m\u001b[0m\n\u001b[0m\u001b[0;32m     14\u001b[0m \u001b[1;33m\u001b[0m\u001b[0m\n",
      "\u001b[1;32m<ipython-input-42-a34eb22756f3>\u001b[0m in \u001b[0;36mremoveAdjacent\u001b[1;34m(_str)\u001b[0m\n\u001b[0;32m      5\u001b[0m     \u001b[1;32mfor\u001b[0m \u001b[0mi\u001b[0m \u001b[1;32min\u001b[0m \u001b[0m_str\u001b[0m\u001b[1;33m:\u001b[0m\u001b[1;33m\u001b[0m\u001b[1;33m\u001b[0m\u001b[0m\n\u001b[0;32m      6\u001b[0m \u001b[1;33m\u001b[0m\u001b[0m\n\u001b[1;32m----> 7\u001b[1;33m         \u001b[1;32mif\u001b[0m \u001b[0mlen\u001b[0m\u001b[1;33m(\u001b[0m\u001b[0mstack\u001b[0m\u001b[1;33m)\u001b[0m\u001b[1;33m!=\u001b[0m \u001b[1;36m0\u001b[0m \u001b[1;33m&\u001b[0m \u001b[0mstack\u001b[0m\u001b[1;33m[\u001b[0m\u001b[1;33m-\u001b[0m\u001b[1;36m1\u001b[0m\u001b[1;33m]\u001b[0m \u001b[1;33m==\u001b[0m \u001b[0mi\u001b[0m\u001b[1;33m:\u001b[0m\u001b[1;33m\u001b[0m\u001b[1;33m\u001b[0m\u001b[0m\n\u001b[0m\u001b[0;32m      8\u001b[0m             \u001b[0mstack\u001b[0m\u001b[1;33m.\u001b[0m\u001b[0mpop\u001b[0m\u001b[1;33m(\u001b[0m\u001b[1;33m)\u001b[0m\u001b[1;33m\u001b[0m\u001b[1;33m\u001b[0m\u001b[0m\n\u001b[0;32m      9\u001b[0m         \u001b[1;32melse\u001b[0m \u001b[1;33m:\u001b[0m\u001b[1;33m\u001b[0m\u001b[1;33m\u001b[0m\u001b[0m\n",
      "\u001b[1;31mIndexError\u001b[0m: list index out of range"
     ]
    }
   ],
   "source": [
    "n = \"abbcbbcdef\"\n",
    "\n",
    "def removeAdjacent(_str):\n",
    "    stack = []\n",
    "    for i in _str:\n",
    "        \n",
    "        if len(stack)!= 0 & stack[-1] == i:\n",
    "            stack.pop()\n",
    "        else :\n",
    "            stack.append(i)\n",
    "    return stack\n",
    "\n",
    "removeAdjacent(n)\n",
    "    "
   ]
  }
 ],
 "metadata": {
  "interpreter": {
   "hash": "d6ff435b63292575e421c30462bbe59b3fd5b3cb29e7f36cd4578b986181b4bd"
  },
  "kernelspec": {
   "display_name": "Python 3.8.8 ('base')",
   "language": "python",
   "name": "python3"
  },
  "language_info": {
   "codemirror_mode": {
    "name": "ipython",
    "version": 3
   },
   "file_extension": ".py",
   "mimetype": "text/x-python",
   "name": "python",
   "nbconvert_exporter": "python",
   "pygments_lexer": "ipython3",
   "version": "3.8.8"
  },
  "orig_nbformat": 4
 },
 "nbformat": 4,
 "nbformat_minor": 2
}
