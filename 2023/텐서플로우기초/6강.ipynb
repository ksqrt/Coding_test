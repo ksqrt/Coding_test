{
 "cells": [
  {
   "cell_type": "code",
   "execution_count": 3,
   "metadata": {},
   "outputs": [
    {
     "name": "stdout",
     "output_type": "stream",
     "text": [
      "tf.Tensor(3, shape=(), dtype=int32)\n"
     ]
    }
   ],
   "source": [
    "import tensorflow as tf\n",
    "\n",
    "# 텐서플로우의 기초 ! 텐서 자료형입니다\n",
    "# 숫자 ,리스트를 담을수 있습니다.\n",
    "tenser = tf.constant(3)\n",
    "print(tenser)"
   ]
  },
  {
   "cell_type": "code",
   "execution_count": 5,
   "metadata": {},
   "outputs": [
    {
     "name": "stdout",
     "output_type": "stream",
     "text": [
      "tf.Tensor([1 2 3], shape=(3,), dtype=int32)\n"
     ]
    }
   ],
   "source": [
    "텐서 = tf.constant([1,2,3])\n",
    "print(텐서)\n"
   ]
  },
  {
   "cell_type": "code",
   "execution_count": 11,
   "metadata": {},
   "outputs": [
    {
     "name": "stdout",
     "output_type": "stream",
     "text": [
      "tf.Tensor([5 7 9], shape=(3,), dtype=int32)\n"
     ]
    }
   ],
   "source": [
    "텐서2 = tf.constant([4,5,6])\n",
    "print(tf.add(텐서,텐서2))"
   ]
  },
  {
   "cell_type": "code",
   "execution_count": 22,
   "metadata": {},
   "outputs": [
    {
     "name": "stdout",
     "output_type": "stream",
     "text": [
      "(2, 2, 3)\n",
      "tf.Tensor(\n",
      "[[[0. 0. 0.]\n",
      "  [0. 0. 0.]]\n",
      "\n",
      " [[0. 0. 0.]\n",
      "  [0. 0. 0.]]], shape=(2, 2, 3), dtype=float32)\n",
      "tf.Tensor(\n",
      "[[1. 2.]\n",
      " [3. 4.]], shape=(2, 2), dtype=float32)\n"
     ]
    }
   ],
   "source": [
    "텐서3 = tf.constant([[1,2], \n",
    "                     [3,4]],tf.float32)\n",
    "# 행렬모양임\n",
    "# (1,2 )\n",
    "# (3,4 )\n",
    "\n",
    "# 뒤에서부터 해석\n",
    "# 3행 2열 이 2개  \n",
    "텐서4 = tf.zeros([2,2,3])\n",
    "\n",
    "print(텐서4.shape) \n",
    "print(텐서4) \n",
    "print(텐서3) \n",
    "\n"
   ]
  },
  {
   "cell_type": "code",
   "execution_count": 25,
   "metadata": {},
   "outputs": [
    {
     "name": "stdout",
     "output_type": "stream",
     "text": [
      "<tf.Variable 'Variable:0' shape=() dtype=float32, numpy=1.0>\n",
      "<tf.Variable 'Variable:0' shape=() dtype=float32, numpy=2.0>\n"
     ]
    }
   ],
   "source": [
    "# 가중치는 variable\n",
    "w = tf.Variable(1.0)\n",
    "print(w)\n",
    "w.assign(2.0)\n",
    "print(w)"
   ]
  }
 ],
 "metadata": {
  "kernelspec": {
   "display_name": "Python 3.9.6 64-bit",
   "language": "python",
   "name": "python3"
  },
  "language_info": {
   "name": "python",
   "version": "3.9.6"
  },
  "orig_nbformat": 4,
  "vscode": {
   "interpreter": {
    "hash": "d950e4c32f890777a2194dc028b8528d8e3afcac7bd351498ca8ab6e2e4e0199"
   }
  }
 },
 "nbformat": 4,
 "nbformat_minor": 2
}
