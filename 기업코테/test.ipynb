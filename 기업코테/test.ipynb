{
 "cells": [
  {
   "cell_type": "code",
   "execution_count": 23,
   "metadata": {},
   "outputs": [
    {
     "name": "stdout",
     "output_type": "stream",
     "text": [
      "{'a': 5, 'b': 3, 'c': 0}\n"
     ]
    }
   ],
   "source": [
    "dic = [ { \"answer\" : 1, \"score\" : 5 }, { \"answer\" : 3, \"score\" : 3 }, { \"answer\" : 2, \"score\" : 4 } ]\n",
    "\n",
    "def find(dic):\n",
    "    # answer 의 값이 x인 값들중에 score 를 sum 연산\n",
    "    # a 는 1번찍음\n",
    "    a_total_score = sum(item['score'] for item in dic if item['answer'] == 1)\n",
    "    # b는 3번찍고\n",
    "    b_total_score = sum(item['score'] for item in dic if item['answer'] == 3)\n",
    "    # c는 5번 찍음\n",
    "    c_total_score = sum(item['score'] for item in dic if item['answer'] == 5)\n",
    "    # 딕셔너리 형태로 출력\n",
    "    return {\"a\":a_total_score,\"b\":b_total_score,\"c\":c_total_score}\n",
    "\n",
    "print(find(dic))\n"
   ]
  },
  {
   "cell_type": "code",
   "execution_count": 52,
   "metadata": {},
   "outputs": [
    {
     "name": "stdout",
     "output_type": "stream",
     "text": [
      "11\n"
     ]
    }
   ],
   "source": [
    "import math\n",
    "\n",
    "def sol(arr):\n",
    "    sum = 0\n",
    "    # 다중포문 부르트포스로 모든 원소 짝짓기 중복안되서 상관없음\n",
    "    for i in range(0, len(arr) - 1):\n",
    "        for j in range(i + 1, len(arr)):\n",
    "            sum += math.lcm(arr[i], arr[j])\n",
    "            \n",
    "    return sum\n",
    "\n",
    "arr = [1, 2, 3]\n",
    "# 출력\n",
    "print(sol(arr))\n"
   ]
  },
  {
   "cell_type": "code",
   "execution_count": 60,
   "metadata": {},
   "outputs": [
    {
     "name": "stdout",
     "output_type": "stream",
     "text": [
      "129\n"
     ]
    }
   ],
   "source": [
    "\n",
    "def solution(a):\n",
    "    # 에라토스테네스의 체를 사용하기 위한 리스트를 True 로 초기화 하기\n",
    "    sieve = [True] * (a + 1)\n",
    "    prime_sum = 0\n",
    "    # 2부터 a까지 소수 판별 및 합계 계산하면서 리스트에 소수인지 체크하기\n",
    "    for num in range(2, a + 1):\n",
    "        # 현재 숫자가 소수인 경우\n",
    "        if sieve[num]: \n",
    "            # 소수를 합계에 추가\n",
    "            prime_sum += num \n",
    "            # 현재 소수의 배수를 모두 소수가 아닌 것으로 표시\n",
    "            for multiple in range(num * num, a + 1, num):\n",
    "                sieve[multiple] = False\n",
    "\n",
    "    return prime_sum\n",
    "\n",
    "# 예시\n",
    "a = 30\n",
    "# 출력\n",
    "print(solution(a))\n"
   ]
  },
  {
   "cell_type": "code",
   "execution_count": null,
   "metadata": {},
   "outputs": [],
   "source": []
  }
 ],
 "metadata": {
  "kernelspec": {
   "display_name": "Python 3",
   "language": "python",
   "name": "python3"
  },
  "language_info": {
   "codemirror_mode": {
    "name": "ipython",
    "version": 3
   },
   "file_extension": ".py",
   "mimetype": "text/x-python",
   "name": "python",
   "nbconvert_exporter": "python",
   "pygments_lexer": "ipython3",
   "version": "3.10.7"
  },
  "orig_nbformat": 4
 },
 "nbformat": 4,
 "nbformat_minor": 2
}
