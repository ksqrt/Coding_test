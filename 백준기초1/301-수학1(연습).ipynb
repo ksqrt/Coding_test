{
 "cells": [
  {
   "cell_type": "code",
   "execution_count": 17,
   "metadata": {},
   "outputs": [
    {
     "data": {
      "text/plain": [
       "1"
      ]
     },
     "execution_count": 17,
     "metadata": {},
     "output_type": "execute_result"
    }
   ],
   "source": [
    "# 9613\n",
    "def solution(nums):\n",
    "\n",
    "    arr = [False, False]+[True]*(1000+1)\n",
    "    primes = []\n",
    "    for i in range(2, 1000+1):\n",
    "        if arr[i] == True:\n",
    "            primes.append(i)\n",
    "            for i in range(i*2, 1000+1, i):\n",
    "                arr[i] = False\n",
    "    # print(primes)\n",
    "    stack = []\n",
    "    cnt = 0\n",
    "    for i in range(len(nums)):\n",
    "        for j in range(i+1, len(nums)):\n",
    "            for k in range(j+1, len(nums)):\n",
    "                stack.append(nums[i])\n",
    "                stack.append((nums[j]))\n",
    "                stack.append((nums[k]))\n",
    "                if sum(stack) in primes:\n",
    "                    cnt += 1\n",
    "                stack = []\n",
    "    return cnt\n",
    "\n",
    "\n",
    "solution([1, 2, 3, 4])\n"
   ]
  },
  {
   "cell_type": "code",
   "execution_count": 28,
   "metadata": {},
   "outputs": [
    {
     "name": "stdout",
     "output_type": "stream",
     "text": [
      "[3]\n"
     ]
    }
   ],
   "source": [
    "# 9613 GCD 합\n",
    "def gcd(a, b):\n",
    "    while b > 0:\n",
    "        a, b = b, a % b\n",
    "    return a\n",
    "\n",
    "num1 = int(input())\n",
    "\n",
    "for i in range(num1):\n",
    "    num3 = []\n",
    "    num2=(list(map(int, input().split())))\n",
    "    \n",
    "    for k in range(1, len(num2)):\n",
    "       for j in range(k+1,len(num2)):\n",
    "            num3.append(gcd(num2[k],num2[j]))\n",
    "            \n",
    "    print(num3)\n",
    "    \n",
    "# print(num2)\n",
    "# print(num3)\n"
   ]
  },
  {
   "cell_type": "code",
   "execution_count": 32,
   "metadata": {},
   "outputs": [
    {
     "name": "stdout",
     "output_type": "stream",
     "text": [
      "[1000000000]\n"
     ]
    }
   ],
   "source": [
    "def gcd(a, b):\n",
    "    while b > 0:\n",
    "        a, b = b, a % b\n",
    "    return a\n",
    "\n",
    "\n",
    "n, s = map(int, (input().split()))\n",
    "# n 동생수\n",
    "# s 수빈이의 위치\n",
    "# print(n, s)\n",
    "\n",
    "arr = list(map(int, input().split()))\n",
    "print(arr)\n",
    "d = 1\n",
    "stack = []\n",
    "while d != max(arr):\n",
    "    count = 0\n",
    "    for i in range(s % d, max(arr), d):\n",
    "        # print(i)\n",
    "        if i in arr:\n",
    "            count += 1\n",
    "            if count == len(arr)-1:\n",
    "                stack.append(d)\n",
    "\n",
    "    d = d+1\n",
    "\n",
    "print(stack)\n",
    "\n",
    "print(max(stack))\n"
   ]
  },
  {
   "cell_type": "code",
   "execution_count": 35,
   "metadata": {},
   "outputs": [
    {
     "name": "stdout",
     "output_type": "stream",
     "text": [
      "314\n"
     ]
    }
   ],
   "source": [
    "n = input()\n",
    "n = int(n, 2)\n",
    "str = oct(n)\n",
    "str = str[2::]\n",
    "print(str)"
   ]
  },
  {
   "cell_type": "code",
   "execution_count": 29,
   "metadata": {},
   "outputs": [
    {
     "name": "stdout",
     "output_type": "stream",
     "text": [
      "204\n"
     ]
    }
   ],
   "source": []
  }
 ],
 "metadata": {
  "interpreter": {
   "hash": "a1e652c232e0cefe6f97c6536d169df49659f4bdcda58c7a429b4465b653d154"
  },
  "kernelspec": {
   "display_name": "Python 3.8.8 ('base')",
   "language": "python",
   "name": "python3"
  },
  "language_info": {
   "codemirror_mode": {
    "name": "ipython",
    "version": 3
   },
   "file_extension": ".py",
   "mimetype": "text/x-python",
   "name": "python",
   "nbconvert_exporter": "python",
   "pygments_lexer": "ipython3",
   "version": "3.8.8"
  },
  "orig_nbformat": 4
 },
 "nbformat": 4,
 "nbformat_minor": 2
}
