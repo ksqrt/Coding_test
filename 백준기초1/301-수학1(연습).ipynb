{
 "cells": [
  {
   "cell_type": "code",
   "execution_count": 17,
   "metadata": {},
   "outputs": [
    {
     "data": {
      "text/plain": [
       "1"
      ]
     },
     "execution_count": 17,
     "metadata": {},
     "output_type": "execute_result"
    }
   ],
   "source": [
    "# 9613 \n",
    "def solution(nums):\n",
    "    \n",
    "    arr = [False,False]+[True]*(1000+1)\n",
    "    primes = []\n",
    "    for i in range(2,1000+1):\n",
    "        if arr[i] == True:\n",
    "            primes.append(i)\n",
    "            for i in range(i*2,1000+1,i):\n",
    "                arr[i] = False\n",
    "    # print(primes)\n",
    "    stack = []\n",
    "    cnt = 0\n",
    "    for i in range(len(nums)):\n",
    "        for j in range(i+1,len(nums)):\n",
    "            for k in range(j+1,len(nums)):\n",
    "                stack.append(nums[i])\n",
    "                stack.append((nums[j]))\n",
    "                stack.append((nums[k]))\n",
    "                if sum(stack) in primes:\n",
    "                    cnt += 1\n",
    "                stack =[]\n",
    "    return cnt\n",
    "\n",
    "solution([1,2,3,4])"
   ]
  }
 ],
 "metadata": {
  "interpreter": {
   "hash": "a1e652c232e0cefe6f97c6536d169df49659f4bdcda58c7a429b4465b653d154"
  },
  "kernelspec": {
   "display_name": "Python 3.8.8 ('base')",
   "language": "python",
   "name": "python3"
  },
  "language_info": {
   "codemirror_mode": {
    "name": "ipython",
    "version": 3
   },
   "file_extension": ".py",
   "mimetype": "text/x-python",
   "name": "python",
   "nbconvert_exporter": "python",
   "pygments_lexer": "ipython3",
   "version": "3.8.8"
  },
  "orig_nbformat": 4
 },
 "nbformat": 4,
 "nbformat_minor": 2
}
