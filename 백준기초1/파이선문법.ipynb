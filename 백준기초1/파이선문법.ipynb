{
 "cells": [
  {
   "cell_type": "code",
   "execution_count": 6,
   "metadata": {},
   "outputs": [
    {
     "name": "stdout",
     "output_type": "stream",
     "text": [
      "[2, 4, 5]\n"
     ]
    }
   ],
   "source": [
    "# int 형 리스트로 입력받기\n",
    "_list = [*map(int,input().split())]\n",
    "print(_list)"
   ]
  },
  {
   "cell_type": "code",
   "execution_count": 5,
   "metadata": {},
   "outputs": [
    {
     "name": "stdout",
     "output_type": "stream",
     "text": [
      "['srt']\n"
     ]
    }
   ],
   "source": [
    "# str 형 리스트로 입력\n",
    "_list = input().split()\n",
    "print(_list)"
   ]
  },
  {
   "cell_type": "code",
   "execution_count": 12,
   "metadata": {},
   "outputs": [
    {
     "ename": "ValueError",
     "evalue": "not enough values to unpack (expected at least 2, got 0)",
     "output_type": "error",
     "traceback": [
      "\u001b[1;31m---------------------------------------------------------------------------\u001b[0m",
      "\u001b[1;31mValueError\u001b[0m                                Traceback (most recent call last)",
      "\u001b[1;32m<ipython-input-12-300cc57f97bd>\u001b[0m in \u001b[0;36m<module>\u001b[1;34m\u001b[0m\n\u001b[0;32m      1\u001b[0m \u001b[1;31m# 앞 뒤 입력 값 따로 입력 받기\u001b[0m\u001b[1;33m\u001b[0m\u001b[1;33m\u001b[0m\u001b[1;33m\u001b[0m\u001b[0m\n\u001b[1;32m----> 2\u001b[1;33m \u001b[0mfirst\u001b[0m\u001b[1;33m,\u001b[0m \u001b[1;33m*\u001b[0m\u001b[0mmiddle\u001b[0m\u001b[1;33m,\u001b[0m \u001b[0mlast\u001b[0m \u001b[1;33m=\u001b[0m \u001b[0mmap\u001b[0m\u001b[1;33m(\u001b[0m\u001b[0mint\u001b[0m\u001b[1;33m,\u001b[0m \u001b[0minput\u001b[0m\u001b[1;33m(\u001b[0m\u001b[1;33m)\u001b[0m\u001b[1;33m.\u001b[0m\u001b[0msplit\u001b[0m\u001b[1;33m(\u001b[0m\u001b[1;33m)\u001b[0m\u001b[1;33m)\u001b[0m\u001b[1;33m\u001b[0m\u001b[1;33m\u001b[0m\u001b[0m\n\u001b[0m\u001b[0;32m      3\u001b[0m \u001b[0mprint\u001b[0m\u001b[1;33m(\u001b[0m\u001b[0mfirst\u001b[0m\u001b[1;33m,\u001b[0m\u001b[0mmiddle\u001b[0m\u001b[1;33m,\u001b[0m\u001b[0mlast\u001b[0m\u001b[1;33m)\u001b[0m\u001b[1;33m\u001b[0m\u001b[1;33m\u001b[0m\u001b[0m\n",
      "\u001b[1;31mValueError\u001b[0m: not enough values to unpack (expected at least 2, got 0)"
     ]
    }
   ],
   "source": [
    "# 앞 뒤 입력 값 따로 입력 받기\n",
    "first, *middle, last = map(int, input().split())\n",
    "print(first,middle,last)"
   ]
  },
  {
   "cell_type": "code",
   "execution_count": 9,
   "metadata": {},
   "outputs": [
    {
     "name": "stdout",
     "output_type": "stream",
     "text": [
      "[1, 2, 3, 4, 5] [5, 4, 3, 2, 1]\n"
     ]
    }
   ],
   "source": [
    "# 그래프 생성\n",
    "# graph = [0 * 10 for]\n",
    "\n",
    "\n",
    "print(*[[1, 2, 3, 4, 5], [5, 4, 3, 2, 1]], sep=' ')"
   ]
  },
  {
   "cell_type": "code",
   "execution_count": 15,
   "metadata": {},
   "outputs": [
    {
     "name": "stdout",
     "output_type": "stream",
     "text": [
      "['a', 'b', 'c']\n",
      "a b c\n",
      "abc\n"
     ]
    }
   ],
   "source": [
    "# join 언패킹 (좀 느리다)\n",
    "_list = ['a','b','c']\n",
    "\n",
    "print(_list)\n",
    "print(*_list)\n",
    "print(\"\".join(_list))\n",
    "\n"
   ]
  },
  {
   "cell_type": "code",
   "execution_count": 2,
   "metadata": {},
   "outputs": [
    {
     "name": "stdout",
     "output_type": "stream",
     "text": [
      "True\n",
      "True\n",
      "True\n",
      "True\n",
      "True\n",
      "True\n",
      "True\n",
      "True\n",
      "True\n",
      "True\n",
      "False\n",
      "False\n",
      "False\n",
      "False\n",
      "False\n",
      "False\n",
      "False\n",
      "False\n",
      "False\n",
      "False\n"
     ]
    }
   ],
   "source": [
    "# 자료를 찾을시 list 말고 set 을 사용해\n",
    "# 해시 구조이기 떄문에 in 연산시 o(1) 의 시간복잡도르 가진다\n",
    "\n",
    "data = [1, 2, 3, 4, 5, 6, 7, 8, 9, 10]\n",
    "\n",
    "# 시간복잡도 o(n)\n",
    "for i in range(100):\n",
    "    if i in data:\n",
    "        print(True)\n",
    "        \n",
    "\n",
    "# 시간복잡도 o(1)\n",
    "data = set(data)\n",
    "for i in range(100):\n",
    "    if i in data:\n",
    "        print(False)\n",
    "        \n",
    "# "
   ]
  },
  {
   "cell_type": "code",
   "execution_count": 26,
   "metadata": {},
   "outputs": [
    {
     "name": "stdout",
     "output_type": "stream",
     "text": [
      "Alice_jane\n"
     ]
    }
   ],
   "source": [
    "# zip \n",
    "\n",
    "fruit = ['apple', 'grape', 'orange', 'banana']\n",
    "price = [3200, 15200, 9800, 5000]\n",
    "\n",
    "_dict = dict(zip(fruit,price))\n",
    "\n",
    "_dict\n",
    "\n",
    "# zip 반복가능한 요소들을 함께 튜플화 합니다\n",
    "list(zip([\"Alice\",\"Anna\"],[\"Bob\",\"jon\",\"Frank\"]))\n",
    "# Frank 는 오버 해서 사라짐\n",
    "\n",
    "# enumerate 반복가능한 각 요소에 인덱스 값을 할당합니다.\n",
    "list(enumerate([\"Alice\",\"Bob\",\"jon\"]))\n",
    "\n",
    "# 변수 스왑\n",
    "\n",
    "a,b = \"jane\",\"Alice\"\n",
    "\n",
    "a,b = b,a\n",
    "print(a+\"_\"+b)"
   ]
  },
  {
   "cell_type": "code",
   "execution_count": 31,
   "metadata": {},
   "outputs": [
    {
     "name": "stdout",
     "output_type": "stream",
     "text": [
      "1 3 4\n",
      "13\n",
      "1 3 4\n",
      "13\n"
     ]
    }
   ],
   "source": [
    "# * 연산자 (언패킹) 응용\n",
    "def f(x,y,z):\n",
    "    print(x,y,z)\n",
    "    return x+y*z\n",
    "\n",
    "print(f(*[1,3,4]))\n",
    "#  **연산자 : 사전의 (키,값) 을  사용하여 입력할 수 있음\n",
    "print(f(**{\"z\":4,\"x\":1,\"y\":3}))\n",
    "\n"
   ]
  },
  {
   "cell_type": "code",
   "execution_count": 34,
   "metadata": {},
   "outputs": [
    {
     "data": {
      "text/plain": [
       "{'Alice': 18, 'Bob': 27, 'Ann': 22}"
      ]
     },
     "execution_count": 34,
     "metadata": {},
     "output_type": "execute_result"
    }
   ],
   "source": [
    "#  **연산자 \n",
    "#  언패킹후 두개의 딕셔너리를 하나로 병합합니다\n",
    "x={'Alice' : 18}\n",
    "y={'Bob' : 27, 'Ann' : 22}\n",
    "z = {**x,**y}\n",
    "z\n",
    "\n",
    "\n"
   ]
  },
  {
   "cell_type": "code",
   "execution_count": 43,
   "metadata": {},
   "outputs": [
    {
     "name": "stdout",
     "output_type": "stream",
     "text": [
      "1 2 3\n",
      "4 5 6\n",
      "7 8 9\n",
      "\n",
      "7 4 1\n",
      "8 5 2\n",
      "9 6 3\n",
      "\n",
      "9 8 7\n",
      "6 5 4\n",
      "3 2 1\n"
     ]
    }
   ],
   "source": [
    "# 리스트 회전\n",
    "\n",
    "def rotate(arr):\n",
    "    return list(zip(*arr[::-1]))\n",
    "\n",
    "def printarr(arr):\n",
    "    for i in range(len(arr)):\n",
    "        print(*arr[i])\n",
    "\n",
    "lst = [[1, 2, 3], [4, 5, 6], [7, 8, 9]]\n",
    "\n",
    "printarr(lst)\n",
    "print()\n",
    "printarr(rotate(lst))\n",
    "print()\n",
    "printarr(rotate(rotate(lst)))"
   ]
  },
  {
   "cell_type": "code",
   "execution_count": 1,
   "metadata": {},
   "outputs": [
    {
     "ename": "NameError",
     "evalue": "name 'printarr' is not defined",
     "output_type": "error",
     "traceback": [
      "\u001b[1;31m---------------------------------------------------------------------------\u001b[0m",
      "\u001b[1;31mNameError\u001b[0m                                 Traceback (most recent call last)",
      "\u001b[1;32m<ipython-input-1-40f9af9f72b0>\u001b[0m in \u001b[0;36m<module>\u001b[1;34m\u001b[0m\n\u001b[0;32m      1\u001b[0m \u001b[1;31m# 리스트 뒤집기\u001b[0m\u001b[1;33m\u001b[0m\u001b[1;33m\u001b[0m\u001b[1;33m\u001b[0m\u001b[0m\n\u001b[0;32m      2\u001b[0m \u001b[1;33m\u001b[0m\u001b[0m\n\u001b[1;32m----> 3\u001b[1;33m \u001b[0mprintarr\u001b[0m\u001b[1;33m(\u001b[0m\u001b[0mlst\u001b[0m\u001b[1;33m[\u001b[0m\u001b[1;33m:\u001b[0m\u001b[1;33m:\u001b[0m\u001b[1;33m-\u001b[0m\u001b[1;36m1\u001b[0m\u001b[1;33m]\u001b[0m\u001b[1;33m)\u001b[0m\u001b[1;33m\u001b[0m\u001b[1;33m\u001b[0m\u001b[0m\n\u001b[0m",
      "\u001b[1;31mNameError\u001b[0m: name 'printarr' is not defined"
     ]
    }
   ],
   "source": [
    "# 리스트 뒤집기\n",
    "\n",
    "printarr(lst[::-1])"
   ]
  },
  {
   "cell_type": "code",
   "execution_count": null,
   "metadata": {},
   "outputs": [],
   "source": []
  }
 ],
 "metadata": {
  "interpreter": {
   "hash": "d6ff435b63292575e421c30462bbe59b3fd5b3cb29e7f36cd4578b986181b4bd"
  },
  "kernelspec": {
   "display_name": "Python 3.8.8 ('base')",
   "language": "python",
   "name": "python3"
  },
  "language_info": {
   "codemirror_mode": {
    "name": "ipython",
    "version": 3
   },
   "file_extension": ".py",
   "mimetype": "text/x-python",
   "name": "python",
   "nbconvert_exporter": "python",
   "pygments_lexer": "ipython3",
   "version": "3.8.8"
  },
  "orig_nbformat": 4
 },
 "nbformat": 4,
 "nbformat_minor": 2
}
