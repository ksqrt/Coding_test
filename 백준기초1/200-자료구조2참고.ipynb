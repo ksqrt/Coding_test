{
 "cells": [
  {
   "cell_type": "code",
   "execution_count": 9,
   "metadata": {},
   "outputs": [
    {
     "name": "stdout",
     "output_type": "stream",
     "text": [
      "3.00\n"
     ]
    }
   ],
   "source": [
    "# 1935\n",
    "# 피연산자와 만나면 push 연산자와 만나면 pop\n",
    "\n",
    "n = int(input()) # 피연산자의 수\n",
    "s = input()  # 후위 표기식\n",
    "li = [0]*n # 피연산자에 대응하는 값 받을 리스트 선언 \n",
    "\n",
    "for i in range(n):\n",
    "    li[i] = int(input())\n",
    "\n",
    "stack = []\n",
    "\n",
    "for i in s:\n",
    "    if \"A\" <= i <= \"Z\": # 피연산자 인카운터\n",
    "        stack.append(li[ord(i)-ord(\"A\")])\n",
    "    else :\n",
    "        str2 = stack.pop()\n",
    "        str1 = stack.pop()\n",
    "        \n",
    "        if i == \"+\":\n",
    "            stack.append(str1 + str2)\n",
    "        elif i == \"-\":\n",
    "            stack.append(str1 - str2)\n",
    "        elif i == \"*\":\n",
    "            stack.append(str1 * str2)\n",
    "        elif i == \"/\":\n",
    "            stack.append(str1 / str2)\n",
    "                        \n",
    "print(\"%.2f\" %stack[0])"
   ]
  },
  {
   "cell_type": "code",
   "execution_count": 5,
   "metadata": {},
   "outputs": [
    {
     "ename": "SyntaxError",
     "evalue": "unexpected EOF while parsing (<ipython-input-5-641e45b857c7>, line 10)",
     "output_type": "error",
     "traceback": [
      "\u001b[1;36m  File \u001b[1;32m\"<ipython-input-5-641e45b857c7>\"\u001b[1;36m, line \u001b[1;32m10\u001b[0m\n\u001b[1;33m    \u001b[0m\n\u001b[1;37m    ^\u001b[0m\n\u001b[1;31mSyntaxError\u001b[0m\u001b[1;31m:\u001b[0m unexpected EOF while parsing\n"
     ]
    }
   ],
   "source": [
    "#1918 후위 표기식 \n",
    "\n",
    "# s = input()\n",
    "# stack = []\n",
    "# for i in s:\n",
    "#     if s.isalpha():\n",
    "#         stack.append(s)\n",
    "#     elif s == \"*\" or s == \"/\":\n",
    "#         while stack and (stack[-1]==\"*\"or stack[-1]==\"/\"):\n",
    "    \n"
   ]
  },
  {
   "cell_type": "code",
   "execution_count": 6,
   "metadata": {},
   "outputs": [
    {
     "name": "stdout",
     "output_type": "stream",
     "text": [
      "65\n",
      "A\n"
     ]
    }
   ],
   "source": [
    "#ord,chr 사용법\n",
    "print(ord(\"A\")) # 65 출력\n",
    "print(chr(65))  # a  출력"
   ]
  },
  {
   "cell_type": "code",
   "execution_count": 27,
   "metadata": {},
   "outputs": [
    {
     "name": "stdout",
     "output_type": "stream",
     "text": [
      "1 1 0 0 1 0 0 0 0 1 1 0 0 1 2 0 0 0 0 0 0 0 0 0 0 0\n"
     ]
    }
   ],
   "source": [
    "# 10808 알파벳 개수\n",
    "s = input()\n",
    "li = [0 for i in range(26)]\n",
    "\n",
    "for i in s:\n",
    "    li[ord(i)-ord(\"a\")] += 1\n",
    "    \n",
    "print(*li)"
   ]
  },
  {
   "cell_type": "code",
   "execution_count": 9,
   "metadata": {},
   "outputs": [
    {
     "name": "stdout",
     "output_type": "stream",
     "text": [
      "7.80\n"
     ]
    }
   ],
   "source": [
    "\n",
    "n = int(input())\n",
    "s = input()\n",
    "li = [0]*n\n",
    "# 이 리스트에는 각 알파벳의 수가 들어있음\n",
    "for i in range (n) :\n",
    "    li[i] = int(input())\n",
    "\n",
    "stack = []\n",
    "\n",
    "for i in s:\n",
    "    if \"A\" <= i <= \"Z\":\n",
    "        stack.append(li[ord(i)-ord(\"A\")]) # 1이면 li[0] 2면 li[1] 이런식 \n",
    "    else :\n",
    "        str2 = stack.pop() # / 연산 떄문에 str2 를 먼저 했음\n",
    "        str1 = stack.pop()\n",
    "        if i == \"+\":\n",
    "            stack.append(str1+str2)\n",
    "        elif i == \"-\":\n",
    "            stack.append(str1-str2)\n",
    "        elif i == \"*\":\n",
    "            stack.append(str1*str2)\n",
    "        elif i == \"/\":\n",
    "            stack.append(str1/str2)\n",
    "\n",
    "print(\"%.2f\" %stack[0])"
   ]
  },
  {
   "cell_type": "markdown",
   "metadata": {},
   "source": [
    "s = input()"
   ]
  },
  {
   "cell_type": "markdown",
   "metadata": {},
   "source": [
    "li = [0 for i in range(26)]"
   ]
  },
  {
   "cell_type": "code",
   "execution_count": 28,
   "metadata": {},
   "outputs": [
    {
     "name": "stdout",
     "output_type": "stream",
     "text": [
      "0 0 0 0 0 0 0 0 0 0 0 0 0 0 0 0 0 0 0 0 0 0 0 0 0 0\n",
      "97\n",
      "122\n"
     ]
    }
   ],
   "source": [
    "li = [0 for i in range(26)]\n",
    "print (*li)\n",
    "\n",
    "print(ord(\"a\"))\n",
    "print(ord(\"z\"))"
   ]
  },
  {
   "cell_type": "code",
   "execution_count": 2,
   "metadata": {},
   "outputs": [],
   "source": [
    "import sys\n",
    "\n",
    "while True:\n",
    "    line = sys.stdin.readline().rstrip('\\n')\n",
    "\n",
    "    if not line:\n",
    "        break\n",
    "\n",
    "    # 소문자, 대문자, 숫자, 공백\n",
    "    l, u, d, s = 0, 0, 0, 0\n",
    "    for each in line:\n",
    "        if each.islower():\n",
    "            l += 1\n",
    "        elif each.isupper():\n",
    "            u += 1\n",
    "        elif each.isdigit():\n",
    "            d += 1\n",
    "        elif each.isspace():\n",
    "            s += 1\n",
    "\n",
    "    print(l, u, d, s)"
   ]
  },
  {
   "cell_type": "code",
   "execution_count": 4,
   "metadata": {},
   "outputs": [],
   "source": [
    "# 10820 문자열 분석\n",
    "while True :\n",
    "    s = input()\n",
    "    # s 에 입력 받은 변수가 없을시 \n",
    "    if not s :\n",
    "        break\n",
    "    \n",
    "    low,upp,num,nul = 0,0,0,0\n",
    "    \n",
    "    for i in s:\n",
    "        if i.islower():\n",
    "            low += 1\n",
    "        elif i.isupper():\n",
    "            upp += 1\n",
    "        elif i.isnumeric():\n",
    "            num += 1\n",
    "        elif i ==(\" \"):\n",
    "            nul += 1\n",
    "            \n",
    "    print(low,upp,num,nul,sep=\" \")\n",
    "                         "
   ]
  },
  {
   "cell_type": "code",
   "execution_count": 6,
   "metadata": {},
   "outputs": [
    {
     "name": "stdout",
     "output_type": "stream",
     "text": [
      "0\n"
     ]
    }
   ],
   "source": [
    "# 2743 단어길이 재기\n",
    "\n",
    "print(len(input()))\n"
   ]
  },
  {
   "cell_type": "code",
   "execution_count": 15,
   "metadata": {},
   "outputs": [
    {
     "ename": "IndentationError",
     "evalue": "expected an indented block (<ipython-input-15-71531947c7c3>, line 8)",
     "output_type": "error",
     "traceback": [
      "\u001b[1;36m  File \u001b[1;32m\"<ipython-input-15-71531947c7c3>\"\u001b[1;36m, line \u001b[1;32m8\u001b[0m\n\u001b[1;33m    else :\u001b[0m\n\u001b[1;37m    ^\u001b[0m\n\u001b[1;31mIndentationError\u001b[0m\u001b[1;31m:\u001b[0m expected an indented block\n"
     ]
    }
   ],
   "source": [
    "# 11655 ROT13\n",
    "\n",
    "n = input()\n",
    "stack=[]\n",
    "for i in n :\n",
    "    if i.isupper():\n",
    "        if ord(i) >= ord(\"A\")+13 :\n",
    "        else :\n",
    "            stack.append(chr(ord(i)+13))\n",
    "    elif i.islower() :\n",
    "        if ord(i) >= ord(\"a\")+13 :\n",
    "                stack.append(chr(ord(i)-13))\n",
    "        else :\n",
    "            stack.append(chr(ord(i)+13))\n",
    "    elif i ==(\" \") :\n",
    "        stack.append(\" \")\n",
    "    elif i.isnumeric():\n",
    "        stack.append(i)\n",
    "        \n",
    "print(*stack,sep=\"\")"
   ]
  },
  {
   "cell_type": "code",
   "execution_count": 16,
   "metadata": {},
   "outputs": [
    {
     "ename": "IndexError",
     "evalue": "list index out of range",
     "output_type": "error",
     "traceback": [
      "\u001b[1;31m---------------------------------------------------------------------------\u001b[0m",
      "\u001b[1;31mIndexError\u001b[0m                                Traceback (most recent call last)",
      "\u001b[1;32m<ipython-input-16-4c1a72ea64d6>\u001b[0m in \u001b[0;36m<module>\u001b[1;34m\u001b[0m\n\u001b[0;32m      8\u001b[0m \u001b[0mstack2\u001b[0m\u001b[1;33m=\u001b[0m\u001b[1;33m[\u001b[0m\u001b[1;33m]\u001b[0m\u001b[1;33m\u001b[0m\u001b[1;33m\u001b[0m\u001b[0m\n\u001b[0;32m      9\u001b[0m \u001b[1;32mfor\u001b[0m \u001b[0mi\u001b[0m \u001b[1;32min\u001b[0m \u001b[0mrange\u001b[0m\u001b[1;33m(\u001b[0m\u001b[1;36m2\u001b[0m\u001b[1;33m)\u001b[0m\u001b[1;33m:\u001b[0m\u001b[1;33m\u001b[0m\u001b[1;33m\u001b[0m\u001b[0m\n\u001b[1;32m---> 10\u001b[1;33m     \u001b[0mstack1\u001b[0m\u001b[1;33m.\u001b[0m\u001b[0mappend\u001b[0m\u001b[1;33m(\u001b[0m\u001b[0mli\u001b[0m\u001b[1;33m[\u001b[0m\u001b[0mi\u001b[0m\u001b[1;33m]\u001b[0m\u001b[1;33m)\u001b[0m\u001b[1;33m\u001b[0m\u001b[1;33m\u001b[0m\u001b[0m\n\u001b[0m\u001b[0;32m     11\u001b[0m \u001b[1;33m\u001b[0m\u001b[0m\n\u001b[0;32m     12\u001b[0m \u001b[1;32mfor\u001b[0m \u001b[0mi\u001b[0m \u001b[1;32min\u001b[0m \u001b[0mrange\u001b[0m\u001b[1;33m(\u001b[0m\u001b[1;36m2\u001b[0m\u001b[1;33m,\u001b[0m\u001b[1;36m4\u001b[0m\u001b[1;33m)\u001b[0m\u001b[1;33m:\u001b[0m\u001b[1;33m\u001b[0m\u001b[1;33m\u001b[0m\u001b[0m\n",
      "\u001b[1;31mIndexError\u001b[0m: list index out of range"
     ]
    }
   ],
   "source": [
    "# 10824 네수\n",
    "li = list(map(int,input().split()))\n",
    "# 한자리수 두자리수 3자리수 자연수을 구분해야함 \n",
    "\n",
    "# 숫자를 문자열로 변환해서 합한뒤\n",
    "\n",
    "stack1=[]\n",
    "stack2=[]\n",
    "for i in range(2):\n",
    "    stack1.append(li[i])\n",
    "    \n",
    "for i in range(2,4):\n",
    "    stack2.append(li[i])\n",
    "    \n",
    "a= \"\".join((map(str,stack1)))\n",
    "b= \"\".join((map(str,stack2)))\n",
    "# 다시 int 형으로 바꿔서 계산하는 방식입니다.\n",
    "print(int(a)+int(b))\n"
   ]
  },
  {
   "cell_type": "code",
   "execution_count": 17,
   "metadata": {},
   "outputs": [
    {
     "ename": "IndexError",
     "evalue": "list index out of range",
     "output_type": "error",
     "traceback": [
      "\u001b[1;31m---------------------------------------------------------------------------\u001b[0m",
      "\u001b[1;31mIndexError\u001b[0m                                Traceback (most recent call last)",
      "\u001b[1;32m<ipython-input-17-1883e249c67f>\u001b[0m in \u001b[0;36m<module>\u001b[1;34m\u001b[0m\n\u001b[0;32m      8\u001b[0m \u001b[0mstack2\u001b[0m\u001b[1;33m=\u001b[0m\u001b[1;33m[\u001b[0m\u001b[1;33m]\u001b[0m\u001b[1;33m\u001b[0m\u001b[1;33m\u001b[0m\u001b[0m\n\u001b[0;32m      9\u001b[0m \u001b[1;32mfor\u001b[0m \u001b[0mi\u001b[0m \u001b[1;32min\u001b[0m \u001b[0mrange\u001b[0m\u001b[1;33m(\u001b[0m\u001b[1;36m2\u001b[0m\u001b[1;33m)\u001b[0m\u001b[1;33m:\u001b[0m\u001b[1;33m\u001b[0m\u001b[1;33m\u001b[0m\u001b[0m\n\u001b[1;32m---> 10\u001b[1;33m     \u001b[0mstack1\u001b[0m\u001b[1;33m.\u001b[0m\u001b[0mappend\u001b[0m\u001b[1;33m(\u001b[0m\u001b[0mli\u001b[0m\u001b[1;33m[\u001b[0m\u001b[0mi\u001b[0m\u001b[1;33m]\u001b[0m\u001b[1;33m)\u001b[0m\u001b[1;33m\u001b[0m\u001b[1;33m\u001b[0m\u001b[0m\n\u001b[0m\u001b[0;32m     11\u001b[0m \u001b[1;33m\u001b[0m\u001b[0m\n\u001b[0;32m     12\u001b[0m \u001b[1;32mfor\u001b[0m \u001b[0mi\u001b[0m \u001b[1;32min\u001b[0m \u001b[0mrange\u001b[0m\u001b[1;33m(\u001b[0m\u001b[1;36m2\u001b[0m\u001b[1;33m,\u001b[0m\u001b[1;36m4\u001b[0m\u001b[1;33m)\u001b[0m\u001b[1;33m:\u001b[0m\u001b[1;33m\u001b[0m\u001b[1;33m\u001b[0m\u001b[0m\n",
      "\u001b[1;31mIndexError\u001b[0m: list index out of range"
     ]
    }
   ],
   "source": [
    "# 10824 네수\n",
    "li = list(map(int,input().split()))\n",
    "# 한자리수 두자리수 3자리수 자연수을 구분해야함 \n",
    "\n",
    "# 숫자를 문자열로 변환해서 합한뒤\n",
    "\n",
    "stack1=[]\n",
    "stack2=[]\n",
    "for i in range(2):\n",
    "    stack1.append(li[i])\n",
    "    \n",
    "for i in range(2,4):\n",
    "    stack2.append(li[i])\n",
    "    \n",
    "a= \"\".join((map(str,stack1)))\n",
    "b= \"\".join((map(str,stack2)))\n",
    "# 다시 int 형으로 바꿔서 계산하는 방식입니다.\n",
    "print(int(a)+int(b))\n",
    "a.sp\n",
    "\n"
   ]
  },
  {
   "cell_type": "code",
   "execution_count": 11,
   "metadata": {},
   "outputs": [
    {
     "name": "stdout",
     "output_type": "stream",
     "text": [
      "aekjoon\n",
      "baekjoon\n",
      "ekjoon\n",
      "joon\n",
      "kjoon\n",
      "n\n",
      "on\n",
      "oon\n"
     ]
    }
   ],
   "source": [
    "# 11656 접미사 배열 \n",
    "\n",
    "str1 = input()\n",
    "stack = []\n",
    "\n",
    "# 생각해낸 방법 for 문을이용해 한칸식 증가시키며 자른 문자열을\n",
    "# 스택에 차곡차곡 쌓은뒤 정렬하기!!\n",
    "for i in range(len(str1)):\n",
    "    stack.append(str1[i:])\n",
    "    \n",
    "stack.sort()\n",
    "\n",
    "print(*stack,sep=\"\\n\")"
   ]
  },
  {
   "cell_type": "code",
   "execution_count": null,
   "metadata": {},
   "outputs": [],
   "source": []
  }
 ],
 "metadata": {
  "interpreter": {
   "hash": "a1e652c232e0cefe6f97c6536d169df49659f4bdcda58c7a429b4465b653d154"
  },
  "kernelspec": {
   "display_name": "Python 3.8.8 ('base')",
   "language": "python",
   "name": "python3"
  },
  "language_info": {
   "codemirror_mode": {
    "name": "ipython",
    "version": 3
   },
   "file_extension": ".py",
   "mimetype": "text/x-python",
   "name": "python",
   "nbconvert_exporter": "python",
   "pygments_lexer": "ipython3",
   "version": "3.8.8"
  },
  "orig_nbformat": 4
 },
 "nbformat": 4,
 "nbformat_minor": 2
}
