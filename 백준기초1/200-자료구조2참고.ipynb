{
 "cells": [
  {
   "cell_type": "code",
   "execution_count": 9,
   "metadata": {},
   "outputs": [
    {
     "name": "stdout",
     "output_type": "stream",
     "text": [
      "3.00\n"
     ]
    }
   ],
   "source": [
    "# 1935\n",
    "# 피연산자와 만나면 push 연산자와 만나면 pop\n",
    "\n",
    "n = int(input()) # 피연산자의 수\n",
    "s = input()  # 후위 표기식\n",
    "li = [0]*n # 피연산자에 대응하는 값 받을 리스트 선언 \n",
    "\n",
    "for i in range(n):\n",
    "    li[i] = int(input())\n",
    "\n",
    "stack = []\n",
    "\n",
    "for i in s:\n",
    "    if \"A\" <= i <= \"Z\": # 피연산자 인카운터\n",
    "        stack.append(li[ord(i)-ord(\"A\")])\n",
    "    else :\n",
    "        str2 = stack.pop()\n",
    "        str1 = stack.pop()\n",
    "        \n",
    "        if i == \"+\":\n",
    "            stack.append(str1 + str2)\n",
    "        elif i == \"-\":\n",
    "            stack.append(str1 - str2)\n",
    "        elif i == \"*\":\n",
    "            stack.append(str1 * str2)\n",
    "        elif i == \"/\":\n",
    "            stack.append(str1 / str2)\n",
    "                        \n",
    "print(\"%.2f\" %stack[0])"
   ]
  },
  {
   "cell_type": "code",
   "execution_count": 5,
   "metadata": {},
   "outputs": [
    {
     "ename": "SyntaxError",
     "evalue": "unexpected EOF while parsing (<ipython-input-5-641e45b857c7>, line 10)",
     "output_type": "error",
     "traceback": [
      "\u001b[1;36m  File \u001b[1;32m\"<ipython-input-5-641e45b857c7>\"\u001b[1;36m, line \u001b[1;32m10\u001b[0m\n\u001b[1;33m    \u001b[0m\n\u001b[1;37m    ^\u001b[0m\n\u001b[1;31mSyntaxError\u001b[0m\u001b[1;31m:\u001b[0m unexpected EOF while parsing\n"
     ]
    }
   ],
   "source": [
    "#1918 후위 표기식 \n",
    "\n",
    "# s = input()\n",
    "# stack = []\n",
    "# for i in s:\n",
    "#     if s.isalpha():\n",
    "#         stack.append(s)\n",
    "#     elif s == \"*\" or s == \"/\":\n",
    "#         while stack and (stack[-1]==\"*\"or stack[-1]==\"/\"):\n",
    "    \n"
   ]
  },
  {
   "cell_type": "code",
   "execution_count": 6,
   "metadata": {},
   "outputs": [
    {
     "name": "stdout",
     "output_type": "stream",
     "text": [
      "65\n",
      "A\n"
     ]
    }
   ],
   "source": [
    "#ord,chr 사용법\n",
    "print(ord(\"A\")) # 65 출력\n",
    "print(chr(65))  # a  출력"
   ]
  },
  {
   "cell_type": "code",
   "execution_count": 9,
   "metadata": {},
   "outputs": [
    {
     "name": "stdout",
     "output_type": "stream",
     "text": [
      "7.80\n"
     ]
    }
   ],
   "source": [
    "n = int(input())\n",
    "s = input()\n",
    "li = [0]*n\n",
    "# 이 리스트에는 각 알파벳의 수가 들어있음\n",
    "for i in range (n) :\n",
    "    li[i] = int(input())\n",
    "\n",
    "stack = []\n",
    "\n",
    "for i in s:\n",
    "    if \"A\" <= i <= \"Z\":\n",
    "        stack.append(li[ord(i)-ord(\"A\")]) # 1이면 li[0] 2면 li[1] 이런식 \n",
    "    else :\n",
    "        str2 = stack.pop() # / 연산 떄문에 str2 를 먼저 했음\n",
    "        str1 = stack.pop()\n",
    "        if i == \"+\":\n",
    "            stack.append(str1+str2)\n",
    "        elif i == \"-\":\n",
    "            stack.append(str1-str2)\n",
    "        elif i == \"*\":\n",
    "            stack.append(str1*str2)\n",
    "        elif i == \"/\":\n",
    "            stack.append(str1/str2)\n",
    "\n",
    "# 후위 표기식 .2f \n",
    "print(\"%.2f\" %stack[0])"
   ]
  },
  {
   "cell_type": "markdown",
   "metadata": {},
   "source": []
  }
 ],
 "metadata": {
  "interpreter": {
   "hash": "a1e652c232e0cefe6f97c6536d169df49659f4bdcda58c7a429b4465b653d154"
  },
  "kernelspec": {
   "display_name": "Python 3.8.8 ('base')",
   "language": "python",
   "name": "python3"
  },
  "language_info": {
   "codemirror_mode": {
    "name": "ipython",
    "version": 3
   },
   "file_extension": ".py",
   "mimetype": "text/x-python",
   "name": "python",
   "nbconvert_exporter": "python",
   "pygments_lexer": "ipython3",
   "version": "3.8.8"
  },
  "orig_nbformat": 4
 },
 "nbformat": 4,
 "nbformat_minor": 2
}
