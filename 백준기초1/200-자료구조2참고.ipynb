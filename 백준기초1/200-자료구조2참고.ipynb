{
 "cells": [
  {
   "cell_type": "code",
   "execution_count": 3,
   "metadata": {},
   "outputs": [
    {
     "name": "stdout",
     "output_type": "stream",
     "text": [
      "6.20\n"
     ]
    }
   ],
   "source": [
    "# 1935\n",
    "# 피연산자와 만나면 push 연산자와 만나면 pop\n",
    "\n",
    "n = int(input()) # 피연산자의 수\n",
    "s = input()  # 후위 표기식\n",
    "li = [0]*n # 피연산자에 대응하는 값 받을 리스트 선언 \n",
    "\n",
    "for i in range(n):\n",
    "    li[i] = int(input())\n",
    "\n",
    "stack = []\n",
    "\n",
    "for i in s:\n",
    "    if \"A\" <= i <= \"Z\": # 피연산자 인카운터\n",
    "        stack.append(li[ord(i)-ord(\"A\")])\n",
    "    else :\n",
    "        str2 = stack.pop()\n",
    "        str1 = stack.pop()\n",
    "        \n",
    "        if i == \"+\":\n",
    "            stack.append(str1 + str2)\n",
    "        elif i == \"-\":\n",
    "            stack.append(str1 - str2)\n",
    "        elif i == \"*\":\n",
    "            stack.append(str1 * str2)\n",
    "        elif i == \"/\":\n",
    "            stack.append(str1 / str2)\n",
    "            \n",
    "print(\"%.2f\" %stack[0])"
   ]
  }
 ],
 "metadata": {
  "interpreter": {
   "hash": "a1e652c232e0cefe6f97c6536d169df49659f4bdcda58c7a429b4465b653d154"
  },
  "kernelspec": {
   "display_name": "Python 3.8.8 ('base')",
   "language": "python",
   "name": "python3"
  },
  "language_info": {
   "codemirror_mode": {
    "name": "ipython",
    "version": 3
   },
   "file_extension": ".py",
   "mimetype": "text/x-python",
   "name": "python",
   "nbconvert_exporter": "python",
   "pygments_lexer": "ipython3",
   "version": "3.8.8"
  },
  "orig_nbformat": 4
 },
 "nbformat": 4,
 "nbformat_minor": 2
}
