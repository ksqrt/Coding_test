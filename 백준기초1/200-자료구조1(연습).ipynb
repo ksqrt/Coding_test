{
 "cells": [
  {
   "cell_type": "code",
   "execution_count": null,
   "metadata": {},
   "outputs": [],
   "source": [
    "n= input()\n",
    "sta1 =[]\n",
    "ans = 0\n",
    "\n",
    "for i in range(len(n)):\n",
    "    if n[i] == \"(\":\n",
    "        sta1.append(\"(\")\n",
    "    else :\n",
    "        if sta1[i-1] ==\"(\":\n",
    "            sta1.pop()\n",
    "            ans +=len(sta1)\n",
    "        else :\n",
    "            sta1.pop()\n",
    "             ans +=1\n",
    "            \n",
    "            \n",
    "\n"
   ]
  },
  {
   "cell_type": "code",
   "execution_count": null,
   "metadata": {},
   "outputs": [],
   "source": []
  }
 ],
 "metadata": {
  "language_info": {
   "name": "python"
  },
  "orig_nbformat": 4
 },
 "nbformat": 4,
 "nbformat_minor": 2
}
