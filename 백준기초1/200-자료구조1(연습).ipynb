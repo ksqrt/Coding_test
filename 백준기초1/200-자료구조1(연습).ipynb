{
 "cells": [
  {
   "cell_type": "code",
   "execution_count": 2,
   "metadata": {},
   "outputs": [
    {
     "ename": "IndexError",
     "evalue": "list index out of range",
     "output_type": "error",
     "traceback": [
      "\u001b[1;31m---------------------------------------------------------------------------\u001b[0m",
      "\u001b[1;31mIndexError\u001b[0m                                Traceback (most recent call last)",
      "\u001b[1;32m<ipython-input-2-24f13e80aa02>\u001b[0m in \u001b[0;36m<module>\u001b[1;34m\u001b[0m\n\u001b[0;32m      7\u001b[0m         \u001b[0msta1\u001b[0m\u001b[1;33m.\u001b[0m\u001b[0mappend\u001b[0m\u001b[1;33m(\u001b[0m\u001b[1;34m\"(\"\u001b[0m\u001b[1;33m)\u001b[0m\u001b[1;33m\u001b[0m\u001b[1;33m\u001b[0m\u001b[0m\n\u001b[0;32m      8\u001b[0m     \u001b[1;32melse\u001b[0m \u001b[1;33m:\u001b[0m\u001b[1;33m\u001b[0m\u001b[1;33m\u001b[0m\u001b[0m\n\u001b[1;32m----> 9\u001b[1;33m         \u001b[1;32mif\u001b[0m \u001b[0msta1\u001b[0m\u001b[1;33m[\u001b[0m\u001b[0mi\u001b[0m\u001b[1;33m-\u001b[0m\u001b[1;36m1\u001b[0m\u001b[1;33m]\u001b[0m \u001b[1;33m==\u001b[0m\u001b[1;34m\"(\"\u001b[0m\u001b[1;33m:\u001b[0m\u001b[1;33m\u001b[0m\u001b[1;33m\u001b[0m\u001b[0m\n\u001b[0m\u001b[0;32m     10\u001b[0m             \u001b[0msta1\u001b[0m\u001b[1;33m.\u001b[0m\u001b[0mpop\u001b[0m\u001b[1;33m(\u001b[0m\u001b[1;33m)\u001b[0m\u001b[1;33m\u001b[0m\u001b[1;33m\u001b[0m\u001b[0m\n\u001b[0;32m     11\u001b[0m             \u001b[0mans\u001b[0m \u001b[1;33m+=\u001b[0m\u001b[0mlen\u001b[0m\u001b[1;33m(\u001b[0m\u001b[0msta1\u001b[0m\u001b[1;33m)\u001b[0m\u001b[1;33m\u001b[0m\u001b[1;33m\u001b[0m\u001b[0m\n",
      "\u001b[1;31mIndexError\u001b[0m: list index out of range"
     ]
    }
   ],
   "source": [
    "n= input()\n",
    "sta1 =[]\n",
    "ans = 0\n",
    "\n",
    "for i in range(len(n)):\n",
    "    if n[i] == \"(\":\n",
    "        sta1.append(\"(\")\n",
    "    else :\n",
    "        if sta1[i-1] ==\"(\":\n",
    "            sta1.pop()\n",
    "            ans +=len(sta1)\n",
    "        else :\n",
    "            sta1.pop()\n",
    "            ans +=1\n",
    "            \n",
    "print(ans)\n"
   ]
  },
  {
   "cell_type": "code",
   "execution_count": 43,
   "metadata": {},
   "outputs": [
    {
     "name": "stdout",
     "output_type": "stream",
     "text": [
      "[5, 7, 7, -1]\n"
     ]
    }
   ],
   "source": [
    "#17298 오큰수\n",
    "\n",
    "# 이중 for 문을 이용한 방법\n",
    "\n",
    "n = int(input())\n",
    "arr1 = list(map(int,input().split()))\n",
    "\n",
    "nge = []\n",
    "temp = []\n",
    "for i in range(n-1):\n",
    "    k = arr1[i]\n",
    "    for j in range(i+1,n):\n",
    "        if arr1[j] > k :\n",
    "            temp.append(arr1[j])\n",
    "            \n",
    "    if len(temp)==0:\n",
    "        nge.append(-1)\n",
    "    else :\n",
    "        nge.append(temp[0])\n",
    "        temp.clear()\n",
    "    \n",
    "nge.append(-1)\n",
    "print(nge)"
   ]
  },
  {
   "cell_type": "code",
   "execution_count": 37,
   "metadata": {},
   "outputs": [
    {
     "name": "stdout",
     "output_type": "stream",
     "text": [
      "[]\n"
     ]
    }
   ],
   "source": [
    "import sys\n",
    "n = int(input())\n",
    "A = list(map(int, sys.stdin.readline().split()))\n",
    "answer = [-1] * n\n",
    "stack = [0]\n",
    "\n",
    "\n",
    "for i in range(1, n):\n",
    "    while stack and A[stack[-1]] < A[i]:\n",
    "        answer[stack.pop()] = A[i]\n",
    "    stack.append(i)\n",
    "\n",
    "print(*answer)"
   ]
  }
 ],
 "metadata": {
  "interpreter": {
   "hash": "a1e652c232e0cefe6f97c6536d169df49659f4bdcda58c7a429b4465b653d154"
  },
  "kernelspec": {
   "display_name": "Python 3.8.8 64-bit ('base': conda)",
   "language": "python",
   "name": "python3"
  },
  "language_info": {
   "codemirror_mode": {
    "name": "ipython",
    "version": 3
   },
   "file_extension": ".py",
   "mimetype": "text/x-python",
   "name": "python",
   "nbconvert_exporter": "python",
   "pygments_lexer": "ipython3",
   "version": "3.8.8"
  },
  "orig_nbformat": 4
 },
 "nbformat": 4,
 "nbformat_minor": 2
}
