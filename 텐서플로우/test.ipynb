{
 "cells": [
  {
   "cell_type": "code",
   "execution_count": 3,
   "metadata": {},
   "outputs": [
    {
     "name": "stdout",
     "output_type": "stream",
     "text": [
      "Epoch 1/30\n",
      "300/300 - 1s - loss: 0.3043 - accuracy: 0.9151 - val_loss: 0.1529 - val_accuracy: 0.9576 - 1s/epoch - 5ms/step\n",
      "Epoch 2/30\n",
      "300/300 - 1s - loss: 0.1263 - accuracy: 0.9634 - val_loss: 0.1052 - val_accuracy: 0.9689 - 1s/epoch - 3ms/step\n",
      "Epoch 3/30\n",
      "300/300 - 1s - loss: 0.0827 - accuracy: 0.9760 - val_loss: 0.0817 - val_accuracy: 0.9750 - 952ms/epoch - 3ms/step\n",
      "Epoch 4/30\n",
      "300/300 - 1s - loss: 0.0599 - accuracy: 0.9825 - val_loss: 0.0756 - val_accuracy: 0.9765 - 974ms/epoch - 3ms/step\n",
      "Epoch 5/30\n",
      "300/300 - 1s - loss: 0.0465 - accuracy: 0.9865 - val_loss: 0.0677 - val_accuracy: 0.9793 - 1s/epoch - 3ms/step\n",
      "Epoch 6/30\n",
      "300/300 - 1s - loss: 0.0350 - accuracy: 0.9901 - val_loss: 0.0669 - val_accuracy: 0.9791 - 909ms/epoch - 3ms/step\n",
      "Epoch 7/30\n",
      "300/300 - 1s - loss: 0.0263 - accuracy: 0.9932 - val_loss: 0.0608 - val_accuracy: 0.9816 - 936ms/epoch - 3ms/step\n",
      "Epoch 8/30\n",
      "300/300 - 1s - loss: 0.0206 - accuracy: 0.9950 - val_loss: 0.0638 - val_accuracy: 0.9801 - 924ms/epoch - 3ms/step\n",
      "Epoch 9/30\n",
      "300/300 - 1s - loss: 0.0149 - accuracy: 0.9969 - val_loss: 0.0596 - val_accuracy: 0.9828 - 930ms/epoch - 3ms/step\n",
      "Epoch 10/30\n",
      "300/300 - 1s - loss: 0.0126 - accuracy: 0.9973 - val_loss: 0.0625 - val_accuracy: 0.9812 - 974ms/epoch - 3ms/step\n",
      "Epoch 11/30\n",
      "300/300 - 1s - loss: 0.0100 - accuracy: 0.9981 - val_loss: 0.0640 - val_accuracy: 0.9800 - 935ms/epoch - 3ms/step\n",
      "Epoch 12/30\n",
      "300/300 - 1s - loss: 0.0075 - accuracy: 0.9986 - val_loss: 0.0642 - val_accuracy: 0.9816 - 989ms/epoch - 3ms/step\n",
      "Epoch 13/30\n",
      "300/300 - 1s - loss: 0.0061 - accuracy: 0.9992 - val_loss: 0.0651 - val_accuracy: 0.9819 - 962ms/epoch - 3ms/step\n",
      "Epoch 14/30\n",
      "300/300 - 1s - loss: 0.0041 - accuracy: 0.9996 - val_loss: 0.0605 - val_accuracy: 0.9822 - 901ms/epoch - 3ms/step\n",
      "Epoch 15/30\n",
      "300/300 - 1s - loss: 0.0029 - accuracy: 0.9999 - val_loss: 0.0592 - val_accuracy: 0.9838 - 936ms/epoch - 3ms/step\n",
      "Epoch 16/30\n",
      "300/300 - 1s - loss: 0.0039 - accuracy: 0.9993 - val_loss: 0.0737 - val_accuracy: 0.9792 - 921ms/epoch - 3ms/step\n",
      "Epoch 17/30\n",
      "300/300 - 1s - loss: 0.0086 - accuracy: 0.9976 - val_loss: 0.0770 - val_accuracy: 0.9792 - 954ms/epoch - 3ms/step\n",
      "Epoch 18/30\n",
      "300/300 - 1s - loss: 0.0053 - accuracy: 0.9988 - val_loss: 0.0709 - val_accuracy: 0.9798 - 1s/epoch - 3ms/step\n",
      "Epoch 19/30\n",
      "300/300 - 1s - loss: 0.0024 - accuracy: 0.9997 - val_loss: 0.0786 - val_accuracy: 0.9802 - 982ms/epoch - 3ms/step\n",
      "Epoch 20/30\n",
      "300/300 - 1s - loss: 0.0021 - accuracy: 0.9998 - val_loss: 0.0650 - val_accuracy: 0.9838 - 1000ms/epoch - 3ms/step\n",
      "Epoch 21/30\n",
      "300/300 - 1s - loss: 7.1799e-04 - accuracy: 1.0000 - val_loss: 0.0660 - val_accuracy: 0.9833 - 1s/epoch - 4ms/step\n",
      "Epoch 22/30\n",
      "300/300 - 1s - loss: 0.0050 - accuracy: 0.9985 - val_loss: 0.0879 - val_accuracy: 0.9787 - 1s/epoch - 4ms/step\n",
      "Epoch 23/30\n",
      "300/300 - 1s - loss: 0.0117 - accuracy: 0.9961 - val_loss: 0.0811 - val_accuracy: 0.9811 - 1s/epoch - 4ms/step\n",
      "Epoch 24/30\n",
      "300/300 - 1s - loss: 0.0027 - accuracy: 0.9994 - val_loss: 0.0749 - val_accuracy: 0.9813 - 989ms/epoch - 3ms/step\n",
      "Epoch 25/30\n",
      "300/300 - 1s - loss: 0.0014 - accuracy: 0.9998 - val_loss: 0.0691 - val_accuracy: 0.9833 - 1s/epoch - 3ms/step\n",
      "Epoch 26/30\n",
      "300/300 - 1s - loss: 4.5792e-04 - accuracy: 1.0000 - val_loss: 0.0675 - val_accuracy: 0.9837 - 945ms/epoch - 3ms/step\n",
      "Epoch 27/30\n",
      "300/300 - 1s - loss: 2.7660e-04 - accuracy: 1.0000 - val_loss: 0.0676 - val_accuracy: 0.9843 - 1s/epoch - 4ms/step\n",
      "Epoch 28/30\n",
      "300/300 - 1s - loss: 2.2718e-04 - accuracy: 1.0000 - val_loss: 0.0680 - val_accuracy: 0.9839 - 1s/epoch - 4ms/step\n",
      "Epoch 29/30\n",
      "300/300 - 1s - loss: 1.9794e-04 - accuracy: 1.0000 - val_loss: 0.0683 - val_accuracy: 0.9843 - 1s/epoch - 4ms/step\n",
      "Epoch 30/30\n",
      "300/300 - 1s - loss: 1.7513e-04 - accuracy: 1.0000 - val_loss: 0.0689 - val_accuracy: 0.9845 - 966ms/epoch - 3ms/step\n",
      "1875/1875 [==============================] - 2s 998us/step - loss: 1.4954e-04 - accuracy: 1.0000\n",
      "\n",
      "Accuracy: 1.0000\n",
      "313/313 [==============================] - 0s 820us/step - loss: 0.0689 - accuracy: 0.9845\n",
      "\n",
      "Val_Accuracy: 0.9845\n"
     ]
    }
   ],
   "source": [
    "# 딥러닝에 필요한 케라스 함수 호출\n",
    "from keras.utils import np_utils\n",
    "from keras.models import Sequential\n",
    "from keras.layers import Dense\n",
    "\n",
    "# 필요 라이브러리 호출\n",
    "import numpy\n",
    "import tensorflow as tf\n",
    "\n",
    "# 데이터 셋 호출\n",
    "from keras.datasets import mnist\n",
    "\n",
    "# 실행 시마다 같은 결과값 도출을 위한 시드 설정\n",
    "numpy.random.seed(0)\n",
    "tf.random.set_seed(0)\n",
    "\n",
    "# 데이터를 불러와서 각 변수에 저장\n",
    "(X_train, Y_train), (X_test, Y_test) = mnist.load_data()\n",
    "\n",
    "# 학습에 적합한 형태로 데이터 가공\n",
    "X_train = X_train.reshape(X_train.shape[0], 784).astype('float32') / 255\n",
    "X_test = X_test.reshape(X_test.shape[0], 784).astype('float32') / 255\n",
    "\n",
    "# 클래스를 학습에 이용하기 위해 데이터 가공\n",
    "Y_train = np_utils.to_categorical(Y_train, 10)\n",
    "Y_test = np_utils.to_categorical(Y_test, 10)\n",
    "\n",
    "# 딥러닝 모델 구조 설정(2개층, 512개의 뉴런 연결, 10개 클래스 출력 뉴런, 784개 픽셀 input 값, relu와 softmax 활성화 함수 이용)\n",
    "model = Sequential()\n",
    "model.add(Dense(512, input_dim=784, activation='relu'))\n",
    "model.add(Dense(10, activation='softmax'))\n",
    "\n",
    "# 딥러닝 구조 설정(loss 옵션을 다중 클래스에 적합한 categorical_crossentropy, 옵티마이저는 adam 설정)\n",
    "model.compile(loss='categorical_crossentropy', optimizer='adam',\n",
    "              metrics=['accuracy'])\n",
    "\n",
    "# 모델 실행(X_test, Y_test로 검증, 200개씩 30번 학습)\n",
    "model.fit(X_train, Y_train, validation_data=(X_test, Y_test), epochs=30, batch_size=200, verbose=2)\n",
    "\n",
    "# 학습 정확도, 검증 정확도 출력\n",
    "print('\\nAccuracy: {:.4f}'.format(model.evaluate(X_train, Y_train)[1]))\n",
    "print('\\nVal_Accuracy: {:.4f}'.format(model.evaluate(X_test, Y_test)[1]))\n",
    "\n",
    "# 모델 저장\n",
    "model.save('Predict_Model.h5')"
   ]
  },
  {
   "cell_type": "code",
   "execution_count": 4,
   "metadata": {},
   "outputs": [
    {
     "name": "stdout",
     "output_type": "stream",
     "text": [
      "1/1 [==============================] - 0s 27ms/step\n"
     ]
    },
    {
     "data": {
      "image/png": "[encoded data removed]",
      "text/plain": [
       "<Figure size 432x288 with 1 Axes>"
      ]
     },
     "metadata": {
      "needs_background": "light"
     },
     "output_type": "display_data"
    },
    {
     "name": "stdout",
     "output_type": "stream",
     "text": [
      "6\n"
     ]
    }
   ],
   "source": [
    "# 딥러닝에 필요한 케라스 함수 호출\n",
    "from keras.models import load_model\n",
    "from keras.utils import np_utils\n",
    "import matplotlib.pyplot as plt\n",
    "# 필요 라이브러리 호출(PIL은 이미지파일 처리위함)\n",
    "from PIL import Image\n",
    "import numpy as np\n",
    "\n",
    "# test.png는 그림판에서 붓으로 숫자 8을 그린 이미지 파일\n",
    "# test.png 파일 열어서 L(256단계 흑백이미지)로 변환\n",
    "img = Image.open(\"승휘3.png\").convert(\"L\")\n",
    "\n",
    "# 이미지를 784개 흑백 픽셀로 사이즈 변환\n",
    "img = np.resize(img, (1, 784))\n",
    "\n",
    "# 데이터를 모델에 적용할 수 있도록 가공\n",
    "test_data = ((np.array(img) / 255) - 1) * -1\n",
    "\n",
    "# 모델 불러오기\n",
    "model = load_model('Predict_Model.h5')\n",
    "\n",
    "# 클래스 예측 함수에 가공된 테스트 데이터 넣어 결과 도출\n",
    "# res = model.predict_classes(test_data)\n",
    "# 2021/10/02 수정 - 오류시 아래 명령어로 대체 가능합니다.\n",
    "res =(model.predict(test_data) > 0.5).astype(\"int32\")\n",
    "\n",
    "lis2 =list(*res)\n",
    "\n",
    "# print(lis2)\n",
    "# 넘파이의 최대 색인값 \n",
    "plt.imshow(test_images[0], cmap='Greys')\n",
    "plt.show()\n",
    "\n",
    "print(np.argmax(*res))\n",
    "\n",
    "# for i in range(len(lis2)):\n",
    "#     if lis2[i] == 1 :\n",
    "#         print(i)\n",
    "# print(res)"
   ]
  }
 ],
 "metadata": {
  "kernelspec": {
   "display_name": "Python 3.9.6 64-bit",
   "language": "python",
   "name": "python3"
  },
  "language_info": {
   "codemirror_mode": {
    "name": "ipython",
    "version": 3
   },
   "file_extension": ".py",
   "mimetype": "text/x-python",
   "name": "python",
   "nbconvert_exporter": "python",
   "pygments_lexer": "ipython3",
   "version": "3.9.6"
  },
  "orig_nbformat": 4,
  "vscode": {
   "interpreter": {
    "hash": "d950e4c32f890777a2194dc028b8528d8e3afcac7bd351498ca8ab6e2e4e0199"
   }
  }
 },
 "nbformat": 4,
 "nbformat_minor": 2
}
