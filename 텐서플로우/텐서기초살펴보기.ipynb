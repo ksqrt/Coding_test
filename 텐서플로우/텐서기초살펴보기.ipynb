{
 "cells": [
  {
   "cell_type": "code",
   "execution_count": 2,
   "metadata": {},
   "outputs": [
    {
     "name": "stdout",
     "output_type": "stream",
     "text": [
      "2.9.2\n"
     ]
    }
   ],
   "source": [
    "import tensorflow as tf\n",
    "import numpy as np\n",
    "print(tf.__version__)\n",
    "# COVID-19 Detection using VGG-16"
   ]
  },
  {
   "cell_type": "code",
   "execution_count": 3,
   "metadata": {},
   "outputs": [],
   "source": [
    "# 설치된 패키지목록 만들기\n",
    "# !pip freeze > requirements.txt"
   ]
  },
  {
   "cell_type": "code",
   "execution_count": 4,
   "metadata": {},
   "outputs": [
    {
     "name": "stdout",
     "output_type": "stream",
     "text": [
      "tf.Tensor([0 1 2], shape=(3,), dtype=int32)\n",
      "tf.Tensor([1 3], shape=(2,), dtype=int32)\n",
      "[1, 3, 5, 7, 9]\n"
     ]
    }
   ],
   "source": [
    "# tf.range() 는 기존 파이썬 range() 와 비슷함\n",
    "a = tf.range(0,3)\n",
    "b = tf.range(1,5,2)\n",
    "c = list(range(1,10,2))\n",
    "\n",
    "print (a)\n",
    "print (b)\n",
    "print (c)"
   ]
  },
  {
   "cell_type": "code",
   "execution_count": 5,
   "metadata": {},
   "outputs": [
    {
     "name": "stdout",
     "output_type": "stream",
     "text": [
      "tf.Tensor([0.  0.5 1. ], shape=(3,), dtype=float64)\n",
      "tf.Tensor(\n",
      "[0.         0.33333333 0.66666667 1.         1.33333333 1.66666667\n",
      " 2.         2.33333333 2.66666667 3.        ], shape=(10,), dtype=float64)\n",
      "---------------\n",
      "[0.  0.5 1. ]\n"
     ]
    }
   ],
   "source": [
    "# linespace 는 주어진 범위를 균일한 간격으로 나누는 숫자의 시퀀스반환 \n",
    "a = tf.linspace(0,1,3)\n",
    "b = tf.linspace(0,3,10)\n",
    "c = np.linspace(0,1,3)\n",
    "\n",
    "print(a)\n",
    "print(b)\n",
    "\n",
    "print(\"---------------\")\n",
    "print(c)"
   ]
  },
  {
   "cell_type": "code",
   "execution_count": 6,
   "metadata": {},
   "outputs": [
    {
     "name": "stdout",
     "output_type": "stream",
     "text": [
      "tf.Tensor(3, shape=(), dtype=int32)\n",
      "tf.Tensor(5, shape=(), dtype=int32)\n"
     ]
    }
   ],
   "source": [
    "# a+b\n",
    "a = tf.add(1,2)\n",
    "print(a)\n",
    "# a-b\n",
    "b= tf.subtract(10,5)\n",
    "print(b)\n",
    "\n"
   ]
  },
  {
   "cell_type": "code",
   "execution_count": 7,
   "metadata": {},
   "outputs": [
    {
     "name": "stdout",
     "output_type": "stream",
     "text": [
      "tf.Tensor([1 2 3], shape=(3,), dtype=int32)\n",
      "[1 2 3]\n"
     ]
    }
   ],
   "source": [
    "# 텐서를 넘파이 어레이로 변환\n",
    "a = tf.constant([1, 2, 3])\n",
    "\n",
    "print(a)\n",
    "a= np.array(a)\n",
    "print(a)"
   ]
  },
  {
   "cell_type": "code",
   "execution_count": 8,
   "metadata": {},
   "outputs": [
    {
     "name": "stdout",
     "output_type": "stream",
     "text": [
      "[1. 1. 1.]\n",
      "tf.Tensor([3. 3. 3.], shape=(3,), dtype=float64)\n"
     ]
    }
   ],
   "source": [
    "# 넘파이 어레이를 텐서로 변환\n",
    "b= np.ones(3)\n",
    "print(b)\n",
    "print(tf.multiply(b,3))"
   ]
  }
 ],
 "metadata": {
  "kernelspec": {
   "display_name": "Python 3.9.6 64-bit",
   "language": "python",
   "name": "python3"
  },
  "language_info": {
   "codemirror_mode": {
    "name": "ipython",
    "version": 3
   },
   "file_extension": ".py",
   "mimetype": "text/x-python",
   "name": "python",
   "nbconvert_exporter": "python",
   "pygments_lexer": "ipython3",
   "version": "3.9.6"
  },
  "orig_nbformat": 4,
  "vscode": {
   "interpreter": {
    "hash": "d950e4c32f890777a2194dc028b8528d8e3afcac7bd351498ca8ab6e2e4e0199"
   }
  }
 },
 "nbformat": 4,
 "nbformat_minor": 2
}
