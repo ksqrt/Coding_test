{
 "cells": [
  {
   "cell_type": "code",
   "execution_count": 1,
   "metadata": {},
   "outputs": [],
   "source": [
    "import tensorflow as tf\n",
    "from tensorflow import keras\n",
    "import matplotlib.pyplot as plt\n",
    "import numpy as np\n",
    "\n",
    "# 플롯의 기초 틀잡기\n",
    "plt.style.use('default')\n",
    "plt.rcParams['figure.figsize'] = (4, 3)\n",
    "plt.rcParams['font.size'] = 12\n",
    "\n",
    "tf.random.set_seed(0)\n",
    "\n",
    "# 1->3 레이어 구성\n",
    "model = keras.Sequential([keras.layers.Dense(units=3, input_shape=[1], use_bias=False)])\n",
    "# 손실함수, 옵티마이저 설정\n",
    "model.compile(loss='mse', optimizer='SGD')\n",
    "\n",
    "pred = model.predict([1])\n",
    "print(pred)\n",
    "print(model.get_weights())\n",
    "\n",
    "plt.bar(np.arange(3), pred[0])\n",
    "# y값 범위 설정\n",
    "plt.ylim(-1.1, 1.1)\n",
    "plt.xlabel('Output Node')\n",
    "plt.ylabel('Output')\n",
    "# 이 위치에다 텍스트 적기\n",
    "plt.text(-0.4, 0.8, 'Epoch 0')\n",
    "plt.tight_layout()\n",
    "# plt를 저장하고 \n",
    "plt.savefig('./plt/pred000.png')\n",
    "# plt를 클리어 지우기\n",
    "plt.clf()\n",
    "\n",
    "# 반복문으로 학습시키면서 특정 인덱스 값마다 plt를 저장\n",
    "epochs = 500\n",
    "for i in range(1, epochs+1):\n",
    "  model.fit([1], [[0, 1, 0]], epochs=1, verbose=0)\n",
    "  pred = model.predict([1])\n",
    "\n",
    "  if i % 25 == 0:\n",
    "      plt.bar(np.arange(3), pred[0])\n",
    "      plt.ylim(-1.1, 1.1)\n",
    "      plt.xlabel('Output Node')\n",
    "      plt.ylabel('Output')\n",
    "      plt.text(-0.4, 0.8, 'Epoch ' + str(i))\n",
    "      plt.tight_layout()\n",
    "      plt.savefig('./plt/pred' + str(i).zfill(3) + '.png')\n",
    "      plt.clf()\n",
    "\n",
    "print(pred)\n",
    "print(model.get_weights())"
   ]
  },
  {
   "cell_type": "code",
   "execution_count": 5,
   "metadata": {},
   "outputs": [
    {
     "data": {
      "image/png": "[encoded data removed]",
      "text/plain": [
       "<Figure size 432x288 with 1 Axes>"
      ]
     },
     "metadata": {
      "needs_background": "light"
     },
     "output_type": "display_data"
    }
   ],
   "source": [
    "# 옵티마이저 비교하기\n",
    "\n",
    "import tensorflow as tf\n",
    "from tensorflow import keras\n",
    "import numpy as np\n",
    "import matplotlib.pyplot as plt\n",
    "\n",
    "plt.style.use(\"default\")\n",
    "plt.rcParams['figure.figsize'] = (4, 3)\n",
    "plt.rcParams['font.size'] = 12\n",
    "\n",
    "tf.random.set_seed(0)\n",
    "model = keras.Sequential([keras.layers.Dense(units=3, input_shape=[1])])\n",
    "\n",
    "tf.random.set_seed(0)\n",
    "model2 = tf.keras.models.clone_model(model)\n",
    "\n",
    "tf.random.set_seed(0)\n",
    "model3 = tf.keras.models.clone_model(model)\n",
    "# 같은 3개지 모델의 옵티마이저를 다르게 만들기\n",
    "model.compile(loss='mse', optimizer='SGD')\n",
    "model2.compile(loss='mse', optimizer='Adam')\n",
    "model3.compile(loss='mse', optimizer='RMSprop')\n",
    "\n",
    "history = model.fit([1], [[0, 1, 0]], epochs=100, verbose=0)\n",
    "history2 = model2.fit([1], [[0, 1, 0]], epochs=100, verbose=0)\n",
    "history3 = model3.fit([1], [[0, 1, 0]], epochs=100, verbose=0)\n",
    "\n",
    "loss = history.history['loss']\n",
    "loss2 = history2.history['loss']\n",
    "loss3 = history3.history['loss']\n",
    "\n",
    "plt.plot(loss, label='SGD')\n",
    "plt.plot(loss2, label='Adam')\n",
    "plt.plot(loss3, label='RMSprop')\n",
    "plt.xlabel('Epoch')\n",
    "plt.ylabel('Loss')\n",
    "plt.legend(loc='lower left')\n",
    "plt.show()"
   ]
  }
 ],
 "metadata": {
  "kernelspec": {
   "display_name": "Python 3.9.6 64-bit",
   "language": "python",
   "name": "python3"
  },
  "language_info": {
   "codemirror_mode": {
    "name": "ipython",
    "version": 3
   },
   "file_extension": ".py",
   "mimetype": "text/x-python",
   "name": "python",
   "nbconvert_exporter": "python",
   "pygments_lexer": "ipython3",
   "version": "3.9.6"
  },
  "orig_nbformat": 4,
  "vscode": {
   "interpreter": {
    "hash": "d950e4c32f890777a2194dc028b8528d8e3afcac7bd351498ca8ab6e2e4e0199"
   }
  }
 },
 "nbformat": 4,
 "nbformat_minor": 2
}
