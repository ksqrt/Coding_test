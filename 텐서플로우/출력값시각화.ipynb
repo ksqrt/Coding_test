{
 "cells": [
  {
   "cell_type": "code",
   "execution_count": null,
   "metadata": {},
   "outputs": [],
   "source": [
    "import tensorflow as tf\n",
    "from tensorflow import keras\n",
    "import matplotlib.pyplot as plt\n",
    "import numpy as np\n",
    "\n",
    "# 플롯의 기초 틀잡기\n",
    "plt.style.use('default')\n",
    "plt.rcParams['figure.figsize'] = (4, 3)\n",
    "plt.rcParams['font.size'] = 12\n",
    "\n",
    "tf.random.set_seed(0)\n",
    "\n",
    "# 1->3 레이어 구성\n",
    "model = keras.Sequential([keras.layers.Dense(units=3, input_shape=[1], use_bias=False)])\n",
    "# 손실함수, 옵티마이저 설정\n",
    "model.compile(loss='mse', optimizer='SGD')\n",
    "\n",
    "pred = model.predict([1])\n",
    "print(pred)\n",
    "print(model.get_weights())\n",
    "\n",
    "plt.bar(np.arange(3), pred[0])\n",
    "# y값 범위 설정\n",
    "plt.ylim(-1.1, 1.1)\n",
    "plt.xlabel('Output Node')\n",
    "plt.ylabel('Output')\n",
    "# 이 위치에다 텍스트 적기\n",
    "plt.text(-0.4, 0.8, 'Epoch 0')\n",
    "plt.tight_layout()\n",
    "plt.savefig('./plt/pred000.png')\n",
    "plt.clf()\n",
    "\n",
    "epochs = 500\n",
    "for i in range(1, epochs+1):\n",
    "  model.fit([1], [[0, 1, 0]], epochs=1, verbose=0)\n",
    "  pred = model.predict([1])\n",
    "\n",
    "  if i % 25 == 0:\n",
    "      plt.bar(np.arange(3), pred[0])\n",
    "      plt.ylim(-1.1, 1.1)\n",
    "      plt.xlabel('Output Node')\n",
    "      plt.ylabel('Output')\n",
    "      plt.text(-0.4, 0.8, 'Epoch ' + str(i))\n",
    "      plt.tight_layout()\n",
    "      plt.savefig('./plt/pred' + str(i).zfill(3) + '.png')\n",
    "      plt.clf()\n",
    "\n",
    "print(pred)\n",
    "print(model.get_weights())"
   ]
  }
 ],
 "metadata": {
  "language_info": {
   "name": "python"
  },
  "orig_nbformat": 4
 },
 "nbformat": 4,
 "nbformat_minor": 2
}
