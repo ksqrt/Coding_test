{
 "cells": [
  {
   "cell_type": "code",
   "execution_count": 1,
   "metadata": {},
   "outputs": [],
   "source": [
    "import tensorflow as tf\n",
    "from tensorflow import keras\n",
    "import numpy as np"
   ]
  },
  {
   "cell_type": "code",
   "execution_count": 2,
   "metadata": {},
   "outputs": [],
   "source": [
    "# 케라스 모델의 sequential 클래스는 Neural Network 의 각층을 순서대로 쌓을 수 있도록 합니다\n",
    "# layers 모듈의 Dense 클래스는 하나의 뉴런층을 구현합니다. \n",
    "model = keras.Sequential([keras.layers.Dense(units=1, input_shape=[1])])"
   ]
  },
  {
   "cell_type": "code",
   "execution_count": 4,
   "metadata": {},
   "outputs": [],
   "source": [
    "model.compile(loss='mean_squared_error', optimizer='sgd')"
   ]
  },
  {
   "cell_type": "code",
   "execution_count": null,
   "metadata": {},
   "outputs": [],
   "source": [
    "# xs 는 훈련시킬 데이터 \n",
    "# ys 는 최종 out put 값\n",
    "# xs 와 ys 의 상관관계는 y = 2x-1 \n",
    "xs = np.array([-1.0, 0.0, 1.0, 2.0, 3.0, 4.0], dtype=float)\n",
    "ys = np.array([-3.0, -1.0, 1.0, 3.0, 5.0, 7.0], dtype=float)\n",
    "\n",
    "# fit 매서드는 주어진 입출력 데이터에대해 지정한 횟수만큼 훈련 \n",
    "model.fit(xs, ys, epochs=500)"
   ]
  },
  {
   "cell_type": "code",
   "execution_count": 11,
   "metadata": {},
   "outputs": [
    {
     "name": "stdout",
     "output_type": "stream",
     "text": [
      "1/1 [==============================] - 0s 35ms/step\n",
      "1/1 [==============================] - 0s 49ms/step\n",
      "[[8.999971]]\n",
      "[[5.000001]]\n"
     ]
    }
   ],
   "source": [
    "pred1 = model.predict([5.0])\n",
    "pred2 = model.predict([3.0])\n",
    "print(pred1)\n",
    "print(pred2)"
   ]
  },
  {
   "cell_type": "code",
   "execution_count": 13,
   "metadata": {},
   "outputs": [],
   "source": [
    "# 1개의 입력과 3개의 출력 노드 가지는 뉴럴네트워크 구성\n",
    "model2 = keras.Sequential([keras.layers.Dense(units=3, input_shape=[1])])"
   ]
  },
  {
   "cell_type": "code",
   "execution_count": null,
   "metadata": {},
   "outputs": [],
   "source": [
    "# 손실함수는 뉴럴 네트워크의 예측이 얼마나 잘 맞는지 측정하는 역할을 합니다.\n",
    "# 손실함수로부터 얻어진 손실값은 훈련과정에서 Neural Network\n",
    "# 가 얼마자 잘 훈련 되었는지 확인하는 지표 !!\n",
    "\n",
    "# MSE 손실함수를 이용해봅시다\n",
    "model2.compile(loss=\"mse\")"
   ]
  }
 ],
 "metadata": {
  "kernelspec": {
   "display_name": "Python 3.9.6 64-bit",
   "language": "python",
   "name": "python3"
  },
  "language_info": {
   "codemirror_mode": {
    "name": "ipython",
    "version": 3
   },
   "file_extension": ".py",
   "mimetype": "text/x-python",
   "name": "python",
   "nbconvert_exporter": "python",
   "pygments_lexer": "ipython3",
   "version": "3.9.6"
  },
  "orig_nbformat": 4,
  "vscode": {
   "interpreter": {
    "hash": "d950e4c32f890777a2194dc028b8528d8e3afcac7bd351498ca8ab6e2e4e0199"
   }
  }
 },
 "nbformat": 4,
 "nbformat_minor": 2
}
