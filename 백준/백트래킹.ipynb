{
 "cells": [
  {
   "cell_type": "code",
   "execution_count": 42,
   "metadata": {},
   "outputs": [
    {
     "name": "stdout",
     "output_type": "stream",
     "text": [
      "1 2\n",
      "1 3\n",
      "1 4\n",
      "2 1\n",
      "2 3\n",
      "2 4\n",
      "3 1\n",
      "3 2\n",
      "3 4\n",
      "4 1\n",
      "4 2\n",
      "4 3\n"
     ]
    }
   ],
   "source": [
    "# 15651번 \n",
    "n,m = list(map(int,input().split()))\n",
    "\n",
    "# 백트래킹을 위해 사용되는 리스트 s \n",
    "s = []\n",
    " \n",
    "def dfs():\n",
    "    # 재귀함수의 조건 특정 입력에 대해서는 자기자신을 \n",
    "    # 호출하지않고 종료되어야함 (Base condition)\n",
    "    # 또한 모든 입력은 base condition 으로 수렴해야함\n",
    "    if len(s)==m:\n",
    "        # \" \"을 띄우고 s 를 출력하는방법\n",
    "        print(' '.join(map(str,s)))\n",
    "        return\n",
    "    \n",
    "    for i in range(1,n+1):\n",
    "        if i not in s:\n",
    "            # 중복이 없으면 더해짐\n",
    "            s.append(i)\n",
    "            # 재귀함수를 반복하며 중복이 없는 수를 추가\n",
    "            dfs()\n",
    "            # base 컨디션을 만족하면 출력후 pop 하여 한칸 한칸 비운다\n",
    "            # 이후 남겨진 재귀함수의 반복문이 실행되며 다시 리스트에 값을 추가하며 이를 반복\n",
    "            s.pop()\n",
    "dfs()\n",
    " \n",
    "        "
   ]
  },
  {
   "cell_type": "code",
   "execution_count": 37,
   "metadata": {},
   "outputs": [
    {
     "name": "stdout",
     "output_type": "stream",
     "text": [
      "[(1, 2), (1, 3), (1, 4), (2, 1), (2, 3), (2, 4), (3, 1), (3, 2), (3, 4), (4, 1), (4, 2), (4, 3)]\n",
      "1 2\n",
      "1 3\n",
      "1 4\n",
      "2 1\n",
      "2 3\n",
      "2 4\n",
      "3 1\n",
      "3 2\n",
      "3 4\n",
      "4 1\n",
      "4 2\n",
      "4 3\n"
     ]
    }
   ],
   "source": [
    "from itertools import permutations\n",
    "n,m = map(int,(input().split()))\n",
    "arr = list(i for i in range(1,n+1))\n",
    "k = list(permutations(arr,m))\n",
    "for i in k:\n",
    "    print(\" \".join(map(str,i)))"
   ]
  },
  {
   "cell_type": "code",
   "execution_count": 7,
   "metadata": {},
   "outputs": [
    {
     "name": "stdout",
     "output_type": "stream",
     "text": [
      "ABCDEFGHIJKLMNO\n",
      "A_B_C_D_E_F_G_H_I_J_K_L_M_N_O\n"
     ]
    }
   ],
   "source": [
    "a= [chr(i) for i in range(65,80)]\n",
    "\n",
    "result1= \"\".join(a)\n",
    "result2= \"_\".join(a)\n",
    "print(result1)\n",
    "print(result2)"
   ]
  },
  {
   "cell_type": "code",
   "execution_count": 19,
   "metadata": {},
   "outputs": [
    {
     "ename": "ValueError",
     "evalue": "not enough values to unpack (expected 2, got 0)",
     "output_type": "error",
     "traceback": [
      "\u001b[1;31m---------------------------------------------------------------------------\u001b[0m",
      "\u001b[1;31mValueError\u001b[0m                                Traceback (most recent call last)",
      "\u001b[1;32m<ipython-input-19-ab52d8f2d6b9>\u001b[0m in \u001b[0;36m<module>\u001b[1;34m\u001b[0m\n\u001b[1;32m----> 1\u001b[1;33m \u001b[0mn\u001b[0m\u001b[1;33m,\u001b[0m\u001b[0mm\u001b[0m \u001b[1;33m=\u001b[0m \u001b[0mmap\u001b[0m\u001b[1;33m(\u001b[0m\u001b[0mint\u001b[0m\u001b[1;33m,\u001b[0m\u001b[0minput\u001b[0m\u001b[1;33m(\u001b[0m\u001b[1;33m)\u001b[0m\u001b[1;33m.\u001b[0m\u001b[0msplit\u001b[0m\u001b[1;33m(\u001b[0m\u001b[1;33m)\u001b[0m\u001b[1;33m)\u001b[0m\u001b[1;33m\u001b[0m\u001b[1;33m\u001b[0m\u001b[0m\n\u001b[0m\u001b[0;32m      2\u001b[0m \u001b[1;33m\u001b[0m\u001b[0m\n\u001b[0;32m      3\u001b[0m \u001b[0marr\u001b[0m\u001b[1;33m=\u001b[0m \u001b[1;33m[\u001b[0m\u001b[1;33m]\u001b[0m\u001b[1;33m\u001b[0m\u001b[1;33m\u001b[0m\u001b[0m\n\u001b[0;32m      4\u001b[0m \u001b[1;33m\u001b[0m\u001b[0m\n\u001b[0;32m      5\u001b[0m \u001b[1;32mdef\u001b[0m \u001b[0mrec\u001b[0m\u001b[1;33m(\u001b[0m\u001b[1;33m)\u001b[0m\u001b[1;33m:\u001b[0m\u001b[1;33m\u001b[0m\u001b[1;33m\u001b[0m\u001b[0m\n",
      "\u001b[1;31mValueError\u001b[0m: not enough values to unpack (expected 2, got 0)"
     ]
    }
   ],
   "source": [
    "n,m = map(int,input().split())\n",
    "\n",
    "arr= []\n",
    "\n",
    "def rec():\n",
    "    if len(arr) == m:\n",
    "        print(\" \".join(map(str,arr)))\n",
    "        return \n",
    "    \n",
    "    for i in range(1,n+1):\n",
    "        if i not in arr:\n",
    "            arr.append(i)\n",
    "            rec()\n",
    "            #  여기서 재귀를 호출시 \n",
    "            #  len 이 m 까지 호출됨\n",
    "            arr.pop()\n",
    "            #  출력후 arr 첫번쨰만 남기고       \n",
    "         \n",
    "rec()\n"
   ]
  },
  {
   "cell_type": "code",
   "execution_count": null,
   "metadata": {},
   "outputs": [],
   "source": []
  },
  {
   "cell_type": "code",
   "execution_count": 16,
   "metadata": {},
   "outputs": [
    {
     "ename": "SyntaxError",
     "evalue": "invalid syntax (<ipython-input-16-0b990a1b001c>, line 3)",
     "output_type": "error",
     "traceback": [
      "\u001b[1;36m  File \u001b[1;32m\"<ipython-input-16-0b990a1b001c>\"\u001b[1;36m, line \u001b[1;32m3\u001b[0m\n\u001b[1;33m    int num  = 7\u001b[0m\n\u001b[1;37m        ^\u001b[0m\n\u001b[1;31mSyntaxError\u001b[0m\u001b[1;31m:\u001b[0m invalid syntax\n"
     ]
    }
   ],
   "source": [
    "# # 깊이 우선 탐색 알고리즘\n",
    "\n",
    "# int num  = 7\n",
    "\n",
    "# a[]\n",
    "\n",
    "# def dep():\n",
    "#     if len(a) == 3 : \n",
    "#         print(\" \".join(map(str,a)))\n",
    "#     return\n",
    "\n",
    "#     if \n",
    "    "
   ]
  },
  {
   "cell_type": "code",
   "execution_count": 32,
   "metadata": {},
   "outputs": [
    {
     "name": "stdout",
     "output_type": "stream",
     "text": [
      "1 1\n",
      "1 2\n",
      "1 3\n",
      "1 4\n",
      "2 1\n",
      "2 2\n",
      "2 3\n",
      "2 4\n",
      "3 1\n",
      "3 2\n",
      "3 3\n",
      "3 4\n",
      "4 1\n",
      "4 2\n",
      "4 3\n",
      "4 4\n"
     ]
    }
   ],
   "source": [
    "n,m = map(int,input().split())\n",
    "\n",
    "arr= []\n",
    "\n",
    "def rec(cnt,index):\n",
    "    if c==m:\n",
    "        print(\" \".join(map(str,arr)))\n",
    "        return\n",
    "    \n",
    "    for i in range(1,n+1):\n",
    "        if i not in arr:\n",
    "            arr.append(i)\n",
    "            rec()\n",
    "            arr.pop()\n",
    "            \n",
    "rec()"
   ]
  },
  {
   "cell_type": "code",
   "execution_count": null,
   "metadata": {},
   "outputs": [],
   "source": []
  }
 ],
 "metadata": {
  "interpreter": {
   "hash": "a1e652c232e0cefe6f97c6536d169df49659f4bdcda58c7a429b4465b653d154"
  },
  "kernelspec": {
   "display_name": "Python 3.8.8 64-bit ('base': conda)",
   "language": "python",
   "name": "python3"
  },
  "language_info": {
   "codemirror_mode": {
    "name": "ipython",
    "version": 3
   },
   "file_extension": ".py",
   "mimetype": "text/x-python",
   "name": "python",
   "nbconvert_exporter": "python",
   "pygments_lexer": "ipython3",
   "version": "3.8.8"
  },
  "orig_nbformat": 4
 },
 "nbformat": 4,
 "nbformat_minor": 2
}
