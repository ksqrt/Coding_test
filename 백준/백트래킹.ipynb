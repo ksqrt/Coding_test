{
 "cells": [
  {
   "cell_type": "code",
   "execution_count": 42,
   "metadata": {},
   "outputs": [
    {
     "name": "stdout",
     "output_type": "stream",
     "text": [
      "1 2\n",
      "1 3\n",
      "1 4\n",
      "2 1\n",
      "2 3\n",
      "2 4\n",
      "3 1\n",
      "3 2\n",
      "3 4\n",
      "4 1\n",
      "4 2\n",
      "4 3\n"
     ]
    }
   ],
   "source": [
    "# 15651번 \n",
    "n,m = list(map(int,input().split()))\n",
    "\n",
    "# 백트래킹을 위해 사용되는 리스트 s \n",
    "s = []\n",
    " \n",
    "def dfs():\n",
    "    # 재귀함수의 조건 특정 입력에 대해서는 자기자신을 \n",
    "    # 호출하지않고 종료되어야함 (Base condition)\n",
    "    # 또한 모든 입력은 base condition 으로 수렴해야함\n",
    "    if len(s)==m:\n",
    "        # \" \"을 띄우고 s 를 출력하는방법\n",
    "        print(' '.join(map(str,s)))\n",
    "        return\n",
    "    \n",
    "    for i in range(1,n+1):\n",
    "        if i not in s:\n",
    "            # 중복이 없으면 더해짐\n",
    "            s.append(i)\n",
    "            # 재귀함수를 반복하며 중복이 없는 수를 추가\n",
    "            dfs()\n",
    "            # base 컨디션을 만족하면 출력후 pop 하여 한칸 한칸 비운다\n",
    "            # 이후 남겨진 재귀함수의 반복문이 실행되며 다시 리스트에 값을 추가하며 이를 반복\n",
    "            s.pop()\n",
    "dfs()"
   ]
  },
  {
   "cell_type": "code",
   "execution_count": 1,
   "metadata": {},
   "outputs": [
    {
     "name": "stdout",
     "output_type": "stream",
     "text": [
      "1 2\n",
      "1 3\n",
      "1 4\n",
      "2 1\n",
      "2 3\n",
      "2 4\n",
      "3 1\n",
      "3 2\n",
      "3 4\n",
      "4 1\n",
      "4 2\n",
      "4 3\n"
     ]
    }
   ],
   "source": [
    "# 15651 번 \n",
    "# 파이썬 permutations\n",
    "from itertools import permutations\n",
    "n,m = map(int,(input().split()))\n",
    "arr = list(i for i in range(1,n+1))\n",
    "k = list(permutations(arr,m))\n",
    "for i in k:\n",
    "    print(\" \".join(map(str,i)))"
   ]
  },
  {
   "cell_type": "code",
   "execution_count": 7,
   "metadata": {},
   "outputs": [
    {
     "name": "stdout",
     "output_type": "stream",
     "text": [
      "ABCDEFGHIJKLMNO\n",
      "A_B_C_D_E_F_G_H_I_J_K_L_M_N_O\n"
     ]
    }
   ],
   "source": [
    "# join 써보기\n",
    "a= [chr(i) for i in range(65,80)]\n",
    "\n",
    "result1= \"\".join(a)\n",
    "result2= \"_\".join(a)\n",
    "print(result1)\n",
    "print(result2)"
   ]
  },
  {
   "cell_type": "code",
   "execution_count": 4,
   "metadata": {},
   "outputs": [
    {
     "name": "stdout",
     "output_type": "stream",
     "text": [
      "1\n",
      "2\n",
      "3\n"
     ]
    }
   ],
   "source": [
    "n,m = map(int,input().split())\n",
    "\n",
    "arr= []\n",
    "\n",
    "def rec():\n",
    "    if len(arr) == m:\n",
    "        print(\" \".join(map(str,arr)))\n",
    "        return \n",
    "    \n",
    "    for i in range(1,n+1):\n",
    "        if i not in arr:\n",
    "            arr.append(i)\n",
    "            rec()\n",
    "            #  여기서 재귀를 호출시 \n",
    "            #  len 이 m 까지 호출됨\n",
    "            arr.pop()\n",
    "            #  출력후 arr 첫번쨰만 남기고       \n",
    "         \n",
    "rec()"
   ]
  },
  {
   "cell_type": "code",
   "execution_count": 12,
   "metadata": {},
   "outputs": [
    {
     "name": "stdout",
     "output_type": "stream",
     "text": [
      "1\n",
      "2\n",
      "3\n"
     ]
    }
   ],
   "source": [
    "# 15650 번 \n",
    "n,m = map(int,input().split())\n",
    "\n",
    "arr= []\n",
    "\n",
    "def rec(cnt,index):\n",
    "    #base condition\n",
    "    if cnt-1 == m: \n",
    "        print(\" \".join(map(str,arr)))\n",
    "        return \n",
    "    \n",
    "    for i in range(index,n+1):\n",
    "        \n",
    "        arr.append(i)\n",
    "        rec(cnt+1,i)\n",
    "        arr.pop()       \n",
    "rec(1,1)"
   ]
  },
  {
   "cell_type": "code",
   "execution_count": 15,
   "metadata": {},
   "outputs": [
    {
     "ename": "SyntaxError",
     "evalue": "invalid syntax (<ipython-input-15-f681ea077905>, line 22)",
     "output_type": "error",
     "traceback": [
      "\u001b[1;36m  File \u001b[1;32m\"<ipython-input-15-f681ea077905>\"\u001b[1;36m, line \u001b[1;32m22\u001b[0m\n\u001b[1;33m    if operator1[i]\u001b[0m\n\u001b[1;37m                   ^\u001b[0m\n\u001b[1;31mSyntaxError\u001b[0m\u001b[1;31m:\u001b[0m invalid syntax\n"
     ]
    }
   ],
   "source": [
    "# 14888\n",
    "\n",
    "n= int(input())\n",
    "arr= list(map(int,input().split()))\n",
    "# 딕셔너리로 만들어야 할거같음\n",
    "operator = list(map(int,input().split()))\n",
    "operator1 = {}\n",
    "\n",
    "# key값에 따라 0= + , 1 = - , 2= *, 3= /\n",
    "for i in range(len(operator)):\n",
    "    operator1[i] = operator[i]\n",
    "\n",
    "cnt = 0\n",
    "dee = []\n",
    "\n",
    "def dep(sum):\n",
    "    # base condition\n",
    "    if cnt == sum(operator1):\n",
    "        dee.append(sum)\n",
    "    \n",
    "    for key,vaule in operator1:\n",
    "        if key == 0:\n",
    "            dep(arr[i]+arr[i+1])\n",
    "        elif key == 1:\n",
    "            dep(arr[i]-arr[i+1])\n",
    "        elif key == 2:\n",
    "            dep(arr[i]*arr[i+1])\n",
    "        elif key == 3:\n",
    "            dep(arr[i]/arr[i+1])\n",
    "            \n",
    "    \n",
    "dep(0)"
   ]
  },
  {
   "cell_type": "code",
   "execution_count": 37,
   "metadata": {},
   "outputs": [
    {
     "name": "stdout",
     "output_type": "stream",
     "text": [
      "not cute\n"
     ]
    }
   ],
   "source": [
    "#23627\n",
    "n = list(map(str,input()))\n",
    "arr = []\n",
    "\n",
    "if len(n) >=5:\n",
    "    for i in range(-1,-6,-1):\n",
    "        arr.append(n[i])\n",
    "\n",
    "a= \"\".join(map(str,arr))    \n",
    "\n",
    "if str(a) == \"piird\":\n",
    "    print(\"cute\")\n",
    "else :\n",
    "    print(\"not cute\")\n"
   ]
  },
  {
   "cell_type": "code",
   "execution_count": 42,
   "metadata": {},
   "outputs": [
    {
     "ename": "ValueError",
     "evalue": "invalid literal for int() with base 10: ''",
     "output_type": "error",
     "traceback": [
      "\u001b[1;31m---------------------------------------------------------------------------\u001b[0m",
      "\u001b[1;31mValueError\u001b[0m                                Traceback (most recent call last)",
      "\u001b[1;32m<ipython-input-42-ce1053051081>\u001b[0m in \u001b[0;36m<module>\u001b[1;34m\u001b[0m\n\u001b[0;32m     24\u001b[0m \u001b[1;33m\u001b[0m\u001b[0m\n\u001b[0;32m     25\u001b[0m \u001b[1;33m\u001b[0m\u001b[0m\n\u001b[1;32m---> 26\u001b[1;33m \u001b[0mn\u001b[0m \u001b[1;33m=\u001b[0m \u001b[0mint\u001b[0m\u001b[1;33m(\u001b[0m\u001b[0minput\u001b[0m\u001b[1;33m(\u001b[0m\u001b[1;33m)\u001b[0m\u001b[1;33m)\u001b[0m\u001b[1;33m\u001b[0m\u001b[1;33m\u001b[0m\u001b[0m\n\u001b[0m\u001b[0;32m     27\u001b[0m \u001b[1;33m\u001b[0m\u001b[0m\n\u001b[0;32m     28\u001b[0m \u001b[1;33m\u001b[0m\u001b[0m\n",
      "\u001b[1;31mValueError\u001b[0m: invalid literal for int() with base 10: ''"
     ]
    }
   ],
   "source": [
    "# 9663\n",
    "def dfs(queen,n,row):\n",
    "    count = 0\n",
    "    if n == row:\n",
    "        return 1\n",
    "    for col in range(n):\n",
    "        queen[row] = col\n",
    "        \n",
    "        for x in range(row):\n",
    "            if queen[x] == queen[row]:\n",
    "                break\n",
    "            if abs(queen[x]-queen[row])==(row-x):\n",
    "                break\n",
    "        else :\n",
    "            count += dfs(queen, n, row+1)\n",
    "            \n",
    "    return count\n",
    "\n",
    "\n",
    "\n",
    "def soultion(n):\n",
    "    queen = [0]*n\n",
    "    return dfs(queen,n,0)\n",
    "\n",
    "\n",
    "n = int(input())\n",
    "\n",
    "\n",
    "print(soultion(n))"
   ]
  },
  {
   "cell_type": "code",
   "execution_count": 62,
   "metadata": {},
   "outputs": [
    {
     "name": "stdout",
     "output_type": "stream",
     "text": [
      "2\n"
     ]
    }
   ],
   "source": [
    "def dfs(queen, n, row):\n",
    "    count = 0\n",
    "    # base 조건 \n",
    "    if n == row:\n",
    "        return 1\n",
    "    \n",
    "    # 가로로 한번만 진행\n",
    "    for col in range(n):\n",
    "        queen[row] = col\n",
    "\n",
    "        # for-else구문\n",
    "        for x in range(row):\n",
    "            # 세로로 겹치면 안됨\n",
    "            if queen[x] == queen[row]: \n",
    "                break\n",
    "                \n",
    "            # 대각선으로 겹치면 안됨\n",
    "            if abs(queen[x]-queen[row]) == (row-x):\n",
    "                break\n",
    "        else:\n",
    "            count += dfs(queen, n, row+1)\n",
    "            \n",
    "    return count\n",
    "\n",
    "def sol1(n):\n",
    "    queen = [0]*n\n",
    "    return dfs(queen,n,0)\n",
    "\n",
    "print(sol1(int(input())))"
   ]
  }
 ],
 "metadata": {
  "interpreter": {
   "hash": "a1e652c232e0cefe6f97c6536d169df49659f4bdcda58c7a429b4465b653d154"
  },
  "kernelspec": {
   "display_name": "Python 3.8.8 64-bit ('base': conda)",
   "language": "python",
   "name": "python3"
  },
  "language_info": {
   "codemirror_mode": {
    "name": "ipython",
    "version": 3
   },
   "file_extension": ".py",
   "mimetype": "text/x-python",
   "name": "python",
   "nbconvert_exporter": "python",
   "pygments_lexer": "ipython3",
   "version": "3.8.8"
  },
  "orig_nbformat": 4
 },
 "nbformat": 4,
 "nbformat_minor": 2
}
