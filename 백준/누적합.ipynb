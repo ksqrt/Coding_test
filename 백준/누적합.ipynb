{
 "cells": [
  {
   "cell_type": "code",
   "execution_count": 6,
   "metadata": {},
   "outputs": [
    {
     "name": "stdout",
     "output_type": "stream",
     "text": [
      "12\n",
      "9\n",
      "1\n"
     ]
    }
   ],
   "source": [
    "# 11659 누적합\n",
    "import itertools\n",
    "import sys\n",
    "input = sys.stdin.readline\n",
    "\n",
    "n,m = map(int,input().split())\n",
    "list_n = list(map(int,input().split()))\n",
    "result = list(itertools.accumulate(list_n))\n",
    "\n",
    "# print(result)\n",
    "\n",
    "for i in range(m):\n",
    "    a,b = map(int,input().split())\n",
    "    # 0부터 서순을위해 -1 해주기\n",
    "    a= a-1\n",
    "    b-=1\n",
    "    \n",
    "    if a == 0:\n",
    "        print(result[b])\n",
    "    else :\n",
    "        print(result[b]-result[a-1])"
   ]
  }
 ],
 "metadata": {
  "interpreter": {
   "hash": "a1e652c232e0cefe6f97c6536d169df49659f4bdcda58c7a429b4465b653d154"
  },
  "kernelspec": {
   "display_name": "Python 3.8.8 ('base')",
   "language": "python",
   "name": "python3"
  },
  "language_info": {
   "codemirror_mode": {
    "name": "ipython",
    "version": 3
   },
   "file_extension": ".py",
   "mimetype": "text/x-python",
   "name": "python",
   "nbconvert_exporter": "python",
   "pygments_lexer": "ipython3",
   "version": "3.8.8"
  },
  "orig_nbformat": 4
 },
 "nbformat": 4,
 "nbformat_minor": 2
}
