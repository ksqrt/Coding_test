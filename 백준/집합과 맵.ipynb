{
 "cells": [
  {
   "cell_type": "code",
   "execution_count": 5,
   "metadata": {},
   "outputs": [],
   "source": [
    "# 10815 숫자카드\n",
    "import sys\n",
    "input = sys.stdin.readline\n",
    "\n",
    "n = int(input())\n",
    "card1 = set(map(int,input().split()))\n",
    "    \n",
    "m = int(input())\n",
    "card2 = list(map(int,input().split()))\n",
    "\n",
    "temp = []\n",
    "\n",
    "for i in card2:\n",
    "    if i in card1:\n",
    "        temp.append(1)\n",
    "    else :\n",
    "        temp.append(0)\n",
    "        \n",
    "print(*temp)"
   ]
  },
  {
   "cell_type": "code",
   "execution_count": null,
   "metadata": {},
   "outputs": [],
   "source": [
    "import sys\n",
    "\n",
    "n = int(input())\n",
    "card = list(map(int, sys.stdin.readline().split()))\n",
    "m = int(input())\n",
    "check = list(map(int, sys.stdin.readline().split()))\n",
    "\n",
    "card.sort()\n",
    "\n",
    "def binary_search(array, target, start, end):\n",
    "    while start <= end:\n",
    "        mid = (start + end) // 2\n",
    "\n",
    "        if array[mid] == target:\n",
    "            return mid\n",
    "        elif array[mid] > target:\n",
    "            end = mid - 1\n",
    "        else:\n",
    "            start = mid + 1\n",
    "    return None\n",
    "\n",
    "\n",
    "for i in range(m):\n",
    "    if binary_search(card, check[i], 0, n - 1) is not None:\n",
    "        print(1, end=' ')\n",
    "    else:\n",
    "        print(0, end=' ')"
   ]
  }
 ],
 "metadata": {
  "interpreter": {
   "hash": "d6ff435b63292575e421c30462bbe59b3fd5b3cb29e7f36cd4578b986181b4bd"
  },
  "kernelspec": {
   "display_name": "Python 3.8.8 ('base')",
   "language": "python",
   "name": "python3"
  },
  "language_info": {
   "codemirror_mode": {
    "name": "ipython",
    "version": 3
   },
   "file_extension": ".py",
   "mimetype": "text/x-python",
   "name": "python",
   "nbconvert_exporter": "python",
   "pygments_lexer": "ipython3",
   "version": "3.8.8"
  },
  "orig_nbformat": 4
 },
 "nbformat": 4,
 "nbformat_minor": 2
}
