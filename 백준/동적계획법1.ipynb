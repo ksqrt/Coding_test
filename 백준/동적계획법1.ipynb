{
 "cells": [
  {
   "cell_type": "code",
   "execution_count": null,
   "metadata": {},
   "outputs": [],
   "source": [
    "# arr = []\n",
    "# def fivo(n):\n",
    "#     if n == 0:\n",
    "#         arr.append(0)\n",
    "#         return 0\n",
    "#     elif n == 1:\n",
    "#         arr.append(1)\n",
    "#         return 1\n",
    "#     else :\n",
    "#         return fivo(n-1) + fivo(n-2)\n",
    "    \n",
    "# n = int(input())\n",
    "\n",
    "# for i in range(n):\n",
    "#     fivo(int(input()))\n",
    "#     print(arr.count(0),arr.count(1))\n",
    "#     arr = []"
   ]
  },
  {
   "cell_type": "code",
   "execution_count": 5,
   "metadata": {},
   "outputs": [
    {
     "ename": "ValueError",
     "evalue": "invalid literal for int() with base 10: ''",
     "output_type": "error",
     "traceback": [
      "\u001b[1;31m---------------------------------------------------------------------------\u001b[0m",
      "\u001b[1;31mValueError\u001b[0m                                Traceback (most recent call last)",
      "\u001b[1;32m~\\AppData\\Local\\Temp/ipykernel_25360/321029863.py\u001b[0m in \u001b[0;36m<module>\u001b[1;34m\u001b[0m\n\u001b[0;32m     12\u001b[0m \u001b[1;33m\u001b[0m\u001b[0m\n\u001b[0;32m     13\u001b[0m \u001b[1;33m\u001b[0m\u001b[0m\n\u001b[1;32m---> 14\u001b[1;33m \u001b[1;32mfor\u001b[0m \u001b[0mi\u001b[0m \u001b[1;32min\u001b[0m \u001b[0mrange\u001b[0m\u001b[1;33m(\u001b[0m\u001b[0mint\u001b[0m\u001b[1;33m(\u001b[0m\u001b[0minput\u001b[0m\u001b[1;33m(\u001b[0m\u001b[1;33m)\u001b[0m\u001b[1;33m)\u001b[0m\u001b[1;33m)\u001b[0m\u001b[1;33m:\u001b[0m\u001b[1;33m\u001b[0m\u001b[1;33m\u001b[0m\u001b[0m\n\u001b[0m\u001b[0;32m     15\u001b[0m     \u001b[0mfibonacci\u001b[0m\u001b[1;33m(\u001b[0m\u001b[0mint\u001b[0m\u001b[1;33m(\u001b[0m\u001b[0minput\u001b[0m\u001b[1;33m(\u001b[0m\u001b[1;33m)\u001b[0m\u001b[1;33m)\u001b[0m\u001b[1;33m)\u001b[0m\u001b[1;33m\u001b[0m\u001b[1;33m\u001b[0m\u001b[0m\n",
      "\u001b[1;31mValueError\u001b[0m: invalid literal for int() with base 10: ''"
     ]
    }
   ],
   "source": [
    "zero = [1, 0, 1]\n",
    "one = [0, 1, 1]\n",
    "\n",
    "def fibonacci(num):\n",
    "    length = len(zero)\n",
    "    if num >= length:\n",
    "        for i in range(length, num+1):\n",
    "            zero.append(zero[i-1] + zero[i-2])\n",
    "            one.append(one[i-1] + one[i-2])\n",
    "    print('{} {}'.format(zero[num], one[num]))\n",
    "\n",
    "\n",
    "    \n",
    "for i in range(int(input())):\n",
    "    fibonacci(int(input()))"
   ]
  }
 ],
 "metadata": {
  "interpreter": {
   "hash": "130271d8a8f364840779cb642af5afb2d57ece6af778a92903bdd533fc814263"
  },
  "kernelspec": {
   "display_name": "Python 3.9.9 64-bit (windows store)",
   "language": "python",
   "name": "python3"
  },
  "language_info": {
   "codemirror_mode": {
    "name": "ipython",
    "version": 3
   },
   "file_extension": ".py",
   "mimetype": "text/x-python",
   "name": "python",
   "nbconvert_exporter": "python",
   "pygments_lexer": "ipython3",
   "version": "3.9.9"
  },
  "orig_nbformat": 4
 },
 "nbformat": 4,
 "nbformat_minor": 2
}
