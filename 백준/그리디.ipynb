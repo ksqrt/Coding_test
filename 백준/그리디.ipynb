{
 "cells": [
  {
   "cell_type": "code",
   "execution_count": 24,
   "metadata": {},
   "outputs": [
    {
     "ename": "ValueError",
     "evalue": "not enough values to unpack (expected 2, got 0)",
     "output_type": "error",
     "traceback": [
      "\u001b[1;31m---------------------------------------------------------------------------\u001b[0m",
      "\u001b[1;31mValueError\u001b[0m                                Traceback (most recent call last)",
      "\u001b[1;32m<ipython-input-24-b8a1bd9ba3ec>\u001b[0m in \u001b[0;36m<module>\u001b[1;34m\u001b[0m\n\u001b[0;32m      1\u001b[0m \u001b[1;31m# 11047\u001b[0m\u001b[1;33m\u001b[0m\u001b[1;33m\u001b[0m\u001b[1;33m\u001b[0m\u001b[0m\n\u001b[1;32m----> 2\u001b[1;33m \u001b[0mn\u001b[0m\u001b[1;33m,\u001b[0m\u001b[0mm\u001b[0m \u001b[1;33m=\u001b[0m \u001b[0mmap\u001b[0m\u001b[1;33m(\u001b[0m\u001b[0mint\u001b[0m\u001b[1;33m,\u001b[0m\u001b[0minput\u001b[0m\u001b[1;33m(\u001b[0m\u001b[1;33m)\u001b[0m\u001b[1;33m.\u001b[0m\u001b[0msplit\u001b[0m\u001b[1;33m(\u001b[0m\u001b[1;33m)\u001b[0m\u001b[1;33m)\u001b[0m\u001b[1;33m\u001b[0m\u001b[1;33m\u001b[0m\u001b[0m\n\u001b[0m\u001b[0;32m      3\u001b[0m \u001b[1;33m\u001b[0m\u001b[0m\n\u001b[0;32m      4\u001b[0m \u001b[0marr\u001b[0m\u001b[1;33m=\u001b[0m \u001b[1;33m[\u001b[0m\u001b[1;33m]\u001b[0m\u001b[1;33m\u001b[0m\u001b[1;33m\u001b[0m\u001b[0m\n\u001b[0;32m      5\u001b[0m \u001b[1;32mfor\u001b[0m \u001b[0mi\u001b[0m \u001b[1;32min\u001b[0m \u001b[0mrange\u001b[0m\u001b[1;33m(\u001b[0m\u001b[0mn\u001b[0m\u001b[1;33m)\u001b[0m\u001b[1;33m:\u001b[0m\u001b[1;33m\u001b[0m\u001b[1;33m\u001b[0m\u001b[0m\n",
      "\u001b[1;31mValueError\u001b[0m: not enough values to unpack (expected 2, got 0)"
     ]
    }
   ],
   "source": [
    "# 11047\n",
    "n,m = map(int,input().split())\n",
    "\n",
    "arr= []\n",
    "for i in range(n):\n",
    "    arr.append(int(input()))\n",
    "\n",
    "#큰수부터 차래대로 사용하기위한 내림차순 정렬\n",
    "arr.sort(reverse=True)\n",
    "\n",
    "count = 0\n",
    "tmp = 0\n",
    "\n",
    "while m != 0:\n",
    "    \n",
    "    if m < arr[tmp]:\n",
    "        tmp +=1\n",
    "    else:\n",
    "        # 몫\n",
    "        count +=m//arr[tmp]\n",
    "        # 나머지\n",
    "        m %= arr[tmp]\n",
    "        tmp += 1\n",
    "    \n",
    "print(count)\n"
   ]
  },
  {
   "cell_type": "code",
   "execution_count": 59,
   "metadata": {},
   "outputs": [
    {
     "name": "stdout",
     "output_type": "stream",
     "text": [
      "4\n"
     ]
    }
   ],
   "source": [
    "# 1931 \n",
    "import sys\n",
    "input = sys.stdin.readline\n",
    "    \n",
    "n = int(input())\n",
    "arr = []\n",
    "for i in range(n):\n",
    "    arr.append(list(map(int,input().split())))    \n",
    "# print(arr)\n",
    "# 끝나는 시간이 작은순서 대로 정렬 \n",
    "\n",
    "# 리스트 정렬\n",
    "arr.sort()\n",
    "arr.sort(key= lambda x: x[1])\n",
    "\n",
    "stack = []\n",
    "tmp = 0\n",
    "# arr 이 빈 배열이 될때까지 반복\n",
    "while arr:\n",
    "    # 정렬이 된 배열이기떄문에 0번째 값을 넣어주고 삭제\n",
    "    stack.append(arr[0])\n",
    "    del arr[0]\n",
    "    arr = list(filter(lambda x: x[0] >= stack[tmp][1],arr))\n",
    "    tmp += 1\n",
    "\n",
    "print(len(stack))\n"
   ]
  },
  {
   "cell_type": "code",
   "execution_count": 58,
   "metadata": {},
   "outputs": [
    {
     "name": "stdout",
     "output_type": "stream",
     "text": [
      "[[1, 4], [3, 6], [0, 6], [5, 7], [3, 8], [5, 9], [6, 10], [8, 11], [8, 12], [2, 13], [12, 14]]\n",
      "[[0, 6], [1, 4], [2, 13], [3, 6], [3, 8], [5, 7], [5, 9], [6, 10], [8, 11], [8, 12], [12, 14]]\n",
      "[[1, 4], [0, 6], [3, 6], [5, 7], [3, 8], [5, 9], [6, 10], [8, 11], [8, 12], [2, 13], [12, 14]]\n"
     ]
    }
   ],
   "source": [
    "n = int(input())\n",
    "arr = []\n",
    "for i in range(n):\n",
    "    arr.append(list(map(int,input().split())))    \n",
    "print(arr)\n",
    "arr.sort()\n",
    "print(arr)\n",
    "arr.sort(key= lambda x: x[1])\n",
    "print(arr)"
   ]
  }
 ],
 "metadata": {
  "interpreter": {
   "hash": "a1e652c232e0cefe6f97c6536d169df49659f4bdcda58c7a429b4465b653d154"
  },
  "kernelspec": {
   "display_name": "Python 3.8.8 ('base')",
   "language": "python",
   "name": "python3"
  },
  "language_info": {
   "name": "python",
   "version": "3.8.8"
  },
  "orig_nbformat": 4
 },
 "nbformat": 4,
 "nbformat_minor": 2
}
