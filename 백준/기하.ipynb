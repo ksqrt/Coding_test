{
 "cells": [
  {
   "cell_type": "code",
   "execution_count": 1,
   "metadata": {},
   "outputs": [
    {
     "ename": "ValueError",
     "evalue": "not enough values to unpack (expected 4, got 0)",
     "output_type": "error",
     "traceback": [
      "\u001b[1;31m---------------------------------------------------------------------------\u001b[0m",
      "\u001b[1;31mValueError\u001b[0m                                Traceback (most recent call last)",
      "\u001b[1;32m<ipython-input-1-2e4f1ae4ba8d>\u001b[0m in \u001b[0;36m<module>\u001b[1;34m\u001b[0m\n\u001b[0;32m      1\u001b[0m \u001b[1;31m# 1085\u001b[0m\u001b[1;33m\u001b[0m\u001b[1;33m\u001b[0m\u001b[1;33m\u001b[0m\u001b[0m\n\u001b[0;32m      2\u001b[0m \u001b[1;33m\u001b[0m\u001b[0m\n\u001b[1;32m----> 3\u001b[1;33m \u001b[0mx\u001b[0m\u001b[1;33m,\u001b[0m\u001b[0my\u001b[0m\u001b[1;33m,\u001b[0m\u001b[0mw\u001b[0m\u001b[1;33m,\u001b[0m\u001b[0mh\u001b[0m \u001b[1;33m=\u001b[0m \u001b[0mmap\u001b[0m\u001b[1;33m(\u001b[0m\u001b[0mint\u001b[0m\u001b[1;33m,\u001b[0m\u001b[0minput\u001b[0m\u001b[1;33m(\u001b[0m\u001b[1;33m)\u001b[0m\u001b[1;33m.\u001b[0m\u001b[0msplit\u001b[0m\u001b[1;33m(\u001b[0m\u001b[1;33m)\u001b[0m\u001b[1;33m)\u001b[0m\u001b[1;33m\u001b[0m\u001b[1;33m\u001b[0m\u001b[0m\n\u001b[0m\u001b[0;32m      4\u001b[0m \u001b[1;31m# 4가지 거리중 최솟값\u001b[0m\u001b[1;33m\u001b[0m\u001b[1;33m\u001b[0m\u001b[1;33m\u001b[0m\u001b[0m\n\u001b[0;32m      5\u001b[0m \u001b[0mrange\u001b[0m \u001b[1;33m=\u001b[0m \u001b[1;33m[\u001b[0m\u001b[0mx\u001b[0m\u001b[1;33m,\u001b[0m\u001b[0my\u001b[0m\u001b[1;33m,\u001b[0m\u001b[0mw\u001b[0m\u001b[1;33m-\u001b[0m\u001b[0mx\u001b[0m\u001b[1;33m,\u001b[0m\u001b[0mh\u001b[0m\u001b[1;33m-\u001b[0m\u001b[0my\u001b[0m\u001b[1;33m]\u001b[0m\u001b[1;33m\u001b[0m\u001b[1;33m\u001b[0m\u001b[0m\n",
      "\u001b[1;31mValueError\u001b[0m: not enough values to unpack (expected 4, got 0)"
     ]
    }
   ],
   "source": [
    "# 1085\n",
    "\n",
    "x,y,w,h = map(int,input().split())\n",
    "# 4가지 거리중 최솟값\n",
    "range = [x,y,w-x,h-y]\n",
    "print(min(range))"
   ]
  },
  {
   "cell_type": "code",
   "execution_count": 7,
   "metadata": {},
   "outputs": [
    {
     "name": "stdout",
     "output_type": "stream",
     "text": [
      "30 10\n"
     ]
    }
   ],
   "source": [
    "# 3009 네번쨰 점\n",
    "\n",
    "\n",
    "x_ = []\n",
    "y_ = []\n",
    "for i in range(3):\n",
    "        x, y = map(int, input().split())\n",
    "        x_.append(x)\n",
    "        y_.append(y)\n",
    "        \n",
    "for i in range(3):\n",
    "        if x_.count(x_[i]) == 1:\n",
    "                x = x_[i]\n",
    "        if y_.count(y_[i]) == 1:\n",
    "                y = y_[i]\n",
    "print(x, y)"
   ]
  },
  {
   "cell_type": "code",
   "execution_count": 9,
   "metadata": {},
   "outputs": [
    {
     "name": "stdout",
     "output_type": "stream",
     "text": [
      "[5, 7, 5]\n",
      "[5, 5, 7]\n",
      "7 7\n"
     ]
    }
   ],
   "source": [
    "# 3009 네번째 점 \n",
    "point_x = []\n",
    "point_y = []\n",
    "# x 축, y축 리스트에 입력받기\n",
    "for i in range(3):\n",
    "    x, y = map(int,input().split())\n",
    "    point_x.append(x)\n",
    "    point_y.append(y)\n",
    "# 그 축에 1개만 존재 할시 확정\n",
    "for i in range(3):\n",
    "    if point_x.count(point_x[i]) == 1 :\n",
    "        xx= point_x[i]\n",
    "    if point_y.count(point_y[i]) == 1 :\n",
    "        yy= point_y[i]\n",
    "\n",
    "# print(point_y)\n",
    "# print(point_x)\n",
    "\n",
    "print( xx, yy)"
   ]
  }
 ],
 "metadata": {
  "interpreter": {
   "hash": "d6ff435b63292575e421c30462bbe59b3fd5b3cb29e7f36cd4578b986181b4bd"
  },
  "kernelspec": {
   "display_name": "Python 3.8.8 ('base')",
   "language": "python",
   "name": "python3"
  },
  "language_info": {
   "codemirror_mode": {
    "name": "ipython",
    "version": 3
   },
   "file_extension": ".py",
   "mimetype": "text/x-python",
   "name": "python",
   "nbconvert_exporter": "python",
   "pygments_lexer": "ipython3",
   "version": "3.8.8"
  },
  "orig_nbformat": 4
 },
 "nbformat": 4,
 "nbformat_minor": 2
}
