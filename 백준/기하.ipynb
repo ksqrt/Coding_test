{
 "cells": [
  {
   "cell_type": "code",
   "execution_count": 12,
   "metadata": {},
   "outputs": [
    {
     "name": "stdout",
     "output_type": "stream",
     "text": [
      "1\n"
     ]
    }
   ],
   "source": [
    "# 1085\n",
    "\n",
    "x,y,w,h = map(int,input().split())\n",
    "# 4가지 거리중 최솟값\n",
    "range = [x,y,w-x,h-y]\n",
    "print(min(range))"
   ]
  }
 ],
 "metadata": {
  "interpreter": {
   "hash": "d6ff435b63292575e421c30462bbe59b3fd5b3cb29e7f36cd4578b986181b4bd"
  },
  "kernelspec": {
   "display_name": "Python 3.8.8 ('base')",
   "language": "python",
   "name": "python3"
  },
  "language_info": {
   "codemirror_mode": {
    "name": "ipython",
    "version": 3
   },
   "file_extension": ".py",
   "mimetype": "text/x-python",
   "name": "python",
   "nbconvert_exporter": "python",
   "pygments_lexer": "ipython3",
   "version": "3.8.8"
  },
  "orig_nbformat": 4
 },
 "nbformat": 4,
 "nbformat_minor": 2
}
