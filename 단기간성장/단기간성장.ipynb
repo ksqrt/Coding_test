{
 "cells": [
  {
   "cell_type": "code",
   "execution_count": 5,
   "metadata": {},
   "outputs": [
    {
     "ename": "SyntaxError",
     "evalue": "unexpected EOF while parsing (<ipython-input-5-09709e74aa2f>, line 25)",
     "output_type": "error",
     "traceback": [
      "\u001b[1;36m  File \u001b[1;32m\"<ipython-input-5-09709e74aa2f>\"\u001b[1;36m, line \u001b[1;32m25\u001b[0m\n\u001b[1;33m    \u001b[0m\n\u001b[1;37m    ^\u001b[0m\n\u001b[1;31mSyntaxError\u001b[0m\u001b[1;31m:\u001b[0m unexpected EOF while parsing\n"
     ]
    }
   ],
   "source": [
    "# 12865 평범한 배낭\n",
    "import operator\n",
    "from itertools import combinations_with_replacement\n",
    "\n",
    "\n",
    "N,K = map(int,input().split())\n",
    "\n",
    "dic = {}\n",
    "for i in range(N):\n",
    "    w,v = map(int,input().split())\n",
    "    if dic.get(w) :\n",
    "        # v 는 최댓값을 유지시킴\n",
    "        if dic[w] < v :\n",
    "            dic[w] = v \n",
    "    else:\n",
    "        dic[w] = v\n",
    "        # dic 에는 중복이 제거된 값만 저장\n",
    "        \n",
    "dic1= sorted(dic.items(), key=operator.itemgetter(0))\n",
    "dic2= sorted(dic.items())\n",
    "print(dic2)\n",
    "\n",
    "stack = []\n",
    "for i in range(K):\n",
    "    "
   ]
  },
  {
   "cell_type": "code",
   "execution_count": 11,
   "metadata": {},
   "outputs": [
    {
     "ename": "IndentationError",
     "evalue": "expected an indented block (<ipython-input-11-f29733f0cbb6>, line 15)",
     "output_type": "error",
     "traceback": [
      "\u001b[1;36m  File \u001b[1;32m\"<ipython-input-11-f29733f0cbb6>\"\u001b[1;36m, line \u001b[1;32m15\u001b[0m\n\u001b[1;33m    tmp = []\u001b[0m\n\u001b[1;37m    ^\u001b[0m\n\u001b[1;31mIndentationError\u001b[0m\u001b[1;31m:\u001b[0m expected an indented block\n"
     ]
    }
   ],
   "source": [
    "# import sys\n",
    "# input = sys.stdin.readline\n",
    "\n",
    "n,m = map(int,input().split())\n",
    "\n",
    "tree_list = list(map(int,input().split()))\n",
    "\n",
    "cut_tree = []\n",
    "\n",
    "ninjaBreak == True\n",
    "\n",
    "# 0 부터 최대길이의 나무 까지 잘라보기\n",
    "for i in range(max(tree_list)):\n",
    "    if(ninjaBreak ==False):\n",
    "    # 임시 리스트에 나무 자른 크기를 넣음\n",
    "    tmp = []\n",
    "    for j in range(len(tree_list)):\n",
    "        # 다 잘라서 \n",
    "        cut = tree_list[j]-i\n",
    "        # 0 이하의 값은 잘리지 않은 나무니까 0 으로 초기화\n",
    "        if cut < 0:\n",
    "            cut = 0\n",
    "        tmp.append(cut)\n",
    "        # 자른 합을 append\n",
    "    cut_tree.append(sum(tmp))\n",
    "    if sum(tmp) == m:\n",
    "        print(i)\n",
    "        ninjaBreak = False\n",
    "        break\n",
    "    \n",
    "# print(cut_tree)"
   ]
  },
  {
   "cell_type": "code",
   "execution_count": 5,
   "metadata": {},
   "outputs": [
    {
     "name": "stdout",
     "output_type": "stream",
     "text": [
      "15\n",
      "[62, 58, 54, 50, 46, 42, 38, 34, 30, 26, 22, 19, 16, 13, 10, 7]\n"
     ]
    }
   ],
   "source": [
    "# 2805 나무자르기 \n",
    "n,m = map(int,input().split())\n",
    "\n",
    "tree_list = list(map(int,input().split()))\n",
    "\n",
    "cut_tree = []\n",
    "\n",
    "ninjaBreak = True\n",
    "\n",
    "# 0 부터 최대길이의 나무 까지 잘라보기\n",
    "for i in range(max(tree_list)):\n",
    "    \n",
    "    if(ninjaBreak ==False):\n",
    "        break\n",
    "    # 임시 리스트에 나무 자른 크기를 넣음\n",
    "    tmp = []\n",
    "    for j in range(len(tree_list)):\n",
    "        # 다 잘라서 \n",
    "        cut = tree_list[j]-i\n",
    "        # 0 이하의 값은 잘리지 않은 나무니까 0 으로 초기화\n",
    "        if cut < 0:\n",
    "            cut = 0\n",
    "        tmp.append(cut)\n",
    "        # 자른 합을 append\n",
    "    cut_tree.append(sum(tmp))\n",
    "    \n",
    "    if sum(tmp) == m:\n",
    "        print(i)\n",
    "        ninjaBreak = False\n",
    "        break\n",
    "    \n",
    "print(cut_tree)"
   ]
  },
  {
   "cell_type": "code",
   "execution_count": 16,
   "metadata": {},
   "outputs": [
    {
     "name": "stdout",
     "output_type": "stream",
     "text": [
      "36\n"
     ]
    }
   ],
   "source": [
    "N, M = map(int, input().split())\n",
    "tree = list(map(int, input().split()))\n",
    "start, end = 1, max(tree) #이분탐색 검색 범위 설정\n",
    "\n",
    "while start <= end: #적절한 벌목 높이를 찾는 알고리즘\n",
    "    mid = (start+end) // 2\n",
    "    \n",
    "    log = 0 #벌목된 나무 총합\n",
    "    for i in tree:\n",
    "        # mid 보다 작은건 더하지 않고 큰것만 더함\n",
    "        if i >= mid:\n",
    "            # 나무길이 - 값\n",
    "            log += i - mid\n",
    "    \n",
    "    #벌목 높이를 이분탐색\n",
    "    # m 보다 나무가 길면 \n",
    "    if log >= M:\n",
    "        start = mid + 1\n",
    "    else:\n",
    "        end = mid - 1\n",
    "print(end)"
   ]
  },
  {
   "cell_type": "code",
   "execution_count": 15,
   "metadata": {},
   "outputs": [
    {
     "name": "stdout",
     "output_type": "stream",
     "text": [
      "0\n"
     ]
    }
   ],
   "source": [
    "n,m = map(int,input().split())\n",
    "\n",
    "tree = list(map(int,input().split()))\n",
    "\n",
    "left,right = 1, max(tree)\n",
    "\n",
    "while left <= right:\n",
    "    pivot = (left + right)//2\n",
    "    log = 0\n",
    "    for i in tree:\n",
    "        if i >= mid :\n",
    "            log += i-mid\n",
    "            \n",
    "    if log >= m :\n",
    "        left = pivot+1\n",
    "    else: \n",
    "        right = pivot -1\n",
    "        \n",
    "print(right)\n",
    "        "
   ]
  }
 ],
 "metadata": {
  "interpreter": {
   "hash": "d6ff435b63292575e421c30462bbe59b3fd5b3cb29e7f36cd4578b986181b4bd"
  },
  "kernelspec": {
   "display_name": "Python 3.8.8 ('base')",
   "language": "python",
   "name": "python3"
  },
  "language_info": {
   "codemirror_mode": {
    "name": "ipython",
    "version": 3
   },
   "file_extension": ".py",
   "mimetype": "text/x-python",
   "name": "python",
   "nbconvert_exporter": "python",
   "pygments_lexer": "ipython3",
   "version": "3.8.8"
  },
  "orig_nbformat": 4
 },
 "nbformat": 4,
 "nbformat_minor": 2
}
