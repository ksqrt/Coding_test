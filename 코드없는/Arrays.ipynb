{
 "cells": [
  {
   "cell_type": "code",
   "execution_count": 1,
   "metadata": {},
   "outputs": [
    {
     "name": "stdout",
     "output_type": "stream",
     "text": [
      "5 찾기 성공!!\n"
     ]
    }
   ],
   "source": [
    "# 스테이블 소트 \n",
    "# 언스테이블 소트\n",
    "\n",
    "# 소팅되어있는 배열의 경우 search 의 시간복잡도가 o(log N)\n",
    "\n",
    "\n",
    "_arr = [1,3,5,6,7,15,20]\n",
    "\n",
    "n = int(input())\n",
    "\n",
    "# 일반적인 소팅 o(N)\n",
    "for i in _arr:\n",
    "    if i == n :\n",
    "        print(n,\"찾기 성공!!\")\n",
    "        \n",
    "\n",
    "# 바이너리 서치(정렬되었을시) o(log N )\n",
    "\n",
    "# start,end = 0,len(_arr)-1\n",
    "\n",
    "\n",
    "# while start <= end :\n",
    "#     mid = (start + end)//2\n",
    "#     if _arr[mid] == n :\n",
    "#         print(n,\"바이너리 서치로 찾기 성공\")\n",
    "#     elif _arr[mid] < n :\n",
    "#         start = mid +1 \n",
    "#     elif _arr[mid] > n :\n",
    "#         end = mid -1\n",
    "    "
   ]
  },
  {
   "cell_type": "code",
   "execution_count": 23,
   "metadata": {},
   "outputs": [
    {
     "name": "stdout",
     "output_type": "stream",
     "text": [
      "[1, 3, 12, 0, 0]\n"
     ]
    }
   ],
   "source": [
    "# move zeros \n",
    "nums = [0, 1, 0, 3, 12]\n",
    "\n",
    "n = len(nums)\n",
    "notZeroCount = 0\n",
    "\n",
    "# 0 이 나오면그값과에 숫자를 덧 씌움\n",
    "# 인덱스 i 와, zeroCount 인덱스 \n",
    "for i in range(n):\n",
    "    if nums[i] != 0:\n",
    "        nums[notZeroCount] = nums[i]\n",
    "        notZeroCount += 1\n",
    "        \n",
    "for i in range(notZeroCount,n):\n",
    "    nums[i] = 0\n",
    "print(nums)\t#[1, 3, 12, 0, 0]"
   ]
  },
  {
   "cell_type": "code",
   "execution_count": 28,
   "metadata": {},
   "outputs": [
    {
     "name": "stdout",
     "output_type": "stream",
     "text": [
      "[1, 3, 12, 0, 0]\n"
     ]
    }
   ],
   "source": [
    "# move zeros \n",
    "nums = [0, 1, 0, 3, 12]\n",
    "\n",
    "def moveZero(nums):\n",
    "    zeroIdx = 0\n",
    "    for index in range(len(nums)):\n",
    "        if nums[index] != 0 :\n",
    "            nums[zeroIdx] = nums[index]\n",
    "            zeroIdx +=1\n",
    "    \n",
    "    for i in range(zeroIdx,len(nums)):\n",
    "        nums[i]= 0\n",
    "    return nums\n",
    "\n",
    "print(moveZero(nums))\n"
   ]
  },
  {
   "cell_type": "code",
   "execution_count": 56,
   "metadata": {},
   "outputs": [
    {
     "name": "stdout",
     "output_type": "stream",
     "text": [
      "[0, 1, 8, 11, 17, 22, 28]\n",
      "[28, 27, 20, 17, 11, 6, 0]\n",
      "3\n",
      "4\n",
      "-1\n"
     ]
    }
   ],
   "source": [
    "# find pivot index\n",
    "nums = [1,7,3,6,5,6]\n",
    "\n",
    "def findPivot_R(nums):\n",
    "    _sum = sum(nums)\n",
    "    _l = []\n",
    "    _r = []\n",
    "    for i in range(len(nums)+1): \n",
    "        _l.append(sum(nums[0:i]))\n",
    "        _r.append(_sum - sum(nums[0:i]))\n",
    "    return _r\n",
    "     \n",
    "def findPivot_L(nums):\n",
    "    _sum = sum(nums)\n",
    "    _l = []\n",
    "    _r = []\n",
    "    for i in range(len(nums)+1): \n",
    "        _l.append(sum(nums[0:i]))\n",
    "        _r.append(_sum - sum(nums[0:i]))\n",
    "    return _l\n",
    "\n",
    "L= findPivot_L(nums)\n",
    "R =findPivot_R(nums)\n",
    "print(L)\n",
    "print(R)\n",
    "\n",
    "for i in range(len(L)):\n",
    "    \n",
    "    if L[i] == R[-i] :\n",
    "        print(i)\n",
    "else:\n",
    "    print(-1)\n"
   ]
  },
  {
   "cell_type": "code",
   "execution_count": 16,
   "metadata": {},
   "outputs": [
    {
     "name": "stdout",
     "output_type": "stream",
     "text": [
      "[0, 0, 0, 1, 1, 1, 2, 2, 2]\n"
     ]
    }
   ],
   "source": [
    "# sort color\n",
    "nums = [1,0,2,2,0,1,2,1,0]\n",
    "\n",
    "\n",
    "# 이방식은 o(nlogn)\n",
    "\n",
    "def quick_sort(arr):\n",
    "    if len(arr) <= 1:\n",
    "        return arr\n",
    "    else :\n",
    "        pivot = arr[len(arr)//2]\n",
    "        left,equal,right = [],[],[]\n",
    "        for i in arr:\n",
    "            if i > pivot:\n",
    "                right.append(i)\n",
    "            elif i < pivot:\n",
    "                left.append(i)\n",
    "            elif i == pivot:\n",
    "                equal.append(i)\n",
    "        \n",
    "        return quick_sort(left)+equal+quick_sort(right)\n",
    "\n",
    "d = quick_sort(nums)\n",
    "print(d)\n",
    "        \n",
    "        "
   ]
  },
  {
   "cell_type": "code",
   "execution_count": 5,
   "metadata": {},
   "outputs": [
    {
     "name": "stdout",
     "output_type": "stream",
     "text": [
      "[0, 0, 0, 1, 1, 1, 2, 2, 2]\n"
     ]
    },
    {
     "ename": "TypeError",
     "evalue": "cannot unpack non-iterable int object",
     "output_type": "error",
     "traceback": [
      "\u001b[1;31m---------------------------------------------------------------------------\u001b[0m",
      "\u001b[1;31mTypeError\u001b[0m                                 Traceback (most recent call last)",
      "\u001b[1;32m<ipython-input-5-ea9fa166c4da>\u001b[0m in \u001b[0;36m<module>\u001b[1;34m\u001b[0m\n\u001b[0;32m     14\u001b[0m         \u001b[0m_dic\u001b[0m\u001b[1;33m[\u001b[0m\u001b[0mi\u001b[0m\u001b[1;33m]\u001b[0m \u001b[1;33m+=\u001b[0m \u001b[1;36m1\u001b[0m\u001b[1;33m\u001b[0m\u001b[1;33m\u001b[0m\u001b[0m\n\u001b[0;32m     15\u001b[0m \u001b[1;33m\u001b[0m\u001b[0m\n\u001b[1;32m---> 16\u001b[1;33m \u001b[1;32mfor\u001b[0m \u001b[0mkey\u001b[0m\u001b[1;33m,\u001b[0m\u001b[0mvalue\u001b[0m \u001b[1;32min\u001b[0m \u001b[0m_dic\u001b[0m\u001b[1;33m:\u001b[0m\u001b[1;33m\u001b[0m\u001b[1;33m\u001b[0m\u001b[0m\n\u001b[0m\u001b[0;32m     17\u001b[0m     \u001b[1;32mfor\u001b[0m \u001b[0mi\u001b[0m \u001b[1;32min\u001b[0m \u001b[0mvalue\u001b[0m\u001b[1;33m:\u001b[0m\u001b[1;33m\u001b[0m\u001b[1;33m\u001b[0m\u001b[0m\n\u001b[0;32m     18\u001b[0m         \u001b[0mprint\u001b[0m\u001b[1;33m(\u001b[0m\u001b[0mvalue\u001b[0m\u001b[1;33m)\u001b[0m\u001b[1;33m\u001b[0m\u001b[1;33m\u001b[0m\u001b[0m\n",
      "\u001b[1;31mTypeError\u001b[0m: cannot unpack non-iterable int object"
     ]
    }
   ],
   "source": [
    "# sort color\n",
    "nums = [1,0,2,2,0,1,2,1,0]\n",
    "\n",
    "nums.sort()\n",
    "\n",
    "# 이방식은 o(nlogn)\n",
    "print(nums)\n",
    "\n",
    "_dic = {}\n",
    "for i in nums:\n",
    "    if i not in _dic:\n",
    "        _dic[i] = 1\n",
    "    else :\n",
    "        _dic[i] += 1\n",
    "    \n",
    "for key,value in _dic:\n",
    "    for i in value:\n",
    "        print(value)\n",
    "        "
   ]
  },
  {
   "cell_type": "code",
   "execution_count": 17,
   "metadata": {},
   "outputs": [
    {
     "name": "stdout",
     "output_type": "stream",
     "text": [
      "[1, 2, 3, 4, 5, 6, 7]\n"
     ]
    }
   ],
   "source": [
    "# 퀵정렬 N(nlogN)\n",
    "# 정렬계의 레전드 \n",
    "nums = [6, 5, 1, 4, 7, 2, 3]\n",
    "\n",
    "\n",
    "def quick_sort(arr):\n",
    "    # 1 보다 작은 크기는 자기자신 반환\n",
    "    if len(arr) <= 1:\n",
    "        return arr\n",
    "    # 피봇은 중간값을 사용\n",
    "    pivot = arr[len(arr) // 2]\n",
    "    lesser_arr, equal_arr, greater_arr = [], [], []\n",
    "    for num in arr:\n",
    "        if num < pivot:\n",
    "            lesser_arr.append(num)\n",
    "        elif num > pivot:\n",
    "            greater_arr.append(num)\n",
    "        else:\n",
    "            equal_arr.append(num)\n",
    "            \n",
    "    return quick_sort(lesser_arr) + equal_arr + quick_sort(greater_arr)\n",
    "\n",
    "sorted = quick_sort(nums)\n",
    "print(sorted)\n"
   ]
  },
  {
   "cell_type": "code",
   "execution_count": 22,
   "metadata": {},
   "outputs": [
    {
     "name": "stdout",
     "output_type": "stream",
     "text": [
      "[0, 0, 0, 0, 0, 1, 1, 1, 1, 1, 2, 2, 2, 2, 2, 2]\n"
     ]
    }
   ],
   "source": [
    "nums = [1,0,2,2,0,1,2,1,0,2,2,2,1,1,0,0]\n",
    "\n",
    "def sortColor(nums):\n",
    "# 총 포인터는 3개\n",
    "    idx0 = 0\n",
    "    idx2 = len(nums)-1\n",
    "    i = 0 \n",
    "    \n",
    "# 0는 맨 왠쪽에 옮겨준다\n",
    "    while i <= idx2:\n",
    "        if nums[i] == 0:\n",
    "            nums[i],nums[idx0] =nums[idx0],nums[i]\n",
    "            idx0 +=1\n",
    "            i +=1\n",
    "# 2는 맨 오른쪽에 옮겨준다 작은값이 갔을수도 있기떄문에 i 는 추가 안함\n",
    "        elif nums[i] == 2:\n",
    "            nums[i],nums[idx2] =nums[idx2],nums[i]\n",
    "            idx2 -=1\n",
    "            \n",
    "        else :\n",
    "            i +=1\n",
    "    return nums\n",
    "# 3가지색 정렬 할시 사용되는 n(n) 계싼법\n",
    "print(sortColor(nums))"
   ]
  },
  {
   "cell_type": "code",
   "execution_count": 72,
   "metadata": {},
   "outputs": [
    {
     "name": "stdout",
     "output_type": "stream",
     "text": [
      "[1, 2, 2, 3, 5, 6]\n"
     ]
    }
   ],
   "source": [
    "# Merge Sorter Array\n",
    "nums1 = [1,2,3,0,0,0]\n",
    "m= 3\n",
    "nums2 = [2,5,6]\n",
    "n= 3\n",
    "\n",
    "# newnum =nums1[:3:]+nums2\n",
    "# newnum.sort()\n",
    "\n",
    "\n",
    "def mergeSorted(nums1,nums2,m,n):\n",
    "    idx1 = m-1\n",
    "    idx2 = n-1\n",
    "    \n",
    "    for i in range(len(nums1)-1,0,-1):\n",
    "        if nums1[idx1] < nums2[idx2]:\n",
    "            nums1[i] = nums2[idx2]\n",
    "            idx2 -= 1\n",
    "        elif nums1[idx1] >= nums2[idx2]:\n",
    "            nums1[i] = nums1[idx1]\n",
    "            idx1 -= 1\n",
    "    return nums1\n",
    "\n",
    "print(mergeSorted(nums1,nums2,m,n))"
   ]
  },
  {
   "cell_type": "code",
   "execution_count": 1,
   "metadata": {},
   "outputs": [
    {
     "name": "stdout",
     "output_type": "stream",
     "text": [
      "2\n"
     ]
    }
   ],
   "source": [
    "# find peak Element\n",
    "# n 보다 작은 알고리즘을 구하라 ???\n",
    "# 이건 무적권 바이너리 log n 이다!!!\n",
    "nums = [1,2,3,1]\n",
    "\n",
    "def findPeak(nums):\n",
    "    left = 0\n",
    "    right = len(nums)-1\n",
    "    if(len(nums)<=1):\n",
    "        return 0\n",
    "    \n",
    "    while left < right :\n",
    "        mid = (left+right)//2\n",
    "        num =nums[mid]\n",
    "        nextNum = nums[mid+1]  \n",
    "        \n",
    "        if(num < nextNum):\n",
    "            left = mid +1\n",
    "        else :\n",
    "            right = mid  \n",
    "    return left\n",
    "    \n",
    "print(findPeak(nums))\n",
    "    \n"
   ]
  },
  {
   "cell_type": "code",
   "execution_count": 1,
   "metadata": {},
   "outputs": [
    {
     "ename": "NameError",
     "evalue": "name 'List' is not defined",
     "output_type": "error",
     "traceback": [
      "\u001b[1;31m---------------------------------------------------------------------------\u001b[0m",
      "\u001b[1;31mNameError\u001b[0m                                 Traceback (most recent call last)",
      "\u001b[1;32m<ipython-input-1-bf9a10d8dfa2>\u001b[0m in \u001b[0;36m<module>\u001b[1;34m\u001b[0m\n\u001b[0;32m      1\u001b[0m \u001b[1;31m# merge intervals\u001b[0m\u001b[1;33m\u001b[0m\u001b[1;33m\u001b[0m\u001b[1;33m\u001b[0m\u001b[0m\n\u001b[1;32m----> 2\u001b[1;33m \u001b[1;32mclass\u001b[0m \u001b[0mSolution\u001b[0m\u001b[1;33m:\u001b[0m\u001b[1;33m\u001b[0m\u001b[1;33m\u001b[0m\u001b[0m\n\u001b[0m\u001b[0;32m      3\u001b[0m     \u001b[1;32mdef\u001b[0m \u001b[0mmerge\u001b[0m\u001b[1;33m(\u001b[0m\u001b[0mself\u001b[0m\u001b[1;33m,\u001b[0m \u001b[0mintervals\u001b[0m\u001b[1;33m:\u001b[0m \u001b[0mList\u001b[0m\u001b[1;33m[\u001b[0m\u001b[0mList\u001b[0m\u001b[1;33m[\u001b[0m\u001b[0mint\u001b[0m\u001b[1;33m]\u001b[0m\u001b[1;33m]\u001b[0m\u001b[1;33m)\u001b[0m \u001b[1;33m->\u001b[0m \u001b[0mList\u001b[0m\u001b[1;33m[\u001b[0m\u001b[0mList\u001b[0m\u001b[1;33m[\u001b[0m\u001b[0mint\u001b[0m\u001b[1;33m]\u001b[0m\u001b[1;33m]\u001b[0m\u001b[1;33m:\u001b[0m\u001b[1;33m\u001b[0m\u001b[1;33m\u001b[0m\u001b[0m\n\u001b[0;32m      4\u001b[0m         \u001b[0mintervals\u001b[0m \u001b[1;33m=\u001b[0m \u001b[0msorted\u001b[0m\u001b[1;33m(\u001b[0m\u001b[0mintervals\u001b[0m\u001b[1;33m,\u001b[0m \u001b[0mkey\u001b[0m\u001b[1;33m=\u001b[0m\u001b[1;32mlambda\u001b[0m \u001b[0mx\u001b[0m\u001b[1;33m:\u001b[0m \u001b[0mx\u001b[0m\u001b[1;33m[\u001b[0m\u001b[1;36m0\u001b[0m\u001b[1;33m]\u001b[0m\u001b[1;33m)\u001b[0m\u001b[1;33m\u001b[0m\u001b[1;33m\u001b[0m\u001b[0m\n\u001b[0;32m      5\u001b[0m \u001b[1;33m\u001b[0m\u001b[0m\n",
      "\u001b[1;32m<ipython-input-1-bf9a10d8dfa2>\u001b[0m in \u001b[0;36mSolution\u001b[1;34m()\u001b[0m\n\u001b[0;32m      1\u001b[0m \u001b[1;31m# merge intervals\u001b[0m\u001b[1;33m\u001b[0m\u001b[1;33m\u001b[0m\u001b[1;33m\u001b[0m\u001b[0m\n\u001b[0;32m      2\u001b[0m \u001b[1;32mclass\u001b[0m \u001b[0mSolution\u001b[0m\u001b[1;33m:\u001b[0m\u001b[1;33m\u001b[0m\u001b[1;33m\u001b[0m\u001b[0m\n\u001b[1;32m----> 3\u001b[1;33m     \u001b[1;32mdef\u001b[0m \u001b[0mmerge\u001b[0m\u001b[1;33m(\u001b[0m\u001b[0mself\u001b[0m\u001b[1;33m,\u001b[0m \u001b[0mintervals\u001b[0m\u001b[1;33m:\u001b[0m \u001b[0mList\u001b[0m\u001b[1;33m[\u001b[0m\u001b[0mList\u001b[0m\u001b[1;33m[\u001b[0m\u001b[0mint\u001b[0m\u001b[1;33m]\u001b[0m\u001b[1;33m]\u001b[0m\u001b[1;33m)\u001b[0m \u001b[1;33m->\u001b[0m \u001b[0mList\u001b[0m\u001b[1;33m[\u001b[0m\u001b[0mList\u001b[0m\u001b[1;33m[\u001b[0m\u001b[0mint\u001b[0m\u001b[1;33m]\u001b[0m\u001b[1;33m]\u001b[0m\u001b[1;33m:\u001b[0m\u001b[1;33m\u001b[0m\u001b[1;33m\u001b[0m\u001b[0m\n\u001b[0m\u001b[0;32m      4\u001b[0m         \u001b[0mintervals\u001b[0m \u001b[1;33m=\u001b[0m \u001b[0msorted\u001b[0m\u001b[1;33m(\u001b[0m\u001b[0mintervals\u001b[0m\u001b[1;33m,\u001b[0m \u001b[0mkey\u001b[0m\u001b[1;33m=\u001b[0m\u001b[1;32mlambda\u001b[0m \u001b[0mx\u001b[0m\u001b[1;33m:\u001b[0m \u001b[0mx\u001b[0m\u001b[1;33m[\u001b[0m\u001b[1;36m0\u001b[0m\u001b[1;33m]\u001b[0m\u001b[1;33m)\u001b[0m\u001b[1;33m\u001b[0m\u001b[1;33m\u001b[0m\u001b[0m\n\u001b[0;32m      5\u001b[0m \u001b[1;33m\u001b[0m\u001b[0m\n",
      "\u001b[1;31mNameError\u001b[0m: name 'List' is not defined"
     ]
    }
   ],
   "source": [
    "# merge intervals\n",
    "class Solution:\n",
    "    def merge(self, intervals: List[List[int]]) -> List[List[int]]:\n",
    "        intervals = sorted(intervals, key=lambda x: x[0])\n",
    "        \n",
    "        merged = [intervals[0]]\n",
    "        for i in range(1, len(intervals)):\n",
    "            if intervals[i][0] <= merged[-1][1]:\n",
    "                merged[-1] = [merged[-1][0], max(merged[-1][1], intervals[i][1])]\n",
    "            else:\n",
    "                merged.append(intervals[i])\n",
    "        \n",
    "        return merged\n",
    "    \n",
    "    intervals = [[1,3],[2,6],[6,8],[15,18]]\n",
    "    merge(intervals)\n",
    "    \n",
    "\n"
   ]
  },
  {
   "cell_type": "code",
   "execution_count": 3,
   "metadata": {},
   "outputs": [
    {
     "ename": "AttributeError",
     "evalue": "'Solution' object has no attribute 'findUnsortedS'",
     "output_type": "error",
     "traceback": [
      "\u001b[1;31m---------------------------------------------------------------------------\u001b[0m",
      "\u001b[1;31mAttributeError\u001b[0m                            Traceback (most recent call last)",
      "\u001b[1;32m<ipython-input-3-e241d151a5ad>\u001b[0m in \u001b[0;36m<module>\u001b[1;34m\u001b[0m\n\u001b[0;32m     29\u001b[0m \u001b[0mnums\u001b[0m \u001b[1;33m=\u001b[0m \u001b[1;33m[\u001b[0m\u001b[1;36m2\u001b[0m\u001b[1;33m,\u001b[0m\u001b[1;36m6\u001b[0m\u001b[1;33m,\u001b[0m\u001b[1;36m4\u001b[0m\u001b[1;33m,\u001b[0m\u001b[1;36m8\u001b[0m\u001b[1;33m,\u001b[0m\u001b[1;36m10\u001b[0m\u001b[1;33m,\u001b[0m\u001b[1;36m9\u001b[0m\u001b[1;33m,\u001b[0m\u001b[1;36m15\u001b[0m\u001b[1;33m]\u001b[0m\u001b[1;33m\u001b[0m\u001b[1;33m\u001b[0m\u001b[0m\n\u001b[0;32m     30\u001b[0m \u001b[0mobj\u001b[0m \u001b[1;33m=\u001b[0m \u001b[0mSolution\u001b[0m\u001b[1;33m(\u001b[0m\u001b[1;33m)\u001b[0m\u001b[1;33m\u001b[0m\u001b[1;33m\u001b[0m\u001b[0m\n\u001b[1;32m---> 31\u001b[1;33m \u001b[0mprint\u001b[0m\u001b[1;33m(\u001b[0m\u001b[0mobj\u001b[0m\u001b[1;33m.\u001b[0m\u001b[0mfindUnsortedS\u001b[0m\u001b[1;33m)\u001b[0m\u001b[1;33m\u001b[0m\u001b[1;33m\u001b[0m\u001b[0m\n\u001b[0m",
      "\u001b[1;31mAttributeError\u001b[0m: 'Solution' object has no attribute 'findUnsortedS'"
     ]
    }
   ],
   "source": [
    "from typing import List\n",
    "\n",
    "class Solution:\n",
    "    def findUnsortedSubarray(self, nums: List[int]) -> int:\n",
    "        i=0\n",
    "        j=len(nums)-1\n",
    "        while i < len(nums)-1 :\n",
    "            if nums[i] > nums[i+1] : break\n",
    "            i = i + 1\n",
    "        while j > 0 and j>i :\n",
    "            if nums[j] < nums[j-1]: break\n",
    "            j = j - 1\n",
    "        \n",
    "        if j==i : return 0\n",
    "\n",
    "        mn = float(\"inf\")\n",
    "        mx = float(\"-inf\")\n",
    "        k = i;\n",
    "        while k <= j :\n",
    "            mn=min(mn, nums[k])\n",
    "            mx=max(mx, nums[k])\n",
    "            k = k + 1\n",
    "        while i >=0 and nums[i] > mn :\n",
    "            i = i - 1\n",
    "        while j < len(nums) and nums[j] < mx :\n",
    "            j = j + 1\n",
    "        return j-i-1\n",
    "            \n",
    "nums = [2,6,4,8,10,9,15]\n",
    "obj = Solution()\n",
    "print(obj.findUnsortedS)"
   ]
  },
  {
   "cell_type": "code",
   "execution_count": 37,
   "metadata": {},
   "outputs": [
    {
     "name": "stdout",
     "output_type": "stream",
     "text": [
      "[2, 6, 4, 8, 10, 9, 15]\n",
      "[2, 4, 6, 8, 9, 10, 15]\n",
      "4\n",
      "1\n",
      "2 [ 4 ] 10 15 "
     ]
    }
   ],
   "source": [
    "nums = [2,6,4,8,10,9,15]\n",
    "# before 이전 데이터\n",
    "before = nums.copy()\n",
    "# nums 정렬된 데이터\n",
    "\n",
    "# list.copy 사용시 새로운 객체가 만들어지고 복사 데이터가 수정이되더라도\n",
    "# 원본데이터가 변경되지않는다\n",
    "nums.sort()\n",
    "cnt = 0\n",
    "\n",
    "# 개수 찾기\n",
    "for i in range(len(nums)):\n",
    "    if nums[i] != before[i]:\n",
    "        cnt +=1\n",
    "# 시작점 찾기\n",
    "for i in range(len(nums)):\n",
    "    if nums[i] != before[i]:\n",
    "        start = i\n",
    "        break\n",
    "\n",
    "print(before)\n",
    "print(nums)\n",
    "print(cnt)\n",
    "print(start)\n",
    "\n",
    "for i in range(start):\n",
    "    print(nums[i],end=\" \")\n",
    "# for i in range(start,start+cnt,1):\n",
    "print(\"[\",cnt,\"]\",end = \" \")\n",
    "for i in range(start+cnt, len(nums),1):\n",
    "    print(nums[i],end=\" \")"
   ]
  },
  {
   "cell_type": "code",
   "execution_count": 40,
   "metadata": {},
   "outputs": [
    {
     "name": "stdout",
     "output_type": "stream",
     "text": [
      "None\n"
     ]
    }
   ],
   "source": [
    "nums = [2,6,4,8,10,9,15]\n",
    "\n",
    "nums.sort\n",
    "\n",
    "print(sorted)"
   ]
  },
  {
   "cell_type": "code",
   "execution_count": 53,
   "metadata": {},
   "outputs": [
    {
     "name": "stdout",
     "output_type": "stream",
     "text": [
      "[1, 2, 2, 3, 4]\n",
      "2\n"
     ]
    }
   ],
   "source": [
    "# 무조건 소팅부터하고 해결해보자!!!!\n",
    "\n",
    "# 정렬 n(nlog n) + 반복문 n = nlogn + n \n",
    "nums = [1,2,3,4,2]\n",
    "\n",
    "nums.sort()\n",
    "print(nums)\n",
    "check = 0\n",
    "\n",
    "for i in nums :\n",
    "    if i == check :\n",
    "        print(i)\n",
    "        check = i\n",
    "    else :\n",
    "        check = i "
   ]
  },
  {
   "cell_type": "code",
   "execution_count": 58,
   "metadata": {},
   "outputs": [
    {
     "name": "stdout",
     "output_type": "stream",
     "text": [
      "{1: 1, 2: 2, 3: 1, 4: 1}\n"
     ]
    }
   ],
   "source": [
    "nums = [1,2,3,4,2]\n",
    "\n",
    "\n",
    "# o(n)\n",
    "def list_conunt_dic(list):\n",
    "    count = {}\n",
    "    for item in list:\n",
    "        # item 에 해당하는 값을 가지고옴 만약 없으면 0 이반환\n",
    "        count[item] = count.get(item,0)+1\n",
    "    return count\n",
    "\n",
    "check = list_conunt_dic(nums)\n",
    "\n",
    "print(check)"
   ]
  },
  {
   "cell_type": "markdown",
   "metadata": {},
   "source": [
    "<!--  -->"
   ]
  },
  {
   "cell_type": "code",
   "execution_count": 64,
   "metadata": {},
   "outputs": [
    {
     "ename": "IndexError",
     "evalue": "list index out of range",
     "output_type": "error",
     "traceback": [
      "\u001b[1;31m---------------------------------------------------------------------------\u001b[0m",
      "\u001b[1;31mIndexError\u001b[0m                                Traceback (most recent call last)",
      "\u001b[1;32m<ipython-input-64-115abc7d0feb>\u001b[0m in \u001b[0;36m<module>\u001b[1;34m\u001b[0m\n\u001b[0;32m      8\u001b[0m \u001b[1;32mfor\u001b[0m \u001b[0midx1\u001b[0m \u001b[1;32min\u001b[0m \u001b[0mrange\u001b[0m\u001b[1;33m(\u001b[0m\u001b[0mlen\u001b[0m\u001b[1;33m(\u001b[0m\u001b[0mnums\u001b[0m\u001b[1;33m)\u001b[0m\u001b[1;33m)\u001b[0m\u001b[1;33m:\u001b[0m\u001b[1;33m\u001b[0m\u001b[1;33m\u001b[0m\u001b[0m\n\u001b[0;32m      9\u001b[0m     \u001b[1;32mfor\u001b[0m \u001b[0midx2\u001b[0m \u001b[1;32min\u001b[0m \u001b[0mrange\u001b[0m\u001b[1;33m(\u001b[0m\u001b[0mlen\u001b[0m\u001b[1;33m(\u001b[0m\u001b[0mnums\u001b[0m\u001b[1;33m)\u001b[0m\u001b[1;33m,\u001b[0m\u001b[0midx1\u001b[0m\u001b[1;33m,\u001b[0m\u001b[1;33m-\u001b[0m\u001b[1;36m1\u001b[0m\u001b[1;33m)\u001b[0m\u001b[1;33m:\u001b[0m\u001b[1;33m\u001b[0m\u001b[1;33m\u001b[0m\u001b[0m\n\u001b[1;32m---> 10\u001b[1;33m         \u001b[0mvalue\u001b[0m \u001b[1;33m=\u001b[0m \u001b[0mnums\u001b[0m\u001b[1;33m[\u001b[0m\u001b[0midx1\u001b[0m\u001b[1;33m]\u001b[0m\u001b[1;33m+\u001b[0m\u001b[0mnums\u001b[0m\u001b[1;33m[\u001b[0m\u001b[0midx2\u001b[0m\u001b[1;33m]\u001b[0m\u001b[1;33m\u001b[0m\u001b[1;33m\u001b[0m\u001b[0m\n\u001b[0m\u001b[0;32m     11\u001b[0m         \u001b[1;32mif\u001b[0m \u001b[0mvalue\u001b[0m \u001b[1;33m==\u001b[0m \u001b[0mtarget\u001b[0m\u001b[1;33m:\u001b[0m\u001b[1;33m\u001b[0m\u001b[1;33m\u001b[0m\u001b[0m\n\u001b[0;32m     12\u001b[0m             \u001b[0mprint\u001b[0m\u001b[1;33m(\u001b[0m\u001b[0midx1\u001b[0m\u001b[1;33m,\u001b[0m\u001b[0midx2\u001b[0m\u001b[1;33m)\u001b[0m\u001b[1;33m\u001b[0m\u001b[1;33m\u001b[0m\u001b[0m\n",
      "\u001b[1;31mIndexError\u001b[0m: list index out of range"
     ]
    }
   ],
   "source": [
    "# 2sum 3sum 4sum\n",
    "\n",
    "nums = [1,3,7,4,8]\n",
    "target = 7\n",
    "\n",
    "nums.sort()\n",
    "\n",
    "for idx1 in range(len(nums)):\n",
    "    for idx2 in range(len(nums),idx1,-1):\n",
    "        value = nums[idx1]+nums[idx2]\n",
    "        if value == target:\n",
    "            print(idx1,idx2)\n",
    "        else : \n",
    "            idx2 -= 1\n",
    "\n",
    "    \n"
   ]
  }
 ],
 "metadata": {
  "interpreter": {
   "hash": "d6ff435b63292575e421c30462bbe59b3fd5b3cb29e7f36cd4578b986181b4bd"
  },
  "kernelspec": {
   "display_name": "Python 3.8.8 ('base')",
   "language": "python",
   "name": "python3"
  },
  "language_info": {
   "codemirror_mode": {
    "name": "ipython",
    "version": 3
   },
   "file_extension": ".py",
   "mimetype": "text/x-python",
   "name": "python",
   "nbconvert_exporter": "python",
   "pygments_lexer": "ipython3",
   "version": "3.8.8"
  },
  "orig_nbformat": 4
 },
 "nbformat": 4,
 "nbformat_minor": 2
}
