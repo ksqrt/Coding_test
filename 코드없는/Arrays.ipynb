{
 "cells": [
  {
   "cell_type": "code",
   "execution_count": 1,
   "metadata": {},
   "outputs": [
    {
     "name": "stdout",
     "output_type": "stream",
     "text": [
      "5 찾기 성공!!\n"
     ]
    }
   ],
   "source": [
    "# 스테이블 소트 \n",
    "# 언스테이블 소트\n",
    "\n",
    "# 소팅되어있는 배열의 경우 search 의 시간복잡도가 o(log N)\n",
    "\n",
    "\n",
    "_arr = [1,3,5,6,7,15,20]\n",
    "\n",
    "n = int(input())\n",
    "\n",
    "# 일반적인 소팅 o(N)\n",
    "for i in _arr:\n",
    "    if i == n :\n",
    "        print(n,\"찾기 성공!!\")\n",
    "        \n",
    "\n",
    "# 바이너리 서치(정렬되었을시) o(log N )\n",
    "\n",
    "# start,end = 0,len(_arr)-1\n",
    "\n",
    "\n",
    "# while start <= end :\n",
    "#     mid = (start + end)//2\n",
    "#     if _arr[mid] == n :\n",
    "#         print(n,\"바이너리 서치로 찾기 성공\")\n",
    "#     elif _arr[mid] < n :\n",
    "#         start = mid +1 \n",
    "#     elif _arr[mid] > n :\n",
    "#         end = mid -1\n",
    "    "
   ]
  },
  {
   "cell_type": "code",
   "execution_count": 23,
   "metadata": {},
   "outputs": [
    {
     "name": "stdout",
     "output_type": "stream",
     "text": [
      "[1, 3, 12, 0, 0]\n"
     ]
    }
   ],
   "source": [
    "# move zeros \n",
    "nums = [0, 1, 0, 3, 12]\n",
    "\n",
    "n = len(nums)\n",
    "notZeroCount = 0\n",
    "\n",
    "# 0 이 나오면그값과에 숫자를 덧 씌움\n",
    "# 인덱스 i 와, zeroCount 인덱스 \n",
    "for i in range(n):\n",
    "    if nums[i] != 0:\n",
    "        nums[notZeroCount] = nums[i]\n",
    "        notZeroCount += 1\n",
    "        \n",
    "for i in range(notZeroCount,n):\n",
    "    nums[i] = 0\n",
    "print(nums)\t#[1, 3, 12, 0, 0]"
   ]
  },
  {
   "cell_type": "code",
   "execution_count": 28,
   "metadata": {},
   "outputs": [
    {
     "name": "stdout",
     "output_type": "stream",
     "text": [
      "[1, 3, 12, 0, 0]\n"
     ]
    }
   ],
   "source": [
    "# move zeros \n",
    "nums = [0, 1, 0, 3, 12]\n",
    "\n",
    "def moveZero(nums):\n",
    "    zeroIdx = 0\n",
    "    for index in range(len(nums)):\n",
    "        if nums[index] != 0 :\n",
    "            nums[zeroIdx] = nums[index]\n",
    "            zeroIdx +=1\n",
    "    \n",
    "    for i in range(zeroIdx,len(nums)):\n",
    "        nums[i]= 0\n",
    "    return nums\n",
    "\n",
    "print(moveZero(nums))\n"
   ]
  },
  {
   "cell_type": "code",
   "execution_count": 56,
   "metadata": {},
   "outputs": [
    {
     "name": "stdout",
     "output_type": "stream",
     "text": [
      "[0, 1, 8, 11, 17, 22, 28]\n",
      "[28, 27, 20, 17, 11, 6, 0]\n",
      "3\n",
      "4\n",
      "-1\n"
     ]
    }
   ],
   "source": [
    "# find pivot index\n",
    "nums = [1,7,3,6,5,6]\n",
    "\n",
    "def findPivot_R(nums):\n",
    "    _sum = sum(nums)\n",
    "    _l = []\n",
    "    _r = []\n",
    "    for i in range(len(nums)+1): \n",
    "        _l.append(sum(nums[0:i]))\n",
    "        _r.append(_sum - sum(nums[0:i]))\n",
    "    return _r\n",
    "     \n",
    "def findPivot_L(nums):\n",
    "    _sum = sum(nums)\n",
    "    _l = []\n",
    "    _r = []\n",
    "    for i in range(len(nums)+1): \n",
    "        _l.append(sum(nums[0:i]))\n",
    "        _r.append(_sum - sum(nums[0:i]))\n",
    "    return _l\n",
    "\n",
    "L= findPivot_L(nums)\n",
    "R =findPivot_R(nums)\n",
    "print(L)\n",
    "print(R)\n",
    "\n",
    "for i in range(len(L)):\n",
    "    \n",
    "    if L[i] == R[-i] :\n",
    "        print(i)\n",
    "else:\n",
    "    print(-1)\n"
   ]
  },
  {
   "cell_type": "code",
   "execution_count": 16,
   "metadata": {},
   "outputs": [
    {
     "name": "stdout",
     "output_type": "stream",
     "text": [
      "[0, 0, 0, 1, 1, 1, 2, 2, 2]\n"
     ]
    }
   ],
   "source": [
    "# sort color\n",
    "nums = [1,0,2,2,0,1,2,1,0]\n",
    "\n",
    "\n",
    "# 이방식은 o(nlogn)\n",
    "\n",
    "def quick_sort(arr):\n",
    "    if len(arr) <= 1:\n",
    "        return arr\n",
    "    else :\n",
    "        pivot = arr[len(arr)//2]\n",
    "        left,equal,right = [],[],[]\n",
    "        for i in arr:\n",
    "            if i > pivot:\n",
    "                right.append(i)\n",
    "            elif i < pivot:\n",
    "                left.append(i)\n",
    "            elif i == pivot:\n",
    "                equal.append(i)\n",
    "        \n",
    "        return quick_sort(left)+equal+quick_sort(right)\n",
    "\n",
    "d = quick_sort(nums)\n",
    "print(d)\n",
    "        \n",
    "        "
   ]
  },
  {
   "cell_type": "code",
   "execution_count": 5,
   "metadata": {},
   "outputs": [
    {
     "name": "stdout",
     "output_type": "stream",
     "text": [
      "[0, 0, 0, 1, 1, 1, 2, 2, 2]\n"
     ]
    },
    {
     "ename": "TypeError",
     "evalue": "cannot unpack non-iterable int object",
     "output_type": "error",
     "traceback": [
      "\u001b[1;31m---------------------------------------------------------------------------\u001b[0m",
      "\u001b[1;31mTypeError\u001b[0m                                 Traceback (most recent call last)",
      "\u001b[1;32m<ipython-input-5-ea9fa166c4da>\u001b[0m in \u001b[0;36m<module>\u001b[1;34m\u001b[0m\n\u001b[0;32m     14\u001b[0m         \u001b[0m_dic\u001b[0m\u001b[1;33m[\u001b[0m\u001b[0mi\u001b[0m\u001b[1;33m]\u001b[0m \u001b[1;33m+=\u001b[0m \u001b[1;36m1\u001b[0m\u001b[1;33m\u001b[0m\u001b[1;33m\u001b[0m\u001b[0m\n\u001b[0;32m     15\u001b[0m \u001b[1;33m\u001b[0m\u001b[0m\n\u001b[1;32m---> 16\u001b[1;33m \u001b[1;32mfor\u001b[0m \u001b[0mkey\u001b[0m\u001b[1;33m,\u001b[0m\u001b[0mvalue\u001b[0m \u001b[1;32min\u001b[0m \u001b[0m_dic\u001b[0m\u001b[1;33m:\u001b[0m\u001b[1;33m\u001b[0m\u001b[1;33m\u001b[0m\u001b[0m\n\u001b[0m\u001b[0;32m     17\u001b[0m     \u001b[1;32mfor\u001b[0m \u001b[0mi\u001b[0m \u001b[1;32min\u001b[0m \u001b[0mvalue\u001b[0m\u001b[1;33m:\u001b[0m\u001b[1;33m\u001b[0m\u001b[1;33m\u001b[0m\u001b[0m\n\u001b[0;32m     18\u001b[0m         \u001b[0mprint\u001b[0m\u001b[1;33m(\u001b[0m\u001b[0mvalue\u001b[0m\u001b[1;33m)\u001b[0m\u001b[1;33m\u001b[0m\u001b[1;33m\u001b[0m\u001b[0m\n",
      "\u001b[1;31mTypeError\u001b[0m: cannot unpack non-iterable int object"
     ]
    }
   ],
   "source": [
    "# sort color\n",
    "nums = [1,0,2,2,0,1,2,1,0]\n",
    "\n",
    "nums.sort()\n",
    "\n",
    "# 이방식은 o(nlogn)\n",
    "print(nums)\n",
    "\n",
    "_dic = {}\n",
    "for i in nums:\n",
    "    if i not in _dic:\n",
    "        _dic[i] = 1\n",
    "    else :\n",
    "        _dic[i] += 1\n",
    "    \n",
    "for key,value in _dic:\n",
    "    for i in value:\n",
    "        print(value)\n",
    "        "
   ]
  },
  {
   "cell_type": "code",
   "execution_count": 17,
   "metadata": {},
   "outputs": [
    {
     "name": "stdout",
     "output_type": "stream",
     "text": [
      "[1, 2, 3, 4, 5, 6, 7]\n"
     ]
    }
   ],
   "source": [
    "# 퀵정렬 N(nlogN)\n",
    "# 정렬계의 레전드 \n",
    "nums = [6, 5, 1, 4, 7, 2, 3]\n",
    "\n",
    "\n",
    "def quick_sort(arr):\n",
    "    # 1 보다 작은 크기는 자기자신 반환\n",
    "    if len(arr) <= 1:\n",
    "        return arr\n",
    "    # 피봇은 중간값을 사용\n",
    "    pivot = arr[len(arr) // 2]\n",
    "    lesser_arr, equal_arr, greater_arr = [], [], []\n",
    "    for num in arr:\n",
    "        if num < pivot:\n",
    "            lesser_arr.append(num)\n",
    "        elif num > pivot:\n",
    "            greater_arr.append(num)\n",
    "        else:\n",
    "            equal_arr.append(num)\n",
    "            \n",
    "    return quick_sort(lesser_arr) + equal_arr + quick_sort(greater_arr)\n",
    "\n",
    "sorted = quick_sort(nums)\n",
    "print(sorted)\n"
   ]
  },
  {
   "cell_type": "code",
   "execution_count": 20,
   "metadata": {},
   "outputs": [
    {
     "name": "stdout",
     "output_type": "stream",
     "text": [
      "[0, 0, 0, 1, 1, 1, 2, 2, 2]\n"
     ]
    }
   ],
   "source": [
    "nums = [1,0,2,2,0,1,2,1,0]\n",
    "\n",
    "def sortColor(nums):\n",
    "# 총 포인터는 3개\n",
    "    idx0 = 0\n",
    "    idx2 = len(nums)-1\n",
    "    i = 0 \n",
    "    \n",
    "# 0는 맨 왠쪽에 옮겨준다\n",
    "    while i <= idx2:\n",
    "        if nums[i] == 0:\n",
    "            nums[i],nums[idx0] =nums[idx0],nums[i]\n",
    "            idx0 +=1\n",
    "            i +=1\n",
    "# 2는 맨 오른쪽에 옮겨준다 작은값이 갔을수도 있기떄문에 i 는 추가 안함\n",
    "        elif nums[i] == 2:\n",
    "            nums[i],nums[idx2] =nums[idx2],nums[i]\n",
    "            idx2 -=1\n",
    "            \n",
    "        else :\n",
    "            i +=1\n",
    "    return nums\n",
    "# 3가지색 정렬 할시 사용되는 n(n) 계싼법\n",
    "print(sortColor(nums))"
   ]
  },
  {
   "cell_type": "code",
   "execution_count": null,
   "metadata": {},
   "outputs": [],
   "source": []
  }
 ],
 "metadata": {
  "interpreter": {
   "hash": "d6ff435b63292575e421c30462bbe59b3fd5b3cb29e7f36cd4578b986181b4bd"
  },
  "kernelspec": {
   "display_name": "Python 3.8.8 ('base')",
   "language": "python",
   "name": "python3"
  },
  "language_info": {
   "codemirror_mode": {
    "name": "ipython",
    "version": 3
   },
   "file_extension": ".py",
   "mimetype": "text/x-python",
   "name": "python",
   "nbconvert_exporter": "python",
   "pygments_lexer": "ipython3",
   "version": "3.8.8"
  },
  "orig_nbformat": 4
 },
 "nbformat": 4,
 "nbformat_minor": 2
}
