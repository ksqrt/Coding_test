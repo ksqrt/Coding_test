{
 "cells": [
  {
   "cell_type": "code",
   "execution_count": 33,
   "metadata": {},
   "outputs": [
    {
     "name": "stdout",
     "output_type": "stream",
     "text": [
      "True\n"
     ]
    }
   ],
   "source": [
    "# 파이썬에서의 스택=list 를 사용 \n",
    "# 코딩테스트 팁 ! 괄호 열리고 닫히는건 스택으로 풀자!\n",
    "s = input()\n",
    "\n",
    "def isVaild(_list):\n",
    "\n",
    "    stack1 = []\n",
    "\n",
    "    for i in _list:\n",
    "        if i == \"(\":\n",
    "            stack1.append(i)\n",
    "        elif i == \"{\":\n",
    "            stack1.append(i)\n",
    "        elif i == \"[\":\n",
    "            stack1.append(i)\n",
    "        elif i == \")\":\n",
    "            if stack1.pop() != \"(\" or len(stack1)==0:\n",
    "                return False\n",
    "        elif i == \"}\":\n",
    "            if stack1.pop() != \"{\" or len(stack1)==0:\n",
    "                return False\n",
    "        elif i == \"]\":\n",
    "            if stack1.pop() != \"[\" or len(stack1)==0:\n",
    "                return False\n",
    "    if len(stack1) == 0:\n",
    "        return True\n",
    "    else :\n",
    "        return False\n",
    "\n",
    "print(isVaild(s))\n",
    "        "
   ]
  },
  {
   "cell_type": "code",
   "execution_count": 34,
   "metadata": {},
   "outputs": [
    {
     "data": {
      "text/plain": [
       "False"
      ]
     },
     "execution_count": 34,
     "metadata": {},
     "output_type": "execute_result"
    }
   ],
   "source": [
    "def isValid(self,s:str) -> bool:\n",
    "    return True\n",
    "\n",
    "isVaild(\"{{}}\")"
   ]
  }
 ],
 "metadata": {
  "interpreter": {
   "hash": "d6ff435b63292575e421c30462bbe59b3fd5b3cb29e7f36cd4578b986181b4bd"
  },
  "kernelspec": {
   "display_name": "Python 3.8.8 ('base')",
   "language": "python",
   "name": "python3"
  },
  "language_info": {
   "codemirror_mode": {
    "name": "ipython",
    "version": 3
   },
   "file_extension": ".py",
   "mimetype": "text/x-python",
   "name": "python",
   "nbconvert_exporter": "python",
   "pygments_lexer": "ipython3",
   "version": "3.8.8"
  },
  "orig_nbformat": 4
 },
 "nbformat": 4,
 "nbformat_minor": 2
}
