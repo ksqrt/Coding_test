{
 "cells": [
  {
   "cell_type": "code",
   "execution_count": 2,
   "metadata": {},
   "outputs": [
    {
     "ename": "SyntaxError",
     "evalue": "unexpected EOF while parsing (<ipython-input-2-2199bf04ab6e>, line 14)",
     "output_type": "error",
     "traceback": [
      "\u001b[1;36m  File \u001b[1;32m\"<ipython-input-2-2199bf04ab6e>\"\u001b[1;36m, line \u001b[1;32m14\u001b[0m\n\u001b[1;33m    \u001b[0m\n\u001b[1;37m    ^\u001b[0m\n\u001b[1;31mSyntaxError\u001b[0m\u001b[1;31m:\u001b[0m unexpected EOF while parsing\n"
     ]
    }
   ],
   "source": [
    "# kmp / rabin-pop 알고리즘\n",
    "# 문자열검색를 o(n) 으로 해결가능\n",
    "\n",
    "\n",
    "_list = \"aaaaabc\"\n",
    "\n",
    "target = \"aaab\"\n",
    "\n",
    "for i in range(len(_list)):\n",
    "    idx2 = i\n",
    "    if _list[i] == target[idx2]:\n",
    "        idx2 +=1\n",
    "    else:\n",
    "        "
   ]
  },
  {
   "cell_type": "code",
   "execution_count": 32,
   "metadata": {},
   "outputs": [
    {
     "data": {
      "text/plain": [
       "2"
      ]
     },
     "execution_count": 32,
     "metadata": {},
     "output_type": "execute_result"
    }
   ],
   "source": [
    "# Rabin-karp(라빈 카프)\n",
    "\n",
    "# o(n)의 시간복잡도\n",
    "\n",
    "def Rabinkarp(text,target):\n",
    "    # 1. 타겟문자열의 해시값 저장\n",
    "    hash1 = hash(target)\n",
    "    for i in range(len(text)):\n",
    "        # 2. 반복문을통해 타겟 문자열 크기만큼의 슬라이드의 해시값을 저장 \n",
    "        slide = text[i:i+len(target)]\n",
    "        hs = hash(slide)   \n",
    "        # 3. 두개의 해시값을 비교 다르면 문자열이 같은지 비교\n",
    "        # 해시값이 같아도 문자열은 다른경우가 있으므로(해시충돌)비교확인\n",
    "        if hs == hash1 :\n",
    "            if target == slide:\n",
    "                return i\n",
    "    \n",
    "    return -1\n",
    "\n",
    "Rabinkarp(\"fuckyou\",\"ckyo\")"
   ]
  },
  {
   "cell_type": "code",
   "execution_count": 33,
   "metadata": {},
   "outputs": [
    {
     "name": "stdout",
     "output_type": "stream",
     "text": [
      "-1697665729089808625\n"
     ]
    }
   ],
   "source": [
    "hash1 = hash(\"target\")\n",
    "\n",
    "print(hash1)"
   ]
  },
  {
   "cell_type": "code",
   "execution_count": 46,
   "metadata": {},
   "outputs": [
    {
     "name": "stdout",
     "output_type": "stream",
     "text": [
      "ada_\n",
      "ada\n",
      "this is pal\n"
     ]
    },
    {
     "data": {
      "text/plain": [
       "True"
      ]
     },
     "execution_count": 46,
     "metadata": {},
     "output_type": "execute_result"
    }
   ],
   "source": [
    "# 팔린드롬\n",
    "\n",
    "str1 = \"ada_\"\n",
    "\n",
    "def delEmo(str):\n",
    "    tmpStr = \"\"\n",
    "    for i in str :\n",
    "        if 97<=ord(i) <=122:\n",
    "            tmpStr +=i\n",
    "    return tmpStr\n",
    "            \n",
    "\n",
    "def pal(str1):    \n",
    "    for i in range(len(str1)):\n",
    "        \n",
    "        reverse = str1[::-1]\n",
    "    \n",
    "        if str1[i] != reverse[i]:\n",
    "            print(\"It is not palindrome\")\n",
    "            return False\n",
    "    \n",
    "    print(\"this is pal\")\n",
    "    return True\n",
    "\n",
    "# 알파벳이 아닌문자를 삭제\n",
    "print(str1)\n",
    "print(delEmo(str1))\n",
    "pal(delEmo(str1))"
   ]
  },
  {
   "cell_type": "code",
   "execution_count": 48,
   "metadata": {},
   "outputs": [
    {
     "data": {
      "text/plain": [
       "'468'"
      ]
     },
     "execution_count": 48,
     "metadata": {},
     "output_type": "execute_result"
    }
   ],
   "source": [
    "# add Strings\n",
    "\n",
    "def addString(num1,num2):\n",
    "    \n",
    "    return str(int(num1)+int(num2))\n",
    "\n",
    "\n",
    "addString(\"123\",\"345\")"
   ]
  },
  {
   "cell_type": "code",
   "execution_count": 1,
   "metadata": {},
   "outputs": [
    {
     "name": "stdout",
     "output_type": "stream",
     "text": [
      "{'abc': ['abc', 'bca'], 'cde': ['cde', 'dec'], 'acd': ['adc'], 'ab': ['ba']}\n"
     ]
    }
   ],
   "source": [
    "# 그룹 아나그램\n",
    "inp = [\"abc\",\"cde\",\"bca\",\"adc\",\"dec\",\"ba\"]\n",
    "\n",
    "tmp = {}\n",
    "#  n*(nlogn)\n",
    "for i in inp:\n",
    "    k = list(i)\n",
    "    k.sort()\n",
    "    # 리스트를 문자열로 !\n",
    "    k = \"\".join(map(str,k))\n",
    "    \n",
    "    # 처음 키값이면 딕셔너리에 리스트를 만든뒤\n",
    "    if k not in tmp:\n",
    "        tmp[k] = [i]\n",
    "    # 이미 있는 키값이면 그 리스트에 append\n",
    "    else:\n",
    "        tmp[k].append(i)\n",
    "print(tmp)\n",
    "\n"
   ]
  },
  {
   "cell_type": "code",
   "execution_count": 4,
   "metadata": {},
   "outputs": [
    {
     "name": "stdout",
     "output_type": "stream",
     "text": [
      "YES\n"
     ]
    }
   ],
   "source": [
    "a = input()\n",
    "b = input()\n",
    "tmp = {}\n",
    "tmp2 = {}\n",
    "for i in a:\n",
    "    tmp[i] = tmp.get(i,0)+1\n",
    "for i in b:\n",
    "    tmp2[i] = tmp2.get(i,0)+1\n",
    "    \n",
    "if tmp == tmp2:\n",
    "    print(\"YES\")\n",
    "else:\n",
    "    print(\"No\")"
   ]
  },
  {
   "cell_type": "code",
   "execution_count": 52,
   "metadata": {},
   "outputs": [
    {
     "data": {
      "text/plain": [
       "[{'a': 1, 'b': 1, 'c': 1},\n",
       " {'c': 1, 'd': 1, 'e': 1},\n",
       " {'b': 1, 'c': 1, 'a': 1},\n",
       " {'a': 1, 'd': 1, 'c': 1},\n",
       " {'d': 1, 'e': 1, 'c': 1},\n",
       " {'b': 1, 'a': 1}]"
      ]
     },
     "execution_count": 52,
     "metadata": {},
     "output_type": "execute_result"
    }
   ],
   "source": [
    "# 그룹 아나그램\n",
    "inp = [\"abc\",\"cde\",\"bca\",\"adc\",\"dec\",\"ba\"]\n",
    "\n",
    "def anHash(list1):\n",
    "    stack = []\n",
    "    for i in list1:\n",
    "        tmp = {}\n",
    "        for j in i:\n",
    "            tmp[j]=tmp.get(j,0)+1\n",
    "        stack.append(tmp)  \n",
    "    return stack\n",
    "\n",
    "\n",
    "hashed = anHash(inp)\n",
    "hashed"
   ]
  },
  {
   "cell_type": "code",
   "execution_count": 84,
   "metadata": {},
   "outputs": [
    {
     "data": {
      "text/plain": [
       "dict_values([['abc', 'bca'], ['cde', 'dec'], ['adc'], ['ba']])"
      ]
     },
     "execution_count": 84,
     "metadata": {},
     "output_type": "execute_result"
    }
   ],
   "source": [
    "from collections import defaultdict\n",
    "\n",
    "\n",
    "def groupAnagrams(strs):\n",
    "    # 리스트가 들어갈수있는 기본 딕셔너리\n",
    "    anagrams = defaultdict(list)\n",
    "    for word in strs:\n",
    "        # 기본 딕셔너리에 정렬후 key 값이 같은 단어를추가 \n",
    "        anagrams[str(sorted(word))].append(word)\n",
    "    return anagrams.values()\n",
    "\n",
    "inp = [\"abc\",\"cde\",\"bca\",\"adc\",\"dec\",\"ba\"]\n",
    "\n",
    "groupAnagrams(inp)\n"
   ]
  },
  {
   "cell_type": "code",
   "execution_count": 85,
   "metadata": {},
   "outputs": [
    {
     "name": "stdout",
     "output_type": "stream",
     "text": [
      "defaultdict(<class 'int'>, {'d': 2, 'o': 2, 'n': 2, 'g': 2, 'f': 1, 'a': 1, 't': 1, 'h': 1, 'e': 1, 'r': 1})\n"
     ]
    },
    {
     "ename": "",
     "evalue": "",
     "output_type": "error",
     "traceback": [
      "\u001b[1;31mThe Kernel crashed while executing code in the the current cell or a previous cell. Please review the code in the cell(s) to identify a possible cause of the failure. Click <a href='https://aka.ms/vscodeJupyterKernelCrash'>here</a> for more info. View Jupyter <a href='command:jupyter.viewOutput'>log</a> for further details."
     ]
    }
   ],
   "source": [
    "from collections import defaultdict\n",
    "int_dic = defaultdict(int)\n",
    "\n",
    "int_dic [\"key1\"]\n",
    "int_dic [\"key2\"] = \"test\"\n",
    "int_dic\n",
    "\n",
    "letters = \"dongdongfather\"\n",
    "\n",
    "letters_dict = defaultdict(int)\n",
    "for i in letters:\n",
    "    letters_dict[i] +=1\n",
    "    # 디폴트 딕셔너리는 초기값을 0 으로 세팅함\n",
    "    # 따라서 그냥 +1 해주면 된다\n",
    "print(letters_dict)"
   ]
  },
  {
   "cell_type": "code",
   "execution_count": 6,
   "metadata": {},
   "outputs": [],
   "source": [
    "from collections import defaultdict\n",
    "\n",
    "\n",
    "def lengthOfLongestSubstring(self, s: str) -> int:\n",
    "        \n",
    "        used = {}\n",
    "        max_length = 0\n",
    "        start = 0\n",
    "\n",
    "        for index, char in enumerate(s):\n",
    "            if char in used and start <= used[char]:\n",
    "                # 기존에 나왔던 적이 있고 AND 이 글자가 현재 구간에 포함되면!\n",
    "                start = used[char]+1\n",
    "            else:\n",
    "                # 기존에 나왔던 적이 없거나 OR 이 글자가 현재 구간에 포함되지 않으면!\n",
    "                max_length = max(max_length, index-start+1)\n",
    "            used[char] = index  # 나온 위치를 기록\n",
    "        return max_length\n"
   ]
  }
 ],
 "metadata": {
  "interpreter": {
   "hash": "d6ff435b63292575e421c30462bbe59b3fd5b3cb29e7f36cd4578b986181b4bd"
  },
  "kernelspec": {
   "display_name": "Python 3.8.8 ('base')",
   "language": "python",
   "name": "python3"
  },
  "language_info": {
   "codemirror_mode": {
    "name": "ipython",
    "version": 3
   },
   "file_extension": ".py",
   "mimetype": "text/x-python",
   "name": "python",
   "nbconvert_exporter": "python",
   "pygments_lexer": "ipython3",
   "version": "3.8.8"
  },
  "orig_nbformat": 4
 },
 "nbformat": 4,
 "nbformat_minor": 2
}
