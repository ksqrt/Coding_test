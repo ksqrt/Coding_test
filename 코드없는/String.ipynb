{
 "cells": [
  {
   "cell_type": "code",
   "execution_count": 2,
   "metadata": {},
   "outputs": [
    {
     "ename": "SyntaxError",
     "evalue": "unexpected EOF while parsing (<ipython-input-2-2199bf04ab6e>, line 14)",
     "output_type": "error",
     "traceback": [
      "\u001b[1;36m  File \u001b[1;32m\"<ipython-input-2-2199bf04ab6e>\"\u001b[1;36m, line \u001b[1;32m14\u001b[0m\n\u001b[1;33m    \u001b[0m\n\u001b[1;37m    ^\u001b[0m\n\u001b[1;31mSyntaxError\u001b[0m\u001b[1;31m:\u001b[0m unexpected EOF while parsing\n"
     ]
    }
   ],
   "source": [
    "# kmp / rabin-pop 알고리즘\n",
    "# 문자열검색를 o(n) 으로 해결가능\n",
    "\n",
    "\n",
    "_list = \"aaaaabc\"\n",
    "\n",
    "target = \"aaab\"\n",
    "\n",
    "for i in range(len(_list)):\n",
    "    idx2 = i\n",
    "    if _list[i] == target[idx2]:\n",
    "        idx2 +=1\n",
    "    else:\n",
    "        "
   ]
  },
  {
   "cell_type": "code",
   "execution_count": 30,
   "metadata": {},
   "outputs": [
    {
     "data": {
      "text/plain": [
       "-1"
      ]
     },
     "execution_count": 30,
     "metadata": {},
     "output_type": "execute_result"
    }
   ],
   "source": [
    "# Rabin-karp(라빈 카프)\n",
    "\n",
    "# o(n)\n",
    "\n",
    "def Rabinkarp(text,target):\n",
    "    hash1 = hash(target)\n",
    "    for i in range(len(text)):\n",
    "        slide = text[i:i+len(target)]\n",
    "        hs = hash(slide)   \n",
    "        if hs == hash1 :\n",
    "            if target == slide:\n",
    "                return i\n",
    "    \n",
    "    return -1\n",
    "\n",
    "Rabinkarp(\"fuckyou\",\"ckyo\")"
   ]
  },
  {
   "cell_type": "code",
   "execution_count": 23,
   "metadata": {},
   "outputs": [
    {
     "name": "stdout",
     "output_type": "stream",
     "text": [
      "-1697665729089808625\n"
     ]
    }
   ],
   "source": [
    "hash1 = hash(\"target\")\n",
    "\n",
    "print(hash1)"
   ]
  }
 ],
 "metadata": {
  "interpreter": {
   "hash": "d6ff435b63292575e421c30462bbe59b3fd5b3cb29e7f36cd4578b986181b4bd"
  },
  "kernelspec": {
   "display_name": "Python 3.8.8 ('base')",
   "language": "python",
   "name": "python3"
  },
  "language_info": {
   "codemirror_mode": {
    "name": "ipython",
    "version": 3
   },
   "file_extension": ".py",
   "mimetype": "text/x-python",
   "name": "python",
   "nbconvert_exporter": "python",
   "pygments_lexer": "ipython3",
   "version": "3.8.8"
  },
  "orig_nbformat": 4
 },
 "nbformat": 4,
 "nbformat_minor": 2
}
