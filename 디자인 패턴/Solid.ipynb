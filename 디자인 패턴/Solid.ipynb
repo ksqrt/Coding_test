{
 "cells": [
  {
   "cell_type": "code",
   "execution_count": 1,
   "metadata": {},
   "outputs": [
    {
     "name": "stdout",
     "output_type": "stream",
     "text": [
      "hello world\n"
     ]
    }
   ],
   "source": [
    "print(\"hello world\")"
   ]
  },
  {
   "cell_type": "code",
   "execution_count": 5,
   "metadata": {},
   "outputs": [
    {
     "name": "stdout",
     "output_type": "stream",
     "text": [
      "3\n",
      "3\n"
     ]
    }
   ],
   "source": [
    "# 다자인패턴 솔리드 원칙\n",
    "# 함수는 각자 자기기능하나만!\n",
    "# 합칠 필요가 없어\n",
    "def add(num1,num2):\n",
    "    return num1+num2\n",
    "\n",
    "def numPrint(num):\n",
    "    print(num)\n",
    "\n",
    "def addPrint(num1,num2):\n",
    "    num = num1 + num2\n",
    "    print(num)\n",
    "    \n",
    "# 둘은 같은기능 \n",
    "numPrint(add(1,2))\n",
    "\n",
    "addPrint(1,2)"
   ]
  },
  {
   "cell_type": "code",
   "execution_count": null,
   "metadata": {},
   "outputs": [],
   "source": [
    "class Cat :\n",
    "    def __init__(self,age,name):\n",
    "        self.age = age\n",
    "        self.name = name\n",
    "    def eat(self,food):\n",
    "        pass\n",
    "    def walk(self):\n",
    "        pass\n",
    "    def eat(self,food):\n",
    "        pass\n",
    "    # 리프리젠테이션 상태 나타탬\n",
    "    def repr(self):\n",
    "        return f\n",
    "\n",
    "    # def print(self):\n",
    "    #     print(f\"age:{self.age} name:{self.name}\")\n",
    "    \n",
    "    # def log(self,logger):\n",
    "    #     logger.log(f\"age:{self.age} name:{self.name}\")\n",
    "    #     logger.log(datetime.now())   "
   ]
  }
 ],
 "metadata": {
  "interpreter": {
   "hash": "d6ff435b63292575e421c30462bbe59b3fd5b3cb29e7f36cd4578b986181b4bd"
  },
  "kernelspec": {
   "display_name": "Python 3.8.8 ('base')",
   "language": "python",
   "name": "python3"
  },
  "language_info": {
   "codemirror_mode": {
    "name": "ipython",
    "version": 3
   },
   "file_extension": ".py",
   "mimetype": "text/x-python",
   "name": "python",
   "nbconvert_exporter": "python",
   "pygments_lexer": "ipython3",
   "version": "3.8.8"
  },
  "orig_nbformat": 4
 },
 "nbformat": 4,
 "nbformat_minor": 2
}
