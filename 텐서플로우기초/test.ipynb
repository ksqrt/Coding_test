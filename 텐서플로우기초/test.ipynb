{
 "cells": [
  {
   "cell_type": "code",
   "execution_count": null,
   "metadata": {},
   "outputs": [],
   "source": [
    "dataset = '../input/covid19-chest-xray-dataset'"
   ]
  }
 ],
 "metadata": {
  "kernelspec": {
   "display_name": "Python 3.9.6 64-bit",
   "language": "python",
   "name": "python3"
  },
  "language_info": {
   "name": "python",
   "version": "3.9.6"
  },
  "orig_nbformat": 4,
  "vscode": {
   "interpreter": {
    "hash": "d950e4c32f890777a2194dc028b8528d8e3afcac7bd351498ca8ab6e2e4e0199"
   }
  }
 },
 "nbformat": 4,
 "nbformat_minor": 2
}
