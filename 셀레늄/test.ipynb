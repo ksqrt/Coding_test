{
 "cells": [
  {
   "cell_type": "code",
   "execution_count": 15,
   "metadata": {},
   "outputs": [
    {
     "name": "stderr",
     "output_type": "stream",
     "text": [
      "C:\\Users\\kwing\\AppData\\Local\\Temp/ipykernel_5404/688597188.py:22: DeprecationWarning: find_element_by_xpath is deprecated. Please use find_element(by=By.XPATH, value=xpath) instead\n",
      "  a = driver.find_element_by_xpath('//*[@id=\"container\"]/section[1]/article[2]/div[2]/table/tbody/tr[{}]/td[3]/a[1]'.format(i))\n"
     ]
    }
   ],
   "source": [
    "# 실행시 파이썬 3.9.6 으로만 할것\n",
    "\n",
    "from selenium import webdriver\n",
    "from selenium.webdriver.common.keys import Keys\n",
    "import time\n",
    "\n",
    "# 크롬드라이버 로드\n",
    "driver = webdriver.Chrome(executable_path='chromedriver')\n",
    "\n",
    "\n",
    "# \"프갤용\" 버전임 다른 갤에서 사용할땐 url 재설정\n",
    "# 념글탭을 누른 url임 페이지가 다르다면 page=1 부분을 페이지 번호로 수정해야함\n",
    "# url = \"https://gall.dcinside.com/board/lists?id=dcbest\"\n",
    "# print(\"중갤\")\n",
    "# url = \"https://gall.dcinside.com/mgallery/board/lists?id=aoegame&exception_mode=recommend\"\n",
    "print(\"프갤\")\n",
    "url = \"https://gall.dcinside.com/mgallery/board/lists/?id=purikone_redive&page=1&exception_mode=recommend\"\n",
    "driver.get(url)\n",
    "\n",
    "\n",
    "# 프갤 념글탭 1페이지 기준 세팅임 맨위 xpath 번호, 맨아래 xpath번호 체크해서 range값에 넣기, 마지막값은+1 (보통 공지 갯수만큼 밀림)\n",
    "# 2페이지부턴 공지가 안보이기때문에 무조건 range값 세팅 다시해줘야함    \n",
    "for i in range (6,52):\n",
    "    a = driver.find_element_by_xpath('//*[@id=\"container\"]/section[1]/article[2]/div[2]/table/tbody/tr[{}]/td[3]/a[1]'.format(i))\n",
    "    a.send_keys(Keys.CONTROL + \"\\n\")\n",
    "    time.sleep(1)\n"
   ]
  },
  {
   "cell_type": "code",
   "execution_count": 5,
   "metadata": {},
   "outputs": [],
   "source": [
    "import selenium\n",
    "from selenium import webdriver\n",
    "from selenium.webdriver import ActionChains\n",
    "\n",
    "from selenium.webdriver.common.keys import Keys\n",
    "from selenium.webdriver.common.by import By\n",
    "\n",
    "from selenium.webdriver.support import expected_conditions as EC\n",
    "from selenium.webdriver.support.ui import Select\n",
    "from selenium.webdriver.support.ui import WebDriverWait"
   ]
  },
  {
   "cell_type": "code",
   "execution_count": 6,
   "metadata": {},
   "outputs": [],
   "source": []
  }
 ],
 "metadata": {
  "interpreter": {
   "hash": "a1e652c232e0cefe6f97c6536d169df49659f4bdcda58c7a429b4465b653d154"
  },
  "kernelspec": {
   "display_name": "Python 3.8.8 ('base')",
   "language": "python",
   "name": "python3"
  },
  "language_info": {
   "codemirror_mode": {
    "name": "ipython",
    "version": 3
   },
   "file_extension": ".py",
   "mimetype": "text/x-python",
   "name": "python",
   "nbconvert_exporter": "python",
   "pygments_lexer": "ipython3",
   "version": "3.9.6"
  },
  "orig_nbformat": 4
 },
 "nbformat": 4,
 "nbformat_minor": 2
}
